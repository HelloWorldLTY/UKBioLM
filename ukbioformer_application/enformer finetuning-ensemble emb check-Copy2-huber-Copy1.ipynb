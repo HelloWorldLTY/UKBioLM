{
 "cells": [
  {
   "cell_type": "code",
   "execution_count": 1,
   "id": "c54450f6",
   "metadata": {},
   "outputs": [],
   "source": [
    "import pickle\n",
    "\n",
    "import grelu.sequence.format\n",
    "\n",
    "import scanpy as sc\n",
    "import pandas as pd\n",
    "\n",
    "# import pickle\n",
    "# with open('/home/tl688/pitl688/enformer_fine_tuning/all_gtex_human_sample/BTNL3_allsampleidx.pickle', 'rb') as fp:\n",
    "#     seq_list = pickle.load(fp)\n",
    "    \n",
    "    \n",
    "# import pickle\n",
    "# with open('/home/tl688/pitl688/enformer_fine_tuning/all_gtex_human_sample/all_selected_gene.pickle', 'rb') as fp:\n",
    "#     seq_list = pickle.load(fp)\n",
    "\n",
    "import pickle\n",
    "with open('/home/tl688/pitl688/enformer_fine_tuning/all_gtex_human_sample/all_selected_gene_understand_hert.pickle', 'rb') as fp:\n",
    "    seq_list = pickle.load(fp)"
   ]
  },
  {
   "cell_type": "code",
   "execution_count": 2,
   "id": "7d81678d",
   "metadata": {},
   "outputs": [],
   "source": [
    "# import loratorch"
   ]
  },
  {
   "cell_type": "code",
   "execution_count": 3,
   "id": "982460fd",
   "metadata": {},
   "outputs": [],
   "source": [
    "# import pickle\n",
    "# with open('/home/tl688/pitl688/enformer_fine_tuning/all_gtex_human_sample/all_selected_gene_geneidmap.pickle', 'rb') as fp:\n",
    "#     gene_list = pickle.load(fp)\n",
    "\n",
    "import pickle\n",
    "with open('/home/tl688/pitl688/enformer_fine_tuning/all_gtex_human_sample/all_selected_gene_understand_hert_geneidmap.pickle', 'rb') as fp:\n",
    "    gene_list = pickle.load(fp)"
   ]
  },
  {
   "cell_type": "code",
   "execution_count": 4,
   "id": "65ceccc2",
   "metadata": {},
   "outputs": [
    {
     "data": {
      "text/plain": [
       "{'MFSD9': 0,\n",
       " 'PAM': 1,\n",
       " 'MDGA1': 2,\n",
       " 'TREML4': 3,\n",
       " 'CNR1': 4,\n",
       " 'PILRA': 5,\n",
       " 'TMEM176A': 6,\n",
       " 'TMEM176B': 7,\n",
       " 'NIPAL2': 8,\n",
       " 'LRRC6': 9,\n",
       " 'PRUNE2': 10,\n",
       " 'ADARB2': 11,\n",
       " 'TMTC1': 12,\n",
       " 'SLC12A1': 13,\n",
       " 'NDEL1': 14,\n",
       " 'JUP': 15,\n",
       " 'PEX11G': 16,\n",
       " 'RPS28': 17,\n",
       " 'APOBEC3B': 18}"
      ]
     },
     "execution_count": 4,
     "metadata": {},
     "output_type": "execute_result"
    }
   ],
   "source": [
    "gene_list"
   ]
  },
  {
   "cell_type": "code",
   "execution_count": 5,
   "id": "8a645dff",
   "metadata": {},
   "outputs": [],
   "source": [
    "# gene_name = \"C17orf97\"\n",
    "gene_name = \"TREML4\"\n",
    "if gene_name == 'FAM118A':\n",
    "    with open(f'/home/tl688/pitl688/enformer_fine_tuning/all_gtex_human_sample/all_selected_gene_FAM118A.pickle', 'rb') as fp:\n",
    "        seq_list = pickle.load(fp)\n",
    "        seq_list = seq_list[19]\n",
    "else:\n",
    "    seq_list = seq_list[gene_list[gene_name]]"
   ]
  },
  {
   "cell_type": "code",
   "execution_count": null,
   "id": "7dc81483",
   "metadata": {},
   "outputs": [],
   "source": []
  },
  {
   "cell_type": "code",
   "execution_count": 6,
   "id": "9a73a609",
   "metadata": {},
   "outputs": [],
   "source": [
    "import torch"
   ]
  },
  {
   "cell_type": "code",
   "execution_count": 7,
   "id": "b164543d",
   "metadata": {},
   "outputs": [],
   "source": [
    "# ukbb_data_sample = torch.load(f\"/gpfs/radev/project/ying_rex/tl688/seq2cells_code/tests/{gene_name}_ukbiobert_emb_concat_49000_mean.pkl\")\n",
    "\n",
    "ukbb_data_sample = torch.load(f\"/home/tl688/scratch/gene_deepuse_set1_updatestable/{gene_name}_ukbiobert_emb_concat_49000_mean.pkl\")"
   ]
  },
  {
   "cell_type": "code",
   "execution_count": 8,
   "id": "0a32ce1f",
   "metadata": {},
   "outputs": [
    {
     "data": {
      "text/plain": [
       "tensor([[-0.0495,  0.0496,  0.0953,  ...,  0.1359,  0.1757,  0.1995]])"
      ]
     },
     "execution_count": 8,
     "metadata": {},
     "output_type": "execute_result"
    }
   ],
   "source": [
    "ukbb_data_sample[0].reshape(1,-1)"
   ]
  },
  {
   "cell_type": "code",
   "execution_count": 9,
   "id": "b906eb09",
   "metadata": {},
   "outputs": [
    {
     "data": {
      "text/plain": [
       "tensor([[-0.0495,  0.0496,  0.0953,  ...,  0.1359,  0.1757,  0.1995],\n",
       "        [-0.0495,  0.0496,  0.0953,  ...,  0.1359,  0.1757,  0.1995],\n",
       "        [-0.0495,  0.0496,  0.0953,  ...,  0.1359,  0.1757,  0.1995],\n",
       "        [-0.0495,  0.0496,  0.0953,  ...,  0.1359,  0.1757,  0.1995]])"
      ]
     },
     "execution_count": 9,
     "metadata": {},
     "output_type": "execute_result"
    }
   ],
   "source": [
    "ukbb_data_sample[0].reshape(1,-1).repeat(4,1)"
   ]
  },
  {
   "cell_type": "code",
   "execution_count": 10,
   "id": "7f9e5c29",
   "metadata": {},
   "outputs": [],
   "source": [
    "gene_exp = pd.read_csv(\"/home/tl688/pitl688/enformer_fine_tuning/data/gtex_eqtl_expression_matrix/Whole_Blood.v8.normalized_expression_genesymbol.csv\", sep='\\t')\n",
    "df_gene_test = gene_exp[gene_exp['gene_symbol'].isin([gene_name])]\n",
    "idx_gene = df_gene_test.index"
   ]
  },
  {
   "cell_type": "code",
   "execution_count": 11,
   "id": "c80dbf3d",
   "metadata": {},
   "outputs": [
    {
     "name": "stdout",
     "output_type": "stream",
     "text": [
      "Index([6553], dtype='int64')\n"
     ]
    }
   ],
   "source": [
    "print(idx_gene)"
   ]
  },
  {
   "cell_type": "code",
   "execution_count": 12,
   "id": "647300b5",
   "metadata": {},
   "outputs": [],
   "source": [
    "gene_exp = pd.read_csv(\"/home/tl688/pitl688/enformer_fine_tuning/data/gtex_eqtl_expression_matrix/Whole_Blood.v8.normalized_expression_genesymbol.csv\", sep='\\t')"
   ]
  },
  {
   "cell_type": "code",
   "execution_count": 13,
   "id": "18788c3e",
   "metadata": {},
   "outputs": [],
   "source": [
    "import grelu.sequence.format"
   ]
  },
  {
   "cell_type": "code",
   "execution_count": 14,
   "id": "ab39f719",
   "metadata": {},
   "outputs": [],
   "source": [
    "import scanpy as sc\n",
    "import pandas as pd"
   ]
  },
  {
   "cell_type": "code",
   "execution_count": 15,
   "id": "8cce6f56",
   "metadata": {},
   "outputs": [],
   "source": [
    "df = pd.read_csv(\"/home/tl688/pitl688/enformer_fine_tuning/data/gtex_eqtl_expression_matrix/Whole_Blood.v8.normalized_expression_genesymbol.csv\", sep='\\t')"
   ]
  },
  {
   "cell_type": "code",
   "execution_count": 16,
   "id": "a0474947",
   "metadata": {
    "scrolled": true
   },
   "outputs": [],
   "source": [
    "df_map = pd.read_csv(\"/home/tl688/pitl688/enformer_fine_tuning/data/gtex_eqtl_expression_matrix/gene_id_mapping.csv\")"
   ]
  },
  {
   "cell_type": "code",
   "execution_count": 17,
   "id": "aecac4e1",
   "metadata": {},
   "outputs": [
    {
     "data": {
      "text/html": [
       "<div>\n",
       "<style scoped>\n",
       "    .dataframe tbody tr th:only-of-type {\n",
       "        vertical-align: middle;\n",
       "    }\n",
       "\n",
       "    .dataframe tbody tr th {\n",
       "        vertical-align: top;\n",
       "    }\n",
       "\n",
       "    .dataframe thead th {\n",
       "        text-align: right;\n",
       "    }\n",
       "</style>\n",
       "<table border=\"1\" class=\"dataframe\">\n",
       "  <thead>\n",
       "    <tr style=\"text-align: right;\">\n",
       "      <th></th>\n",
       "      <th>Unnamed: 0</th>\n",
       "      <th>Name</th>\n",
       "      <th>Description</th>\n",
       "    </tr>\n",
       "  </thead>\n",
       "  <tbody>\n",
       "    <tr>\n",
       "      <th>0</th>\n",
       "      <td>0</td>\n",
       "      <td>ENSG00000223972.5</td>\n",
       "      <td>DDX11L1</td>\n",
       "    </tr>\n",
       "    <tr>\n",
       "      <th>1</th>\n",
       "      <td>1</td>\n",
       "      <td>ENSG00000227232.5</td>\n",
       "      <td>WASH7P</td>\n",
       "    </tr>\n",
       "    <tr>\n",
       "      <th>2</th>\n",
       "      <td>2</td>\n",
       "      <td>ENSG00000278267.1</td>\n",
       "      <td>MIR6859-1</td>\n",
       "    </tr>\n",
       "    <tr>\n",
       "      <th>3</th>\n",
       "      <td>3</td>\n",
       "      <td>ENSG00000243485.5</td>\n",
       "      <td>MIR1302-2HG</td>\n",
       "    </tr>\n",
       "    <tr>\n",
       "      <th>4</th>\n",
       "      <td>4</td>\n",
       "      <td>ENSG00000237613.2</td>\n",
       "      <td>FAM138A</td>\n",
       "    </tr>\n",
       "    <tr>\n",
       "      <th>...</th>\n",
       "      <td>...</td>\n",
       "      <td>...</td>\n",
       "      <td>...</td>\n",
       "    </tr>\n",
       "    <tr>\n",
       "      <th>56195</th>\n",
       "      <td>56195</td>\n",
       "      <td>ENSG00000198695.2</td>\n",
       "      <td>MT-ND6</td>\n",
       "    </tr>\n",
       "    <tr>\n",
       "      <th>56196</th>\n",
       "      <td>56196</td>\n",
       "      <td>ENSG00000210194.1</td>\n",
       "      <td>MT-TE</td>\n",
       "    </tr>\n",
       "    <tr>\n",
       "      <th>56197</th>\n",
       "      <td>56197</td>\n",
       "      <td>ENSG00000198727.2</td>\n",
       "      <td>MT-CYB</td>\n",
       "    </tr>\n",
       "    <tr>\n",
       "      <th>56198</th>\n",
       "      <td>56198</td>\n",
       "      <td>ENSG00000210195.2</td>\n",
       "      <td>MT-TT</td>\n",
       "    </tr>\n",
       "    <tr>\n",
       "      <th>56199</th>\n",
       "      <td>56199</td>\n",
       "      <td>ENSG00000210196.2</td>\n",
       "      <td>MT-TP</td>\n",
       "    </tr>\n",
       "  </tbody>\n",
       "</table>\n",
       "<p>56200 rows × 3 columns</p>\n",
       "</div>"
      ],
      "text/plain": [
       "       Unnamed: 0               Name  Description\n",
       "0               0  ENSG00000223972.5      DDX11L1\n",
       "1               1  ENSG00000227232.5       WASH7P\n",
       "2               2  ENSG00000278267.1    MIR6859-1\n",
       "3               3  ENSG00000243485.5  MIR1302-2HG\n",
       "4               4  ENSG00000237613.2      FAM138A\n",
       "...           ...                ...          ...\n",
       "56195       56195  ENSG00000198695.2       MT-ND6\n",
       "56196       56196  ENSG00000210194.1        MT-TE\n",
       "56197       56197  ENSG00000198727.2       MT-CYB\n",
       "56198       56198  ENSG00000210195.2        MT-TT\n",
       "56199       56199  ENSG00000210196.2        MT-TP\n",
       "\n",
       "[56200 rows x 3 columns]"
      ]
     },
     "execution_count": 17,
     "metadata": {},
     "output_type": "execute_result"
    }
   ],
   "source": [
    "df_map"
   ]
  },
  {
   "cell_type": "code",
   "execution_count": 18,
   "id": "d2b3f860",
   "metadata": {},
   "outputs": [],
   "source": [
    "import glob"
   ]
  },
  {
   "cell_type": "code",
   "execution_count": 19,
   "id": "9cbc0b67",
   "metadata": {},
   "outputs": [],
   "source": [
    "ind_set = []\n",
    "for item in glob.glob(\"/home/tl688/scratch/ConsensusSeqs_SNPsOnlyUnphased/*\"):\n",
    "    item_f = item.split('/')[-1].split('_')[0]\n",
    "    ind_set.append(item_f)"
   ]
  },
  {
   "cell_type": "code",
   "execution_count": 20,
   "id": "43e2ed20",
   "metadata": {
    "scrolled": true
   },
   "outputs": [],
   "source": [
    "ind_list = sorted(set(ind_set))"
   ]
  },
  {
   "cell_type": "code",
   "execution_count": 23,
   "id": "3bf63e65",
   "metadata": {},
   "outputs": [],
   "source": [
    "# ind_list"
   ]
  },
  {
   "cell_type": "code",
   "execution_count": 22,
   "id": "275615b4",
   "metadata": {},
   "outputs": [],
   "source": [
    "import grelu\n",
    "import lightning"
   ]
  },
  {
   "cell_type": "code",
   "execution_count": 23,
   "id": "1ac6d20c",
   "metadata": {},
   "outputs": [
    {
     "data": {
      "text/plain": [
       "<module 'grelu' from '/home/tl688/.conda/envs/evo/lib/python3.11/site-packages/grelu/__init__.py'>"
      ]
     },
     "execution_count": 23,
     "metadata": {},
     "output_type": "execute_result"
    }
   ],
   "source": [
    "grelu"
   ]
  },
  {
   "cell_type": "code",
   "execution_count": 24,
   "id": "ccda33b2",
   "metadata": {},
   "outputs": [
    {
     "name": "stderr",
     "output_type": "stream",
     "text": [
      "[rank: 0] Seed set to 2024\n"
     ]
    },
    {
     "data": {
      "text/plain": [
       "2024"
      ]
     },
     "execution_count": 24,
     "metadata": {},
     "output_type": "execute_result"
    }
   ],
   "source": [
    "lightning.seed_everything(2024)"
   ]
  },
  {
   "cell_type": "code",
   "execution_count": 25,
   "id": "ae0dc3a8",
   "metadata": {},
   "outputs": [
    {
     "data": {
      "text/html": [
       "<div>\n",
       "<style scoped>\n",
       "    .dataframe tbody tr th:only-of-type {\n",
       "        vertical-align: middle;\n",
       "    }\n",
       "\n",
       "    .dataframe tbody tr th {\n",
       "        vertical-align: top;\n",
       "    }\n",
       "\n",
       "    .dataframe thead th {\n",
       "        text-align: right;\n",
       "    }\n",
       "</style>\n",
       "<table border=\"1\" class=\"dataframe\">\n",
       "  <thead>\n",
       "    <tr style=\"text-align: right;\">\n",
       "      <th></th>\n",
       "      <th>Unnamed: 0</th>\n",
       "      <th>#chr</th>\n",
       "      <th>start</th>\n",
       "      <th>end</th>\n",
       "      <th>gene_id</th>\n",
       "      <th>GTEX-111YS</th>\n",
       "      <th>GTEX-1122O</th>\n",
       "      <th>GTEX-1128S</th>\n",
       "      <th>GTEX-113IC</th>\n",
       "      <th>GTEX-113JC</th>\n",
       "      <th>...</th>\n",
       "      <th>GTEX-ZVE2</th>\n",
       "      <th>GTEX-ZVP2</th>\n",
       "      <th>GTEX-ZVT2</th>\n",
       "      <th>GTEX-ZVT3</th>\n",
       "      <th>GTEX-ZVT4</th>\n",
       "      <th>GTEX-ZVZP</th>\n",
       "      <th>GTEX-ZVZQ</th>\n",
       "      <th>GTEX-ZXES</th>\n",
       "      <th>GTEX-ZXG5</th>\n",
       "      <th>gene_symbol</th>\n",
       "    </tr>\n",
       "  </thead>\n",
       "  <tbody>\n",
       "    <tr>\n",
       "      <th>0</th>\n",
       "      <td>0</td>\n",
       "      <td>chr1</td>\n",
       "      <td>29552</td>\n",
       "      <td>29553</td>\n",
       "      <td>ENSG00000227232.5</td>\n",
       "      <td>-1.225024</td>\n",
       "      <td>-0.853391</td>\n",
       "      <td>0.429361</td>\n",
       "      <td>0.853391</td>\n",
       "      <td>-0.706494</td>\n",
       "      <td>...</td>\n",
       "      <td>-1.135099</td>\n",
       "      <td>-0.479065</td>\n",
       "      <td>-0.170799</td>\n",
       "      <td>-1.079918</td>\n",
       "      <td>0.148098</td>\n",
       "      <td>0.372677</td>\n",
       "      <td>0.948702</td>\n",
       "      <td>-0.517128</td>\n",
       "      <td>0.765266</td>\n",
       "      <td>WASH7P</td>\n",
       "    </tr>\n",
       "    <tr>\n",
       "      <th>1</th>\n",
       "      <td>1</td>\n",
       "      <td>chr1</td>\n",
       "      <td>129222</td>\n",
       "      <td>129223</td>\n",
       "      <td>ENSG00000238009.6</td>\n",
       "      <td>-0.673318</td>\n",
       "      <td>0.121709</td>\n",
       "      <td>-0.654690</td>\n",
       "      <td>-1.178870</td>\n",
       "      <td>-0.837370</td>\n",
       "      <td>...</td>\n",
       "      <td>0.231802</td>\n",
       "      <td>1.060053</td>\n",
       "      <td>0.925522</td>\n",
       "      <td>-0.167010</td>\n",
       "      <td>0.673318</td>\n",
       "      <td>0.555955</td>\n",
       "      <td>-0.716116</td>\n",
       "      <td>-0.600107</td>\n",
       "      <td>-0.321097</td>\n",
       "      <td>RP11-34P13.7</td>\n",
       "    </tr>\n",
       "    <tr>\n",
       "      <th>2</th>\n",
       "      <td>2</td>\n",
       "      <td>chr1</td>\n",
       "      <td>131024</td>\n",
       "      <td>131025</td>\n",
       "      <td>ENSG00000233750.3</td>\n",
       "      <td>0.301491</td>\n",
       "      <td>0.858780</td>\n",
       "      <td>-0.437569</td>\n",
       "      <td>-1.558035</td>\n",
       "      <td>-0.770282</td>\n",
       "      <td>...</td>\n",
       "      <td>-1.241002</td>\n",
       "      <td>0.013075</td>\n",
       "      <td>0.529981</td>\n",
       "      <td>-2.134683</td>\n",
       "      <td>-0.031758</td>\n",
       "      <td>2.614268</td>\n",
       "      <td>-1.509592</td>\n",
       "      <td>0.328973</td>\n",
       "      <td>0.151876</td>\n",
       "      <td>CICP27</td>\n",
       "    </tr>\n",
       "    <tr>\n",
       "      <th>3</th>\n",
       "      <td>3</td>\n",
       "      <td>chr1</td>\n",
       "      <td>135894</td>\n",
       "      <td>135895</td>\n",
       "      <td>ENSG00000268903.1</td>\n",
       "      <td>0.417104</td>\n",
       "      <td>0.376684</td>\n",
       "      <td>0.816338</td>\n",
       "      <td>-2.614268</td>\n",
       "      <td>-0.931270</td>\n",
       "      <td>...</td>\n",
       "      <td>-0.313240</td>\n",
       "      <td>-0.001868</td>\n",
       "      <td>0.429361</td>\n",
       "      <td>-1.558035</td>\n",
       "      <td>1.009019</td>\n",
       "      <td>1.114008</td>\n",
       "      <td>-1.100218</td>\n",
       "      <td>-0.356707</td>\n",
       "      <td>-0.065421</td>\n",
       "      <td>RP11-34P13.15</td>\n",
       "    </tr>\n",
       "    <tr>\n",
       "      <th>4</th>\n",
       "      <td>4</td>\n",
       "      <td>chr1</td>\n",
       "      <td>137964</td>\n",
       "      <td>137965</td>\n",
       "      <td>ENSG00000269981.1</td>\n",
       "      <td>0.891654</td>\n",
       "      <td>0.309319</td>\n",
       "      <td>1.178870</td>\n",
       "      <td>-2.614268</td>\n",
       "      <td>-0.821562</td>\n",
       "      <td>...</td>\n",
       "      <td>-0.254890</td>\n",
       "      <td>-0.313240</td>\n",
       "      <td>0.372677</td>\n",
       "      <td>-1.883649</td>\n",
       "      <td>0.760269</td>\n",
       "      <td>0.396813</td>\n",
       "      <td>-1.862071</td>\n",
       "      <td>-0.372677</td>\n",
       "      <td>-0.274234</td>\n",
       "      <td>RP11-34P13.16</td>\n",
       "    </tr>\n",
       "  </tbody>\n",
       "</table>\n",
       "<p>5 rows × 676 columns</p>\n",
       "</div>"
      ],
      "text/plain": [
       "   Unnamed: 0  #chr   start     end            gene_id  GTEX-111YS  \\\n",
       "0           0  chr1   29552   29553  ENSG00000227232.5   -1.225024   \n",
       "1           1  chr1  129222  129223  ENSG00000238009.6   -0.673318   \n",
       "2           2  chr1  131024  131025  ENSG00000233750.3    0.301491   \n",
       "3           3  chr1  135894  135895  ENSG00000268903.1    0.417104   \n",
       "4           4  chr1  137964  137965  ENSG00000269981.1    0.891654   \n",
       "\n",
       "   GTEX-1122O  GTEX-1128S  GTEX-113IC  GTEX-113JC  ...  GTEX-ZVE2  GTEX-ZVP2  \\\n",
       "0   -0.853391    0.429361    0.853391   -0.706494  ...  -1.135099  -0.479065   \n",
       "1    0.121709   -0.654690   -1.178870   -0.837370  ...   0.231802   1.060053   \n",
       "2    0.858780   -0.437569   -1.558035   -0.770282  ...  -1.241002   0.013075   \n",
       "3    0.376684    0.816338   -2.614268   -0.931270  ...  -0.313240  -0.001868   \n",
       "4    0.309319    1.178870   -2.614268   -0.821562  ...  -0.254890  -0.313240   \n",
       "\n",
       "   GTEX-ZVT2  GTEX-ZVT3  GTEX-ZVT4  GTEX-ZVZP  GTEX-ZVZQ  GTEX-ZXES  \\\n",
       "0  -0.170799  -1.079918   0.148098   0.372677   0.948702  -0.517128   \n",
       "1   0.925522  -0.167010   0.673318   0.555955  -0.716116  -0.600107   \n",
       "2   0.529981  -2.134683  -0.031758   2.614268  -1.509592   0.328973   \n",
       "3   0.429361  -1.558035   1.009019   1.114008  -1.100218  -0.356707   \n",
       "4   0.372677  -1.883649   0.760269   0.396813  -1.862071  -0.372677   \n",
       "\n",
       "   GTEX-ZXG5    gene_symbol  \n",
       "0   0.765266         WASH7P  \n",
       "1  -0.321097   RP11-34P13.7  \n",
       "2   0.151876         CICP27  \n",
       "3  -0.065421  RP11-34P13.15  \n",
       "4  -0.274234  RP11-34P13.16  \n",
       "\n",
       "[5 rows x 676 columns]"
      ]
     },
     "execution_count": 25,
     "metadata": {},
     "output_type": "execute_result"
    }
   ],
   "source": [
    "df.head()"
   ]
  },
  {
   "cell_type": "code",
   "execution_count": 26,
   "id": "91a1212c",
   "metadata": {
    "scrolled": true
   },
   "outputs": [],
   "source": [
    "list_f = sorted(set(df.columns).intersection(ind_list))"
   ]
  },
  {
   "cell_type": "code",
   "execution_count": 27,
   "id": "fdd4878c",
   "metadata": {},
   "outputs": [
    {
     "data": {
      "text/plain": [
       "670"
      ]
     },
     "execution_count": 27,
     "metadata": {},
     "output_type": "execute_result"
    }
   ],
   "source": [
    "len(list_f)"
   ]
  },
  {
   "cell_type": "code",
   "execution_count": 28,
   "id": "096907a2",
   "metadata": {},
   "outputs": [],
   "source": [
    "from sklearn.metrics import r2_score\n",
    "import scipy.stats\n",
    "import sklearn.metrics"
   ]
  },
  {
   "cell_type": "code",
   "execution_count": 29,
   "id": "a548bb29",
   "metadata": {},
   "outputs": [],
   "source": [
    "df_train_update = pd.DataFrame(seq_list['H2'])"
   ]
  },
  {
   "cell_type": "code",
   "execution_count": 30,
   "id": "911acb6d",
   "metadata": {},
   "outputs": [],
   "source": [
    "df_train_update.index = list_f"
   ]
  },
  {
   "cell_type": "code",
   "execution_count": 31,
   "id": "1dec416b",
   "metadata": {},
   "outputs": [],
   "source": [
    "gene_exp = pd.read_csv(\"/home/tl688/pitl688/enformer_fine_tuning/data/gtex_eqtl_expression_matrix/Whole_Blood.v8.normalized_expression_genesymbol.csv\", sep='\\t')"
   ]
  },
  {
   "cell_type": "code",
   "execution_count": 32,
   "id": "53e8bba5",
   "metadata": {},
   "outputs": [],
   "source": [
    "# !nvidia-smi"
   ]
  },
  {
   "cell_type": "code",
   "execution_count": 33,
   "id": "26041073",
   "metadata": {},
   "outputs": [],
   "source": [
    "gene_exp_train = gene_exp[list_f]"
   ]
  },
  {
   "cell_type": "code",
   "execution_count": 34,
   "id": "f312dce6",
   "metadata": {},
   "outputs": [],
   "source": [
    "import os"
   ]
  },
  {
   "cell_type": "code",
   "execution_count": 35,
   "id": "c8beec13",
   "metadata": {},
   "outputs": [
    {
     "data": {
      "text/plain": [
       "5"
      ]
     },
     "execution_count": 35,
     "metadata": {},
     "output_type": "execute_result"
    }
   ],
   "source": [
    "import sklearn\n",
    "import numpy as np\n",
    "from sklearn.model_selection import KFold\n",
    "kf = KFold(n_splits=5, random_state=2024, shuffle=True, )\n",
    "kf.get_n_splits(df_train_update.index)"
   ]
  },
  {
   "cell_type": "code",
   "execution_count": 36,
   "id": "c928a71d",
   "metadata": {},
   "outputs": [],
   "source": [
    "import shutil"
   ]
  },
  {
   "cell_type": "code",
   "execution_count": 37,
   "id": "b4c1326f",
   "metadata": {},
   "outputs": [],
   "source": [
    "seq_len = 100_000\n",
    "# seq_len = 100_000"
   ]
  },
  {
   "cell_type": "code",
   "execution_count": 38,
   "id": "829add5c",
   "metadata": {},
   "outputs": [],
   "source": [
    "start = 100000 - seq_len//2\n",
    "end = 100000 + seq_len//2"
   ]
  },
  {
   "cell_type": "code",
   "execution_count": 39,
   "id": "8ee97104",
   "metadata": {},
   "outputs": [],
   "source": [
    "# df_train_update.values"
   ]
  },
  {
   "cell_type": "code",
   "execution_count": 40,
   "id": "b0c275f9",
   "metadata": {},
   "outputs": [
    {
     "data": {
      "text/plain": [
       "(670, 1)"
      ]
     },
     "execution_count": 40,
     "metadata": {},
     "output_type": "execute_result"
    }
   ],
   "source": [
    "df_train_update.values.shape"
   ]
  },
  {
   "cell_type": "code",
   "execution_count": 41,
   "id": "407490d6",
   "metadata": {},
   "outputs": [],
   "source": [
    "df_train_update = pd.DataFrame([i[start:end] for i in seq_list['H2']])\n",
    "\n",
    "df_train_update.index = list_f"
   ]
  },
  {
   "cell_type": "code",
   "execution_count": 42,
   "id": "dcd497a1",
   "metadata": {
    "scrolled": true
   },
   "outputs": [],
   "source": [
    "# data_list = []\n",
    "# for i, (train_index, test_index) in enumerate(kf.split(df_train_update.index)):\n",
    "#     if i!=4:\n",
    "#         train_id = df_train_update.index[train_index]\n",
    "#         test_id = df_train_update.index[test_index]\n",
    "\n",
    "#         id_train, id_valid = sklearn.model_selection.train_test_split(train_id)\n",
    "        \n",
    "#         start = 100000 - seq_len//2\n",
    "#         end = 100000 + seq_len//2\n",
    "\n",
    "#         data_train =df_train_update.loc[id_train].values\n",
    "#         y_train = gene_exp_train.loc[idx_gene,id_train].values[0]\n",
    "\n",
    "#         data_valid = df_train_update.loc[id_valid].values\n",
    "#         y_valid = gene_exp_train.loc[idx_gene,id_valid].values[0]\n",
    "\n",
    "#         data_test = df_train_update.loc[test_id].values\n",
    "#         y_test = gene_exp_train.loc[idx_gene,test_id].values[0]\n",
    "\n",
    "#         experiment='tutorial_enformer_1e4_singleseq_H2'\n",
    "#         if not os.path.exists(experiment):\n",
    "#             os.makedirs(experiment)\n",
    "#         else:\n",
    "#             files = glob.glob(experiment + \"/*\")\n",
    "#             for f in files:\n",
    "#                 shutil.rmtree(f)\n",
    "\n",
    "#         import grelu.data.dataset\n",
    "#         df_train = pd.DataFrame()\n",
    "#         df_train['input_seq'] = data_train.flatten()\n",
    "#         df_train['label'] = y_train\n",
    "\n",
    "#         train_dataset = grelu.data.dataset.DFSeqDataset(df_train)\n",
    "\n",
    "#         df_valid = pd.DataFrame()\n",
    "#         df_valid['input_seq'] =data_valid.flatten()\n",
    "#         df_valid['label'] = y_valid\n",
    "\n",
    "#         valid_dataset = grelu.data.dataset.DFSeqDataset(df_valid)\n",
    "\n",
    "#         df_test = pd.DataFrame()\n",
    "#         df_test['input_seq'] = data_test.flatten()\n",
    "#         df_test['label'] = y_test\n",
    "\n",
    "#         test_dataset = grelu.data.dataset.DFSeqDataset(df_test)\n",
    "\n",
    "#         model_params = {\n",
    "#             'model_type':'EnformerPretrainedModel', # Type of model\n",
    "#             'n_tasks': 1, # Number of cell types to predict\n",
    "#             'crop_len':0, # No cropping of the model output\n",
    "#             'n_transformers': 11, # Number of transformer layers; the published Enformer model has 11\n",
    "#         }\n",
    "\n",
    "#         train_params = {\n",
    "#             'task':'regression', # binary classification\n",
    "#             'lr':5e-4, # learning rate\n",
    "#             'logger': 'csv', # Logs will be written to a CSV file\n",
    "#             'batch_size': 2,\n",
    "#             'num_workers': 8,\n",
    "#             'devices': 0, # GPU index\n",
    "#             'save_dir': experiment,\n",
    "#             'optimizer': 'adam',\n",
    "#             'max_epochs': 100,\n",
    "#             'checkpoint': True, # Save checkpoints\n",
    "#             'loss': 'mse'\n",
    "#         }\n",
    "\n",
    "#         import grelu.lightning\n",
    "#         model = grelu.lightning.LightningModel(model_params=model_params, train_params=train_params)\n",
    "\n",
    "#         # See the 'tutorial_2' folder for logs\n",
    "#         trainer = model.train_on_dataset(\n",
    "#             train_dataset=train_dataset,\n",
    "#             val_dataset=valid_dataset\n",
    "#         )\n",
    "\n",
    "#         best_checkpoint = trainer.checkpoint_callback.best_model_path\n",
    "#         # best_checkpoint = 'tutorial_enformer_1e4/2024_23_10_15_30/version_0/checkpoints/epoch=17-step=1782.ckpt'\n",
    "#         print(best_checkpoint)\n",
    "#         model = grelu.lightning.LightningModel.load_from_checkpoint(best_checkpoint)\n",
    "\n",
    "#         probs = model.predict_on_dataset(\n",
    "#         test_dataset,\n",
    "#         devices=0,\n",
    "#         num_workers=8,\n",
    "#         batch_size=1,\n",
    "#         return_df=True)\n",
    "\n",
    "#         probs.to_csv(f\"./fold_pred/{gene_name}_enformer_H2_49000_fold{i}.csv\")\n",
    "    "
   ]
  },
  {
   "cell_type": "code",
   "execution_count": 43,
   "id": "f87cef1d",
   "metadata": {},
   "outputs": [],
   "source": [
    "# data_train"
   ]
  },
  {
   "cell_type": "code",
   "execution_count": 44,
   "id": "fc1d8bc2",
   "metadata": {},
   "outputs": [],
   "source": [
    "# probs"
   ]
  },
  {
   "cell_type": "code",
   "execution_count": 45,
   "id": "ccf8ca3c",
   "metadata": {},
   "outputs": [],
   "source": [
    "# len(seq_list['H1'])"
   ]
  },
  {
   "cell_type": "code",
   "execution_count": 46,
   "id": "bbee44e4",
   "metadata": {},
   "outputs": [],
   "source": [
    "import grelu.data.dataset"
   ]
  },
  {
   "cell_type": "code",
   "execution_count": null,
   "id": "f563fb49",
   "metadata": {},
   "outputs": [],
   "source": []
  },
  {
   "cell_type": "code",
   "execution_count": 47,
   "id": "76fa3b30",
   "metadata": {},
   "outputs": [],
   "source": [
    "start = 100000 - seq_len//2\n",
    "end = 100000 + seq_len//2"
   ]
  },
  {
   "cell_type": "code",
   "execution_count": 48,
   "id": "7d904668",
   "metadata": {},
   "outputs": [],
   "source": [
    "seq_all = []\n",
    "for i in range(len(seq_list['H1'])):\n",
    "    str1 = seq_list['H1'][i] \n",
    "    str2 = seq_list['H2'][i]\n",
    "    str1 = grelu.data.dataset.indices_to_one_hot(grelu.data.dataset.strings_to_indices(str1))\n",
    "    str2 = grelu.data.dataset.indices_to_one_hot(grelu.data.dataset.strings_to_indices(str2))\n",
    "    merge_list = (str1+str2) / 2\n",
    "    ukbb_emb = ukbb_data_sample[i].reshape(1,-1).repeat(4,1)\n",
    "    merge_list = torch.cat((merge_list[:,start:end],ukbb_emb), axis=1)\n",
    "    seq_all.append(merge_list)"
   ]
  },
  {
   "cell_type": "code",
   "execution_count": 49,
   "id": "803d5352",
   "metadata": {},
   "outputs": [],
   "source": [
    "# df_train_update = pd.DataFrame([i[start:end] for i in seq_list['H2']])\n",
    "\n",
    "# df_train_update.index = list_f"
   ]
  },
  {
   "cell_type": "code",
   "execution_count": 50,
   "id": "5d88f430",
   "metadata": {},
   "outputs": [
    {
     "data": {
      "text/plain": [
       "(670, 4, 101536)"
      ]
     },
     "execution_count": 50,
     "metadata": {},
     "output_type": "execute_result"
    }
   ],
   "source": [
    "np.array(seq_all).shape"
   ]
  },
  {
   "cell_type": "code",
   "execution_count": 51,
   "id": "5b907c9a",
   "metadata": {},
   "outputs": [],
   "source": [
    "# df_train_update = pd.DataFrame([i[start:end] for i in seq_all])\n",
    "# df_train_update.index = list_f"
   ]
  },
  {
   "cell_type": "code",
   "execution_count": 52,
   "id": "09eff9e6",
   "metadata": {},
   "outputs": [],
   "source": [
    "df_train_update = pd.DataFrame(list_f)"
   ]
  },
  {
   "cell_type": "code",
   "execution_count": 53,
   "id": "856f1ca8",
   "metadata": {},
   "outputs": [
    {
     "data": {
      "text/html": [
       "<div>\n",
       "<style scoped>\n",
       "    .dataframe tbody tr th:only-of-type {\n",
       "        vertical-align: middle;\n",
       "    }\n",
       "\n",
       "    .dataframe tbody tr th {\n",
       "        vertical-align: top;\n",
       "    }\n",
       "\n",
       "    .dataframe thead th {\n",
       "        text-align: right;\n",
       "    }\n",
       "</style>\n",
       "<table border=\"1\" class=\"dataframe\">\n",
       "  <thead>\n",
       "    <tr style=\"text-align: right;\">\n",
       "      <th></th>\n",
       "      <th>GTEX-111YS</th>\n",
       "      <th>GTEX-1122O</th>\n",
       "      <th>GTEX-1128S</th>\n",
       "      <th>GTEX-113IC</th>\n",
       "      <th>GTEX-113JC</th>\n",
       "      <th>GTEX-117XS</th>\n",
       "      <th>GTEX-117YW</th>\n",
       "      <th>GTEX-1192W</th>\n",
       "      <th>GTEX-1192X</th>\n",
       "      <th>GTEX-11DXX</th>\n",
       "      <th>...</th>\n",
       "      <th>GTEX-ZV7C</th>\n",
       "      <th>GTEX-ZVE2</th>\n",
       "      <th>GTEX-ZVP2</th>\n",
       "      <th>GTEX-ZVT2</th>\n",
       "      <th>GTEX-ZVT3</th>\n",
       "      <th>GTEX-ZVT4</th>\n",
       "      <th>GTEX-ZVZP</th>\n",
       "      <th>GTEX-ZVZQ</th>\n",
       "      <th>GTEX-ZXES</th>\n",
       "      <th>GTEX-ZXG5</th>\n",
       "    </tr>\n",
       "  </thead>\n",
       "  <tbody>\n",
       "    <tr>\n",
       "      <th>0</th>\n",
       "      <td>-1.225024</td>\n",
       "      <td>-0.853391</td>\n",
       "      <td>0.429361</td>\n",
       "      <td>0.853391</td>\n",
       "      <td>-0.706494</td>\n",
       "      <td>1.290949</td>\n",
       "      <td>0.805956</td>\n",
       "      <td>-0.313240</td>\n",
       "      <td>-0.046713</td>\n",
       "      <td>-0.189784</td>\n",
       "      <td>...</td>\n",
       "      <td>0.564697</td>\n",
       "      <td>-1.135099</td>\n",
       "      <td>-0.479065</td>\n",
       "      <td>-0.170799</td>\n",
       "      <td>-1.079918</td>\n",
       "      <td>0.148098</td>\n",
       "      <td>0.372677</td>\n",
       "      <td>0.948702</td>\n",
       "      <td>-0.517128</td>\n",
       "      <td>0.765266</td>\n",
       "    </tr>\n",
       "    <tr>\n",
       "      <th>1</th>\n",
       "      <td>-0.673318</td>\n",
       "      <td>0.121709</td>\n",
       "      <td>-0.654690</td>\n",
       "      <td>-1.178870</td>\n",
       "      <td>-0.837370</td>\n",
       "      <td>-0.289783</td>\n",
       "      <td>-0.627164</td>\n",
       "      <td>0.197397</td>\n",
       "      <td>-1.596922</td>\n",
       "      <td>1.164031</td>\n",
       "      <td>...</td>\n",
       "      <td>1.171418</td>\n",
       "      <td>0.231802</td>\n",
       "      <td>1.060053</td>\n",
       "      <td>0.925522</td>\n",
       "      <td>-0.167010</td>\n",
       "      <td>0.673318</td>\n",
       "      <td>0.555955</td>\n",
       "      <td>-0.716116</td>\n",
       "      <td>-0.600107</td>\n",
       "      <td>-0.321097</td>\n",
       "    </tr>\n",
       "    <tr>\n",
       "      <th>2</th>\n",
       "      <td>0.301491</td>\n",
       "      <td>0.858780</td>\n",
       "      <td>-0.437569</td>\n",
       "      <td>-1.558035</td>\n",
       "      <td>-0.770282</td>\n",
       "      <td>-1.698472</td>\n",
       "      <td>-1.401871</td>\n",
       "      <td>-0.483259</td>\n",
       "      <td>-0.966428</td>\n",
       "      <td>1.821345</td>\n",
       "      <td>...</td>\n",
       "      <td>0.325032</td>\n",
       "      <td>-1.241002</td>\n",
       "      <td>0.013075</td>\n",
       "      <td>0.529981</td>\n",
       "      <td>-2.134683</td>\n",
       "      <td>-0.031758</td>\n",
       "      <td>2.614268</td>\n",
       "      <td>-1.509592</td>\n",
       "      <td>0.328973</td>\n",
       "      <td>0.151876</td>\n",
       "    </tr>\n",
       "    <tr>\n",
       "      <th>3</th>\n",
       "      <td>0.417104</td>\n",
       "      <td>0.376684</td>\n",
       "      <td>0.816338</td>\n",
       "      <td>-2.614268</td>\n",
       "      <td>-0.931270</td>\n",
       "      <td>-0.372677</td>\n",
       "      <td>-1.021528</td>\n",
       "      <td>-0.582310</td>\n",
       "      <td>-1.509592</td>\n",
       "      <td>0.348756</td>\n",
       "      <td>...</td>\n",
       "      <td>-0.235641</td>\n",
       "      <td>-0.313240</td>\n",
       "      <td>-0.001868</td>\n",
       "      <td>0.429361</td>\n",
       "      <td>-1.558035</td>\n",
       "      <td>1.009019</td>\n",
       "      <td>1.114008</td>\n",
       "      <td>-1.100218</td>\n",
       "      <td>-0.356707</td>\n",
       "      <td>-0.065421</td>\n",
       "    </tr>\n",
       "    <tr>\n",
       "      <th>4</th>\n",
       "      <td>0.891654</td>\n",
       "      <td>0.309319</td>\n",
       "      <td>1.178870</td>\n",
       "      <td>-2.614268</td>\n",
       "      <td>-0.821562</td>\n",
       "      <td>-0.811136</td>\n",
       "      <td>-0.560321</td>\n",
       "      <td>0.035496</td>\n",
       "      <td>-1.142243</td>\n",
       "      <td>0.057935</td>\n",
       "      <td>...</td>\n",
       "      <td>-0.604585</td>\n",
       "      <td>-0.254890</td>\n",
       "      <td>-0.313240</td>\n",
       "      <td>0.372677</td>\n",
       "      <td>-1.883649</td>\n",
       "      <td>0.760269</td>\n",
       "      <td>0.396813</td>\n",
       "      <td>-1.862071</td>\n",
       "      <td>-0.372677</td>\n",
       "      <td>-0.274234</td>\n",
       "    </tr>\n",
       "    <tr>\n",
       "      <th>...</th>\n",
       "      <td>...</td>\n",
       "      <td>...</td>\n",
       "      <td>...</td>\n",
       "      <td>...</td>\n",
       "      <td>...</td>\n",
       "      <td>...</td>\n",
       "      <td>...</td>\n",
       "      <td>...</td>\n",
       "      <td>...</td>\n",
       "      <td>...</td>\n",
       "      <td>...</td>\n",
       "      <td>...</td>\n",
       "      <td>...</td>\n",
       "      <td>...</td>\n",
       "      <td>...</td>\n",
       "      <td>...</td>\n",
       "      <td>...</td>\n",
       "      <td>...</td>\n",
       "      <td>...</td>\n",
       "      <td>...</td>\n",
       "      <td>...</td>\n",
       "    </tr>\n",
       "    <tr>\n",
       "      <th>20310</th>\n",
       "      <td>0.251033</td>\n",
       "      <td>1.047038</td>\n",
       "      <td>-0.891654</td>\n",
       "      <td>-1.453624</td>\n",
       "      <td>-0.061677</td>\n",
       "      <td>-0.654690</td>\n",
       "      <td>-1.714493</td>\n",
       "      <td>-0.914116</td>\n",
       "      <td>-0.622623</td>\n",
       "      <td>1.372539</td>\n",
       "      <td>...</td>\n",
       "      <td>0.591185</td>\n",
       "      <td>0.376684</td>\n",
       "      <td>0.360690</td>\n",
       "      <td>0.525687</td>\n",
       "      <td>-1.241002</td>\n",
       "      <td>0.133007</td>\n",
       "      <td>1.509592</td>\n",
       "      <td>-0.755291</td>\n",
       "      <td>-0.050453</td>\n",
       "      <td>-0.336870</td>\n",
       "    </tr>\n",
       "    <tr>\n",
       "      <th>20311</th>\n",
       "      <td>0.682720</td>\n",
       "      <td>2.099561</td>\n",
       "      <td>-0.305403</td>\n",
       "      <td>-0.258751</td>\n",
       "      <td>-0.659325</td>\n",
       "      <td>-1.698472</td>\n",
       "      <td>-0.512862</td>\n",
       "      <td>-0.569083</td>\n",
       "      <td>-0.826808</td>\n",
       "      <td>0.984462</td>\n",
       "      <td>...</td>\n",
       "      <td>0.837370</td>\n",
       "      <td>2.134683</td>\n",
       "      <td>-0.031758</td>\n",
       "      <td>1.596922</td>\n",
       "      <td>-1.186387</td>\n",
       "      <td>0.842686</td>\n",
       "      <td>1.178870</td>\n",
       "      <td>-1.265581</td>\n",
       "      <td>0.174591</td>\n",
       "      <td>0.352728</td>\n",
       "    </tr>\n",
       "    <tr>\n",
       "      <th>20312</th>\n",
       "      <td>0.560321</td>\n",
       "      <td>0.730675</td>\n",
       "      <td>-0.765266</td>\n",
       "      <td>0.258751</td>\n",
       "      <td>0.500121</td>\n",
       "      <td>-1.453624</td>\n",
       "      <td>-1.570734</td>\n",
       "      <td>-1.047038</td>\n",
       "      <td>-0.050453</td>\n",
       "      <td>1.040597</td>\n",
       "      <td>...</td>\n",
       "      <td>1.066627</td>\n",
       "      <td>-0.591185</td>\n",
       "      <td>1.464454</td>\n",
       "      <td>1.047038</td>\n",
       "      <td>-0.356707</td>\n",
       "      <td>0.129239</td>\n",
       "      <td>0.687444</td>\n",
       "      <td>-0.931270</td>\n",
       "      <td>0.504359</td>\n",
       "      <td>0.278115</td>\n",
       "    </tr>\n",
       "    <tr>\n",
       "      <th>20313</th>\n",
       "      <td>-1.021528</td>\n",
       "      <td>-1.047038</td>\n",
       "      <td>-0.170799</td>\n",
       "      <td>0.716116</td>\n",
       "      <td>-0.110426</td>\n",
       "      <td>0.645460</td>\n",
       "      <td>1.171418</td>\n",
       "      <td>0.538598</td>\n",
       "      <td>-1.610437</td>\n",
       "      <td>0.039235</td>\n",
       "      <td>...</td>\n",
       "      <td>-0.305403</td>\n",
       "      <td>0.243330</td>\n",
       "      <td>-0.421183</td>\n",
       "      <td>-0.914116</td>\n",
       "      <td>0.167010</td>\n",
       "      <td>-0.282000</td>\n",
       "      <td>-1.002823</td>\n",
       "      <td>1.714493</td>\n",
       "      <td>0.332919</td>\n",
       "      <td>0.388743</td>\n",
       "    </tr>\n",
       "    <tr>\n",
       "      <th>20314</th>\n",
       "      <td>0.678011</td>\n",
       "      <td>-0.208837</td>\n",
       "      <td>0.016811</td>\n",
       "      <td>0.348756</td>\n",
       "      <td>-0.600107</td>\n",
       "      <td>1.178870</td>\n",
       "      <td>-1.079918</td>\n",
       "      <td>0.368676</td>\n",
       "      <td>-0.061677</td>\n",
       "      <td>-1.114008</td>\n",
       "      <td>...</td>\n",
       "      <td>-0.258751</td>\n",
       "      <td>-0.247180</td>\n",
       "      <td>1.241002</td>\n",
       "      <td>-1.273946</td>\n",
       "      <td>-0.542922</td>\n",
       "      <td>-0.990545</td>\n",
       "      <td>-0.692183</td>\n",
       "      <td>-0.745390</td>\n",
       "      <td>0.185982</td>\n",
       "      <td>0.595640</td>\n",
       "    </tr>\n",
       "  </tbody>\n",
       "</table>\n",
       "<p>20315 rows × 670 columns</p>\n",
       "</div>"
      ],
      "text/plain": [
       "       GTEX-111YS  GTEX-1122O  GTEX-1128S  GTEX-113IC  GTEX-113JC  GTEX-117XS  \\\n",
       "0       -1.225024   -0.853391    0.429361    0.853391   -0.706494    1.290949   \n",
       "1       -0.673318    0.121709   -0.654690   -1.178870   -0.837370   -0.289783   \n",
       "2        0.301491    0.858780   -0.437569   -1.558035   -0.770282   -1.698472   \n",
       "3        0.417104    0.376684    0.816338   -2.614268   -0.931270   -0.372677   \n",
       "4        0.891654    0.309319    1.178870   -2.614268   -0.821562   -0.811136   \n",
       "...           ...         ...         ...         ...         ...         ...   \n",
       "20310    0.251033    1.047038   -0.891654   -1.453624   -0.061677   -0.654690   \n",
       "20311    0.682720    2.099561   -0.305403   -0.258751   -0.659325   -1.698472   \n",
       "20312    0.560321    0.730675   -0.765266    0.258751    0.500121   -1.453624   \n",
       "20313   -1.021528   -1.047038   -0.170799    0.716116   -0.110426    0.645460   \n",
       "20314    0.678011   -0.208837    0.016811    0.348756   -0.600107    1.178870   \n",
       "\n",
       "       GTEX-117YW  GTEX-1192W  GTEX-1192X  GTEX-11DXX  ...  GTEX-ZV7C  \\\n",
       "0        0.805956   -0.313240   -0.046713   -0.189784  ...   0.564697   \n",
       "1       -0.627164    0.197397   -1.596922    1.164031  ...   1.171418   \n",
       "2       -1.401871   -0.483259   -0.966428    1.821345  ...   0.325032   \n",
       "3       -1.021528   -0.582310   -1.509592    0.348756  ...  -0.235641   \n",
       "4       -0.560321    0.035496   -1.142243    0.057935  ...  -0.604585   \n",
       "...           ...         ...         ...         ...  ...        ...   \n",
       "20310   -1.714493   -0.914116   -0.622623    1.372539  ...   0.591185   \n",
       "20311   -0.512862   -0.569083   -0.826808    0.984462  ...   0.837370   \n",
       "20312   -1.570734   -1.047038   -0.050453    1.040597  ...   1.066627   \n",
       "20313    1.171418    0.538598   -1.610437    0.039235  ...  -0.305403   \n",
       "20314   -1.079918    0.368676   -0.061677   -1.114008  ...  -0.258751   \n",
       "\n",
       "       GTEX-ZVE2  GTEX-ZVP2  GTEX-ZVT2  GTEX-ZVT3  GTEX-ZVT4  GTEX-ZVZP  \\\n",
       "0      -1.135099  -0.479065  -0.170799  -1.079918   0.148098   0.372677   \n",
       "1       0.231802   1.060053   0.925522  -0.167010   0.673318   0.555955   \n",
       "2      -1.241002   0.013075   0.529981  -2.134683  -0.031758   2.614268   \n",
       "3      -0.313240  -0.001868   0.429361  -1.558035   1.009019   1.114008   \n",
       "4      -0.254890  -0.313240   0.372677  -1.883649   0.760269   0.396813   \n",
       "...          ...        ...        ...        ...        ...        ...   \n",
       "20310   0.376684   0.360690   0.525687  -1.241002   0.133007   1.509592   \n",
       "20311   2.134683  -0.031758   1.596922  -1.186387   0.842686   1.178870   \n",
       "20312  -0.591185   1.464454   1.047038  -0.356707   0.129239   0.687444   \n",
       "20313   0.243330  -0.421183  -0.914116   0.167010  -0.282000  -1.002823   \n",
       "20314  -0.247180   1.241002  -1.273946  -0.542922  -0.990545  -0.692183   \n",
       "\n",
       "       GTEX-ZVZQ  GTEX-ZXES  GTEX-ZXG5  \n",
       "0       0.948702  -0.517128   0.765266  \n",
       "1      -0.716116  -0.600107  -0.321097  \n",
       "2      -1.509592   0.328973   0.151876  \n",
       "3      -1.100218  -0.356707  -0.065421  \n",
       "4      -1.862071  -0.372677  -0.274234  \n",
       "...          ...        ...        ...  \n",
       "20310  -0.755291  -0.050453  -0.336870  \n",
       "20311  -1.265581   0.174591   0.352728  \n",
       "20312  -0.931270   0.504359   0.278115  \n",
       "20313   1.714493   0.332919   0.388743  \n",
       "20314  -0.745390   0.185982   0.595640  \n",
       "\n",
       "[20315 rows x 670 columns]"
      ]
     },
     "execution_count": 53,
     "metadata": {},
     "output_type": "execute_result"
    }
   ],
   "source": [
    "gene_exp_train"
   ]
  },
  {
   "cell_type": "code",
   "execution_count": 54,
   "id": "9d010674",
   "metadata": {},
   "outputs": [],
   "source": [
    "from lightning.pytorch.callbacks.early_stopping import EarlyStopping"
   ]
  },
  {
   "cell_type": "code",
   "execution_count": 55,
   "id": "4423cf67",
   "metadata": {},
   "outputs": [
    {
     "data": {
      "text/plain": [
       "'TREML4'"
      ]
     },
     "execution_count": 55,
     "metadata": {},
     "output_type": "execute_result"
    }
   ],
   "source": [
    "gene_name"
   ]
  },
  {
   "cell_type": "code",
   "execution_count": null,
   "id": "c0f3762a",
   "metadata": {
    "scrolled": true
   },
   "outputs": [
    {
     "name": "stderr",
     "output_type": "stream",
     "text": [
      "Failed to detect the name of this notebook, you can set it manually with the WANDB_NOTEBOOK_NAME environment variable to enable code saving.\n",
      "\u001b[34m\u001b[1mwandb\u001b[0m: Currently logged in as: \u001b[33mtianyu-18\u001b[0m (\u001b[33mzhao-lab\u001b[0m). Use \u001b[1m`wandb login --relogin`\u001b[0m to force relogin\n",
      "\u001b[34m\u001b[1mwandb\u001b[0m: Downloading large artifact human_state_dict:latest, 939.29MB. 1 files... \n",
      "\u001b[34m\u001b[1mwandb\u001b[0m:   1 of 1 files downloaded.  \n",
      "Done. 0:0:0.5\n",
      "/home/tl688/.conda/envs/evo/lib/python3.11/site-packages/lightning_fabric/plugins/environments/slurm.py:165: The `srun` command is available on your system but is not used. HINT: If your intention is to run Lightning on SLURM, prepend your python command with `srun` like so: srun python /home/tl688/.conda/envs/evo/lib/python3.11/site-pack ...\n",
      "GPU available: True (cuda), used: True\n",
      "TPU available: False, using: 0 TPU cores\n",
      "IPU available: False, using: 0 IPUs\n",
      "HPU available: False, using: 0 HPUs\n",
      "/home/tl688/.conda/envs/evo/lib/python3.11/site-packages/torch/utils/data/dataloader.py:558: UserWarning: This DataLoader will create 8 worker processes in total. Our suggested max number of worker in current system is 1, which is smaller than what this DataLoader is going to create. Please be aware that excessive worker creation might get DataLoader running slow or even freeze, lower the worker number to avoid potential slowness/freeze if necessary.\n",
      "  warnings.warn(_create_warning_msg(\n"
     ]
    },
    {
     "name": "stdout",
     "output_type": "stream",
     "text": [
      "should we shuffle? True\n"
     ]
    },
    {
     "name": "stderr",
     "output_type": "stream",
     "text": [
      "Missing logger folder: /home/tl688/scratch/tutorial_enformer_test_emb_check_new/2025_02_01_13_37\n",
      "LOCAL_RANK: 0 - CUDA_VISIBLE_DEVICES: [0]\n"
     ]
    },
    {
     "data": {
      "application/vnd.jupyter.widget-view+json": {
       "model_id": "597779cde7114b99b62fa32030cb09cc",
       "version_major": 2,
       "version_minor": 0
      },
      "text/plain": [
       "Validation: 0it [00:00, ?it/s]"
      ]
     },
     "metadata": {},
     "output_type": "display_data"
    },
    {
     "name": "stderr",
     "output_type": "stream",
     "text": [
      "/home/tl688/.conda/envs/evo/lib/python3.11/site-packages/torchmetrics/utilities/prints.py:43: UserWarning: The variance of predictions or target is close to zero. This can cause instability in Pearson correlationcoefficient, leading to wrong results. Consider re-scaling the input if possible or computing using alarger dtype (currently using torch.float32).\n",
      "  warnings.warn(*args, **kwargs)  # noqa: B028\n"
     ]
    },
    {
     "data": {
      "text/html": [
       "<pre style=\"white-space:pre;overflow-x:auto;line-height:normal;font-family:Menlo,'DejaVu Sans Mono',consolas,'Courier New',monospace\">┏━━━━━━━━━━━━━━━━━━━━━━━━━━━┳━━━━━━━━━━━━━━━━━━━━━━━━━━━┓\n",
       "┃<span style=\"font-weight: bold\">  Runningstage.validating  </span>┃<span style=\"font-weight: bold\">                           </span>┃\n",
       "┃<span style=\"font-weight: bold\">          metric           </span>┃<span style=\"font-weight: bold\">       DataLoader 0        </span>┃\n",
       "┡━━━━━━━━━━━━━━━━━━━━━━━━━━━╇━━━━━━━━━━━━━━━━━━━━━━━━━━━┩\n",
       "│<span style=\"color: #008080; text-decoration-color: #008080\">         val_loss          </span>│<span style=\"color: #800080; text-decoration-color: #800080\">    0.9127787351608276     </span>│\n",
       "│<span style=\"color: #008080; text-decoration-color: #008080\">          val_mse          </span>│<span style=\"color: #800080; text-decoration-color: #800080\">    0.9196283221244812     </span>│\n",
       "│<span style=\"color: #008080; text-decoration-color: #008080\">        val_pearson        </span>│<span style=\"color: #800080; text-decoration-color: #800080\">    0.0205279141664505     </span>│\n",
       "└───────────────────────────┴───────────────────────────┘\n",
       "</pre>\n"
      ],
      "text/plain": [
       "┏━━━━━━━━━━━━━━━━━━━━━━━━━━━┳━━━━━━━━━━━━━━━━━━━━━━━━━━━┓\n",
       "┃\u001b[1m \u001b[0m\u001b[1m Runningstage.validating \u001b[0m\u001b[1m \u001b[0m┃\u001b[1m                           \u001b[0m┃\n",
       "┃\u001b[1m \u001b[0m\u001b[1m         metric          \u001b[0m\u001b[1m \u001b[0m┃\u001b[1m \u001b[0m\u001b[1m      DataLoader 0       \u001b[0m\u001b[1m \u001b[0m┃\n",
       "┡━━━━━━━━━━━━━━━━━━━━━━━━━━━╇━━━━━━━━━━━━━━━━━━━━━━━━━━━┩\n",
       "│\u001b[36m \u001b[0m\u001b[36m        val_loss         \u001b[0m\u001b[36m \u001b[0m│\u001b[35m \u001b[0m\u001b[35m   0.9127787351608276    \u001b[0m\u001b[35m \u001b[0m│\n",
       "│\u001b[36m \u001b[0m\u001b[36m         val_mse         \u001b[0m\u001b[36m \u001b[0m│\u001b[35m \u001b[0m\u001b[35m   0.9196283221244812    \u001b[0m\u001b[35m \u001b[0m│\n",
       "│\u001b[36m \u001b[0m\u001b[36m       val_pearson       \u001b[0m\u001b[36m \u001b[0m│\u001b[35m \u001b[0m\u001b[35m   0.0205279141664505    \u001b[0m\u001b[35m \u001b[0m│\n",
       "└───────────────────────────┴───────────────────────────┘\n"
      ]
     },
     "metadata": {},
     "output_type": "display_data"
    },
    {
     "name": "stderr",
     "output_type": "stream",
     "text": [
      "/home/tl688/.conda/envs/evo/lib/python3.11/site-packages/lightning_fabric/plugins/environments/slurm.py:165: The `srun` command is available on your system but is not used. HINT: If your intention is to run Lightning on SLURM, prepend your python command with `srun` like so: srun python /home/tl688/.conda/envs/evo/lib/python3.11/site-pack ...\n",
      "LOCAL_RANK: 0 - CUDA_VISIBLE_DEVICES: [0]\n",
      "\n",
      "  | Name         | Type                              | Params\n",
      "-------------------------------------------------------------------\n",
      "0 | model        | UKBioBERT_EnformerPretrainedModel | 72.2 M\n",
      "1 | loss         | MSELoss                           | 0     \n",
      "2 | activation   | Identity                          | 0     \n",
      "3 | val_metrics  | MetricCollection                  | 0     \n",
      "4 | test_metrics | MetricCollection                  | 0     \n",
      "5 | transform    | Identity                          | 0     \n",
      "-------------------------------------------------------------------\n",
      "72.2 M    Trainable params\n",
      "0         Non-trainable params\n",
      "72.2 M    Total params\n",
      "288.934   Total estimated model params size (MB)\n"
     ]
    },
    {
     "data": {
      "application/vnd.jupyter.widget-view+json": {
       "model_id": "",
       "version_major": 2,
       "version_minor": 0
      },
      "text/plain": [
       "Sanity Checking: 0it [00:00, ?it/s]"
      ]
     },
     "metadata": {},
     "output_type": "display_data"
    },
    {
     "name": "stderr",
     "output_type": "stream",
     "text": [
      "/home/tl688/.conda/envs/evo/lib/python3.11/site-packages/torch/utils/data/dataloader.py:558: UserWarning: This DataLoader will create 8 worker processes in total. Our suggested max number of worker in current system is 1, which is smaller than what this DataLoader is going to create. Please be aware that excessive worker creation might get DataLoader running slow or even freeze, lower the worker number to avoid potential slowness/freeze if necessary.\n",
      "  warnings.warn(_create_warning_msg(\n",
      "/home/tl688/.conda/envs/evo/lib/python3.11/site-packages/torchmetrics/utilities/prints.py:43: UserWarning: The variance of predictions or target is close to zero. This can cause instability in Pearson correlationcoefficient, leading to wrong results. Consider re-scaling the input if possible or computing using alarger dtype (currently using torch.float32).\n",
      "  warnings.warn(*args, **kwargs)  # noqa: B028\n"
     ]
    },
    {
     "data": {
      "application/vnd.jupyter.widget-view+json": {
       "model_id": "9f11097c44dd4ec288d03fd7131de97b",
       "version_major": 2,
       "version_minor": 0
      },
      "text/plain": [
       "Training: 0it [00:00, ?it/s]"
      ]
     },
     "metadata": {},
     "output_type": "display_data"
    },
    {
     "data": {
      "application/vnd.jupyter.widget-view+json": {
       "model_id": "",
       "version_major": 2,
       "version_minor": 0
      },
      "text/plain": [
       "Validation: 0it [00:00, ?it/s]"
      ]
     },
     "metadata": {},
     "output_type": "display_data"
    },
    {
     "data": {
      "application/vnd.jupyter.widget-view+json": {
       "model_id": "",
       "version_major": 2,
       "version_minor": 0
      },
      "text/plain": [
       "Validation: 0it [00:00, ?it/s]"
      ]
     },
     "metadata": {},
     "output_type": "display_data"
    },
    {
     "data": {
      "application/vnd.jupyter.widget-view+json": {
       "model_id": "",
       "version_major": 2,
       "version_minor": 0
      },
      "text/plain": [
       "Validation: 0it [00:00, ?it/s]"
      ]
     },
     "metadata": {},
     "output_type": "display_data"
    },
    {
     "data": {
      "application/vnd.jupyter.widget-view+json": {
       "model_id": "",
       "version_major": 2,
       "version_minor": 0
      },
      "text/plain": [
       "Validation: 0it [00:00, ?it/s]"
      ]
     },
     "metadata": {},
     "output_type": "display_data"
    },
    {
     "data": {
      "application/vnd.jupyter.widget-view+json": {
       "model_id": "",
       "version_major": 2,
       "version_minor": 0
      },
      "text/plain": [
       "Validation: 0it [00:00, ?it/s]"
      ]
     },
     "metadata": {},
     "output_type": "display_data"
    },
    {
     "data": {
      "application/vnd.jupyter.widget-view+json": {
       "model_id": "",
       "version_major": 2,
       "version_minor": 0
      },
      "text/plain": [
       "Validation: 0it [00:00, ?it/s]"
      ]
     },
     "metadata": {},
     "output_type": "display_data"
    },
    {
     "data": {
      "application/vnd.jupyter.widget-view+json": {
       "model_id": "",
       "version_major": 2,
       "version_minor": 0
      },
      "text/plain": [
       "Validation: 0it [00:00, ?it/s]"
      ]
     },
     "metadata": {},
     "output_type": "display_data"
    },
    {
     "data": {
      "application/vnd.jupyter.widget-view+json": {
       "model_id": "",
       "version_major": 2,
       "version_minor": 0
      },
      "text/plain": [
       "Validation: 0it [00:00, ?it/s]"
      ]
     },
     "metadata": {},
     "output_type": "display_data"
    },
    {
     "data": {
      "application/vnd.jupyter.widget-view+json": {
       "model_id": "",
       "version_major": 2,
       "version_minor": 0
      },
      "text/plain": [
       "Validation: 0it [00:00, ?it/s]"
      ]
     },
     "metadata": {},
     "output_type": "display_data"
    },
    {
     "data": {
      "application/vnd.jupyter.widget-view+json": {
       "model_id": "",
       "version_major": 2,
       "version_minor": 0
      },
      "text/plain": [
       "Validation: 0it [00:00, ?it/s]"
      ]
     },
     "metadata": {},
     "output_type": "display_data"
    },
    {
     "data": {
      "application/vnd.jupyter.widget-view+json": {
       "model_id": "",
       "version_major": 2,
       "version_minor": 0
      },
      "text/plain": [
       "Validation: 0it [00:00, ?it/s]"
      ]
     },
     "metadata": {},
     "output_type": "display_data"
    },
    {
     "data": {
      "application/vnd.jupyter.widget-view+json": {
       "model_id": "",
       "version_major": 2,
       "version_minor": 0
      },
      "text/plain": [
       "Validation: 0it [00:00, ?it/s]"
      ]
     },
     "metadata": {},
     "output_type": "display_data"
    },
    {
     "data": {
      "application/vnd.jupyter.widget-view+json": {
       "model_id": "",
       "version_major": 2,
       "version_minor": 0
      },
      "text/plain": [
       "Validation: 0it [00:00, ?it/s]"
      ]
     },
     "metadata": {},
     "output_type": "display_data"
    },
    {
     "data": {
      "application/vnd.jupyter.widget-view+json": {
       "model_id": "",
       "version_major": 2,
       "version_minor": 0
      },
      "text/plain": [
       "Validation: 0it [00:00, ?it/s]"
      ]
     },
     "metadata": {},
     "output_type": "display_data"
    },
    {
     "data": {
      "application/vnd.jupyter.widget-view+json": {
       "model_id": "",
       "version_major": 2,
       "version_minor": 0
      },
      "text/plain": [
       "Validation: 0it [00:00, ?it/s]"
      ]
     },
     "metadata": {},
     "output_type": "display_data"
    },
    {
     "data": {
      "application/vnd.jupyter.widget-view+json": {
       "model_id": "",
       "version_major": 2,
       "version_minor": 0
      },
      "text/plain": [
       "Validation: 0it [00:00, ?it/s]"
      ]
     },
     "metadata": {},
     "output_type": "display_data"
    },
    {
     "data": {
      "application/vnd.jupyter.widget-view+json": {
       "model_id": "",
       "version_major": 2,
       "version_minor": 0
      },
      "text/plain": [
       "Validation: 0it [00:00, ?it/s]"
      ]
     },
     "metadata": {},
     "output_type": "display_data"
    },
    {
     "data": {
      "application/vnd.jupyter.widget-view+json": {
       "model_id": "",
       "version_major": 2,
       "version_minor": 0
      },
      "text/plain": [
       "Validation: 0it [00:00, ?it/s]"
      ]
     },
     "metadata": {},
     "output_type": "display_data"
    },
    {
     "data": {
      "application/vnd.jupyter.widget-view+json": {
       "model_id": "",
       "version_major": 2,
       "version_minor": 0
      },
      "text/plain": [
       "Validation: 0it [00:00, ?it/s]"
      ]
     },
     "metadata": {},
     "output_type": "display_data"
    },
    {
     "data": {
      "application/vnd.jupyter.widget-view+json": {
       "model_id": "",
       "version_major": 2,
       "version_minor": 0
      },
      "text/plain": [
       "Validation: 0it [00:00, ?it/s]"
      ]
     },
     "metadata": {},
     "output_type": "display_data"
    },
    {
     "data": {
      "application/vnd.jupyter.widget-view+json": {
       "model_id": "",
       "version_major": 2,
       "version_minor": 0
      },
      "text/plain": [
       "Validation: 0it [00:00, ?it/s]"
      ]
     },
     "metadata": {},
     "output_type": "display_data"
    },
    {
     "data": {
      "application/vnd.jupyter.widget-view+json": {
       "model_id": "",
       "version_major": 2,
       "version_minor": 0
      },
      "text/plain": [
       "Validation: 0it [00:00, ?it/s]"
      ]
     },
     "metadata": {},
     "output_type": "display_data"
    },
    {
     "data": {
      "application/vnd.jupyter.widget-view+json": {
       "model_id": "",
       "version_major": 2,
       "version_minor": 0
      },
      "text/plain": [
       "Validation: 0it [00:00, ?it/s]"
      ]
     },
     "metadata": {},
     "output_type": "display_data"
    },
    {
     "data": {
      "application/vnd.jupyter.widget-view+json": {
       "model_id": "",
       "version_major": 2,
       "version_minor": 0
      },
      "text/plain": [
       "Validation: 0it [00:00, ?it/s]"
      ]
     },
     "metadata": {},
     "output_type": "display_data"
    },
    {
     "data": {
      "application/vnd.jupyter.widget-view+json": {
       "model_id": "",
       "version_major": 2,
       "version_minor": 0
      },
      "text/plain": [
       "Validation: 0it [00:00, ?it/s]"
      ]
     },
     "metadata": {},
     "output_type": "display_data"
    },
    {
     "data": {
      "application/vnd.jupyter.widget-view+json": {
       "model_id": "",
       "version_major": 2,
       "version_minor": 0
      },
      "text/plain": [
       "Validation: 0it [00:00, ?it/s]"
      ]
     },
     "metadata": {},
     "output_type": "display_data"
    },
    {
     "data": {
      "application/vnd.jupyter.widget-view+json": {
       "model_id": "",
       "version_major": 2,
       "version_minor": 0
      },
      "text/plain": [
       "Validation: 0it [00:00, ?it/s]"
      ]
     },
     "metadata": {},
     "output_type": "display_data"
    },
    {
     "data": {
      "application/vnd.jupyter.widget-view+json": {
       "model_id": "",
       "version_major": 2,
       "version_minor": 0
      },
      "text/plain": [
       "Validation: 0it [00:00, ?it/s]"
      ]
     },
     "metadata": {},
     "output_type": "display_data"
    },
    {
     "data": {
      "application/vnd.jupyter.widget-view+json": {
       "model_id": "",
       "version_major": 2,
       "version_minor": 0
      },
      "text/plain": [
       "Validation: 0it [00:00, ?it/s]"
      ]
     },
     "metadata": {},
     "output_type": "display_data"
    },
    {
     "data": {
      "application/vnd.jupyter.widget-view+json": {
       "model_id": "",
       "version_major": 2,
       "version_minor": 0
      },
      "text/plain": [
       "Validation: 0it [00:00, ?it/s]"
      ]
     },
     "metadata": {},
     "output_type": "display_data"
    },
    {
     "data": {
      "application/vnd.jupyter.widget-view+json": {
       "model_id": "",
       "version_major": 2,
       "version_minor": 0
      },
      "text/plain": [
       "Validation: 0it [00:00, ?it/s]"
      ]
     },
     "metadata": {},
     "output_type": "display_data"
    },
    {
     "data": {
      "application/vnd.jupyter.widget-view+json": {
       "model_id": "",
       "version_major": 2,
       "version_minor": 0
      },
      "text/plain": [
       "Validation: 0it [00:00, ?it/s]"
      ]
     },
     "metadata": {},
     "output_type": "display_data"
    },
    {
     "data": {
      "application/vnd.jupyter.widget-view+json": {
       "model_id": "",
       "version_major": 2,
       "version_minor": 0
      },
      "text/plain": [
       "Validation: 0it [00:00, ?it/s]"
      ]
     },
     "metadata": {},
     "output_type": "display_data"
    },
    {
     "data": {
      "application/vnd.jupyter.widget-view+json": {
       "model_id": "",
       "version_major": 2,
       "version_minor": 0
      },
      "text/plain": [
       "Validation: 0it [00:00, ?it/s]"
      ]
     },
     "metadata": {},
     "output_type": "display_data"
    },
    {
     "data": {
      "application/vnd.jupyter.widget-view+json": {
       "model_id": "",
       "version_major": 2,
       "version_minor": 0
      },
      "text/plain": [
       "Validation: 0it [00:00, ?it/s]"
      ]
     },
     "metadata": {},
     "output_type": "display_data"
    },
    {
     "data": {
      "application/vnd.jupyter.widget-view+json": {
       "model_id": "",
       "version_major": 2,
       "version_minor": 0
      },
      "text/plain": [
       "Validation: 0it [00:00, ?it/s]"
      ]
     },
     "metadata": {},
     "output_type": "display_data"
    },
    {
     "data": {
      "application/vnd.jupyter.widget-view+json": {
       "model_id": "",
       "version_major": 2,
       "version_minor": 0
      },
      "text/plain": [
       "Validation: 0it [00:00, ?it/s]"
      ]
     },
     "metadata": {},
     "output_type": "display_data"
    },
    {
     "data": {
      "application/vnd.jupyter.widget-view+json": {
       "model_id": "",
       "version_major": 2,
       "version_minor": 0
      },
      "text/plain": [
       "Validation: 0it [00:00, ?it/s]"
      ]
     },
     "metadata": {},
     "output_type": "display_data"
    },
    {
     "data": {
      "application/vnd.jupyter.widget-view+json": {
       "model_id": "",
       "version_major": 2,
       "version_minor": 0
      },
      "text/plain": [
       "Validation: 0it [00:00, ?it/s]"
      ]
     },
     "metadata": {},
     "output_type": "display_data"
    },
    {
     "data": {
      "application/vnd.jupyter.widget-view+json": {
       "model_id": "",
       "version_major": 2,
       "version_minor": 0
      },
      "text/plain": [
       "Validation: 0it [00:00, ?it/s]"
      ]
     },
     "metadata": {},
     "output_type": "display_data"
    },
    {
     "data": {
      "application/vnd.jupyter.widget-view+json": {
       "model_id": "",
       "version_major": 2,
       "version_minor": 0
      },
      "text/plain": [
       "Validation: 0it [00:00, ?it/s]"
      ]
     },
     "metadata": {},
     "output_type": "display_data"
    },
    {
     "data": {
      "application/vnd.jupyter.widget-view+json": {
       "model_id": "",
       "version_major": 2,
       "version_minor": 0
      },
      "text/plain": [
       "Validation: 0it [00:00, ?it/s]"
      ]
     },
     "metadata": {},
     "output_type": "display_data"
    },
    {
     "data": {
      "application/vnd.jupyter.widget-view+json": {
       "model_id": "",
       "version_major": 2,
       "version_minor": 0
      },
      "text/plain": [
       "Validation: 0it [00:00, ?it/s]"
      ]
     },
     "metadata": {},
     "output_type": "display_data"
    },
    {
     "data": {
      "application/vnd.jupyter.widget-view+json": {
       "model_id": "",
       "version_major": 2,
       "version_minor": 0
      },
      "text/plain": [
       "Validation: 0it [00:00, ?it/s]"
      ]
     },
     "metadata": {},
     "output_type": "display_data"
    },
    {
     "data": {
      "application/vnd.jupyter.widget-view+json": {
       "model_id": "",
       "version_major": 2,
       "version_minor": 0
      },
      "text/plain": [
       "Validation: 0it [00:00, ?it/s]"
      ]
     },
     "metadata": {},
     "output_type": "display_data"
    },
    {
     "data": {
      "application/vnd.jupyter.widget-view+json": {
       "model_id": "",
       "version_major": 2,
       "version_minor": 0
      },
      "text/plain": [
       "Validation: 0it [00:00, ?it/s]"
      ]
     },
     "metadata": {},
     "output_type": "display_data"
    },
    {
     "data": {
      "application/vnd.jupyter.widget-view+json": {
       "model_id": "",
       "version_major": 2,
       "version_minor": 0
      },
      "text/plain": [
       "Validation: 0it [00:00, ?it/s]"
      ]
     },
     "metadata": {},
     "output_type": "display_data"
    },
    {
     "data": {
      "application/vnd.jupyter.widget-view+json": {
       "model_id": "",
       "version_major": 2,
       "version_minor": 0
      },
      "text/plain": [
       "Validation: 0it [00:00, ?it/s]"
      ]
     },
     "metadata": {},
     "output_type": "display_data"
    },
    {
     "data": {
      "application/vnd.jupyter.widget-view+json": {
       "model_id": "",
       "version_major": 2,
       "version_minor": 0
      },
      "text/plain": [
       "Validation: 0it [00:00, ?it/s]"
      ]
     },
     "metadata": {},
     "output_type": "display_data"
    },
    {
     "data": {
      "application/vnd.jupyter.widget-view+json": {
       "model_id": "",
       "version_major": 2,
       "version_minor": 0
      },
      "text/plain": [
       "Validation: 0it [00:00, ?it/s]"
      ]
     },
     "metadata": {},
     "output_type": "display_data"
    },
    {
     "data": {
      "application/vnd.jupyter.widget-view+json": {
       "model_id": "",
       "version_major": 2,
       "version_minor": 0
      },
      "text/plain": [
       "Validation: 0it [00:00, ?it/s]"
      ]
     },
     "metadata": {},
     "output_type": "display_data"
    },
    {
     "data": {
      "application/vnd.jupyter.widget-view+json": {
       "model_id": "",
       "version_major": 2,
       "version_minor": 0
      },
      "text/plain": [
       "Validation: 0it [00:00, ?it/s]"
      ]
     },
     "metadata": {},
     "output_type": "display_data"
    },
    {
     "data": {
      "application/vnd.jupyter.widget-view+json": {
       "model_id": "",
       "version_major": 2,
       "version_minor": 0
      },
      "text/plain": [
       "Validation: 0it [00:00, ?it/s]"
      ]
     },
     "metadata": {},
     "output_type": "display_data"
    },
    {
     "data": {
      "application/vnd.jupyter.widget-view+json": {
       "model_id": "",
       "version_major": 2,
       "version_minor": 0
      },
      "text/plain": [
       "Validation: 0it [00:00, ?it/s]"
      ]
     },
     "metadata": {},
     "output_type": "display_data"
    },
    {
     "data": {
      "application/vnd.jupyter.widget-view+json": {
       "model_id": "",
       "version_major": 2,
       "version_minor": 0
      },
      "text/plain": [
       "Validation: 0it [00:00, ?it/s]"
      ]
     },
     "metadata": {},
     "output_type": "display_data"
    },
    {
     "data": {
      "application/vnd.jupyter.widget-view+json": {
       "model_id": "",
       "version_major": 2,
       "version_minor": 0
      },
      "text/plain": [
       "Validation: 0it [00:00, ?it/s]"
      ]
     },
     "metadata": {},
     "output_type": "display_data"
    },
    {
     "data": {
      "application/vnd.jupyter.widget-view+json": {
       "model_id": "",
       "version_major": 2,
       "version_minor": 0
      },
      "text/plain": [
       "Validation: 0it [00:00, ?it/s]"
      ]
     },
     "metadata": {},
     "output_type": "display_data"
    },
    {
     "data": {
      "application/vnd.jupyter.widget-view+json": {
       "model_id": "",
       "version_major": 2,
       "version_minor": 0
      },
      "text/plain": [
       "Validation: 0it [00:00, ?it/s]"
      ]
     },
     "metadata": {},
     "output_type": "display_data"
    },
    {
     "data": {
      "application/vnd.jupyter.widget-view+json": {
       "model_id": "",
       "version_major": 2,
       "version_minor": 0
      },
      "text/plain": [
       "Validation: 0it [00:00, ?it/s]"
      ]
     },
     "metadata": {},
     "output_type": "display_data"
    },
    {
     "data": {
      "application/vnd.jupyter.widget-view+json": {
       "model_id": "",
       "version_major": 2,
       "version_minor": 0
      },
      "text/plain": [
       "Validation: 0it [00:00, ?it/s]"
      ]
     },
     "metadata": {},
     "output_type": "display_data"
    },
    {
     "data": {
      "application/vnd.jupyter.widget-view+json": {
       "model_id": "",
       "version_major": 2,
       "version_minor": 0
      },
      "text/plain": [
       "Validation: 0it [00:00, ?it/s]"
      ]
     },
     "metadata": {},
     "output_type": "display_data"
    },
    {
     "data": {
      "application/vnd.jupyter.widget-view+json": {
       "model_id": "",
       "version_major": 2,
       "version_minor": 0
      },
      "text/plain": [
       "Validation: 0it [00:00, ?it/s]"
      ]
     },
     "metadata": {},
     "output_type": "display_data"
    },
    {
     "data": {
      "application/vnd.jupyter.widget-view+json": {
       "model_id": "",
       "version_major": 2,
       "version_minor": 0
      },
      "text/plain": [
       "Validation: 0it [00:00, ?it/s]"
      ]
     },
     "metadata": {},
     "output_type": "display_data"
    },
    {
     "data": {
      "application/vnd.jupyter.widget-view+json": {
       "model_id": "",
       "version_major": 2,
       "version_minor": 0
      },
      "text/plain": [
       "Validation: 0it [00:00, ?it/s]"
      ]
     },
     "metadata": {},
     "output_type": "display_data"
    },
    {
     "data": {
      "application/vnd.jupyter.widget-view+json": {
       "model_id": "",
       "version_major": 2,
       "version_minor": 0
      },
      "text/plain": [
       "Validation: 0it [00:00, ?it/s]"
      ]
     },
     "metadata": {},
     "output_type": "display_data"
    },
    {
     "data": {
      "application/vnd.jupyter.widget-view+json": {
       "model_id": "",
       "version_major": 2,
       "version_minor": 0
      },
      "text/plain": [
       "Validation: 0it [00:00, ?it/s]"
      ]
     },
     "metadata": {},
     "output_type": "display_data"
    },
    {
     "data": {
      "application/vnd.jupyter.widget-view+json": {
       "model_id": "",
       "version_major": 2,
       "version_minor": 0
      },
      "text/plain": [
       "Validation: 0it [00:00, ?it/s]"
      ]
     },
     "metadata": {},
     "output_type": "display_data"
    },
    {
     "data": {
      "application/vnd.jupyter.widget-view+json": {
       "model_id": "",
       "version_major": 2,
       "version_minor": 0
      },
      "text/plain": [
       "Validation: 0it [00:00, ?it/s]"
      ]
     },
     "metadata": {},
     "output_type": "display_data"
    },
    {
     "data": {
      "application/vnd.jupyter.widget-view+json": {
       "model_id": "",
       "version_major": 2,
       "version_minor": 0
      },
      "text/plain": [
       "Validation: 0it [00:00, ?it/s]"
      ]
     },
     "metadata": {},
     "output_type": "display_data"
    },
    {
     "data": {
      "application/vnd.jupyter.widget-view+json": {
       "model_id": "",
       "version_major": 2,
       "version_minor": 0
      },
      "text/plain": [
       "Validation: 0it [00:00, ?it/s]"
      ]
     },
     "metadata": {},
     "output_type": "display_data"
    },
    {
     "data": {
      "application/vnd.jupyter.widget-view+json": {
       "model_id": "",
       "version_major": 2,
       "version_minor": 0
      },
      "text/plain": [
       "Validation: 0it [00:00, ?it/s]"
      ]
     },
     "metadata": {},
     "output_type": "display_data"
    },
    {
     "data": {
      "application/vnd.jupyter.widget-view+json": {
       "model_id": "",
       "version_major": 2,
       "version_minor": 0
      },
      "text/plain": [
       "Validation: 0it [00:00, ?it/s]"
      ]
     },
     "metadata": {},
     "output_type": "display_data"
    },
    {
     "data": {
      "application/vnd.jupyter.widget-view+json": {
       "model_id": "",
       "version_major": 2,
       "version_minor": 0
      },
      "text/plain": [
       "Validation: 0it [00:00, ?it/s]"
      ]
     },
     "metadata": {},
     "output_type": "display_data"
    },
    {
     "data": {
      "application/vnd.jupyter.widget-view+json": {
       "model_id": "",
       "version_major": 2,
       "version_minor": 0
      },
      "text/plain": [
       "Validation: 0it [00:00, ?it/s]"
      ]
     },
     "metadata": {},
     "output_type": "display_data"
    },
    {
     "data": {
      "application/vnd.jupyter.widget-view+json": {
       "model_id": "",
       "version_major": 2,
       "version_minor": 0
      },
      "text/plain": [
       "Validation: 0it [00:00, ?it/s]"
      ]
     },
     "metadata": {},
     "output_type": "display_data"
    },
    {
     "data": {
      "application/vnd.jupyter.widget-view+json": {
       "model_id": "",
       "version_major": 2,
       "version_minor": 0
      },
      "text/plain": [
       "Validation: 0it [00:00, ?it/s]"
      ]
     },
     "metadata": {},
     "output_type": "display_data"
    },
    {
     "data": {
      "application/vnd.jupyter.widget-view+json": {
       "model_id": "",
       "version_major": 2,
       "version_minor": 0
      },
      "text/plain": [
       "Validation: 0it [00:00, ?it/s]"
      ]
     },
     "metadata": {},
     "output_type": "display_data"
    },
    {
     "data": {
      "application/vnd.jupyter.widget-view+json": {
       "model_id": "",
       "version_major": 2,
       "version_minor": 0
      },
      "text/plain": [
       "Validation: 0it [00:00, ?it/s]"
      ]
     },
     "metadata": {},
     "output_type": "display_data"
    },
    {
     "data": {
      "application/vnd.jupyter.widget-view+json": {
       "model_id": "",
       "version_major": 2,
       "version_minor": 0
      },
      "text/plain": [
       "Validation: 0it [00:00, ?it/s]"
      ]
     },
     "metadata": {},
     "output_type": "display_data"
    },
    {
     "data": {
      "application/vnd.jupyter.widget-view+json": {
       "model_id": "",
       "version_major": 2,
       "version_minor": 0
      },
      "text/plain": [
       "Validation: 0it [00:00, ?it/s]"
      ]
     },
     "metadata": {},
     "output_type": "display_data"
    },
    {
     "data": {
      "application/vnd.jupyter.widget-view+json": {
       "model_id": "",
       "version_major": 2,
       "version_minor": 0
      },
      "text/plain": [
       "Validation: 0it [00:00, ?it/s]"
      ]
     },
     "metadata": {},
     "output_type": "display_data"
    },
    {
     "data": {
      "application/vnd.jupyter.widget-view+json": {
       "model_id": "",
       "version_major": 2,
       "version_minor": 0
      },
      "text/plain": [
       "Validation: 0it [00:00, ?it/s]"
      ]
     },
     "metadata": {},
     "output_type": "display_data"
    },
    {
     "data": {
      "application/vnd.jupyter.widget-view+json": {
       "model_id": "",
       "version_major": 2,
       "version_minor": 0
      },
      "text/plain": [
       "Validation: 0it [00:00, ?it/s]"
      ]
     },
     "metadata": {},
     "output_type": "display_data"
    },
    {
     "data": {
      "application/vnd.jupyter.widget-view+json": {
       "model_id": "",
       "version_major": 2,
       "version_minor": 0
      },
      "text/plain": [
       "Validation: 0it [00:00, ?it/s]"
      ]
     },
     "metadata": {},
     "output_type": "display_data"
    },
    {
     "data": {
      "application/vnd.jupyter.widget-view+json": {
       "model_id": "",
       "version_major": 2,
       "version_minor": 0
      },
      "text/plain": [
       "Validation: 0it [00:00, ?it/s]"
      ]
     },
     "metadata": {},
     "output_type": "display_data"
    },
    {
     "data": {
      "application/vnd.jupyter.widget-view+json": {
       "model_id": "",
       "version_major": 2,
       "version_minor": 0
      },
      "text/plain": [
       "Validation: 0it [00:00, ?it/s]"
      ]
     },
     "metadata": {},
     "output_type": "display_data"
    },
    {
     "data": {
      "application/vnd.jupyter.widget-view+json": {
       "model_id": "",
       "version_major": 2,
       "version_minor": 0
      },
      "text/plain": [
       "Validation: 0it [00:00, ?it/s]"
      ]
     },
     "metadata": {},
     "output_type": "display_data"
    },
    {
     "data": {
      "application/vnd.jupyter.widget-view+json": {
       "model_id": "",
       "version_major": 2,
       "version_minor": 0
      },
      "text/plain": [
       "Validation: 0it [00:00, ?it/s]"
      ]
     },
     "metadata": {},
     "output_type": "display_data"
    },
    {
     "data": {
      "application/vnd.jupyter.widget-view+json": {
       "model_id": "",
       "version_major": 2,
       "version_minor": 0
      },
      "text/plain": [
       "Validation: 0it [00:00, ?it/s]"
      ]
     },
     "metadata": {},
     "output_type": "display_data"
    },
    {
     "data": {
      "application/vnd.jupyter.widget-view+json": {
       "model_id": "",
       "version_major": 2,
       "version_minor": 0
      },
      "text/plain": [
       "Validation: 0it [00:00, ?it/s]"
      ]
     },
     "metadata": {},
     "output_type": "display_data"
    },
    {
     "data": {
      "application/vnd.jupyter.widget-view+json": {
       "model_id": "",
       "version_major": 2,
       "version_minor": 0
      },
      "text/plain": [
       "Validation: 0it [00:00, ?it/s]"
      ]
     },
     "metadata": {},
     "output_type": "display_data"
    },
    {
     "data": {
      "application/vnd.jupyter.widget-view+json": {
       "model_id": "",
       "version_major": 2,
       "version_minor": 0
      },
      "text/plain": [
       "Validation: 0it [00:00, ?it/s]"
      ]
     },
     "metadata": {},
     "output_type": "display_data"
    },
    {
     "data": {
      "application/vnd.jupyter.widget-view+json": {
       "model_id": "",
       "version_major": 2,
       "version_minor": 0
      },
      "text/plain": [
       "Validation: 0it [00:00, ?it/s]"
      ]
     },
     "metadata": {},
     "output_type": "display_data"
    },
    {
     "data": {
      "application/vnd.jupyter.widget-view+json": {
       "model_id": "",
       "version_major": 2,
       "version_minor": 0
      },
      "text/plain": [
       "Validation: 0it [00:00, ?it/s]"
      ]
     },
     "metadata": {},
     "output_type": "display_data"
    },
    {
     "data": {
      "application/vnd.jupyter.widget-view+json": {
       "model_id": "",
       "version_major": 2,
       "version_minor": 0
      },
      "text/plain": [
       "Validation: 0it [00:00, ?it/s]"
      ]
     },
     "metadata": {},
     "output_type": "display_data"
    },
    {
     "data": {
      "application/vnd.jupyter.widget-view+json": {
       "model_id": "",
       "version_major": 2,
       "version_minor": 0
      },
      "text/plain": [
       "Validation: 0it [00:00, ?it/s]"
      ]
     },
     "metadata": {},
     "output_type": "display_data"
    },
    {
     "data": {
      "application/vnd.jupyter.widget-view+json": {
       "model_id": "",
       "version_major": 2,
       "version_minor": 0
      },
      "text/plain": [
       "Validation: 0it [00:00, ?it/s]"
      ]
     },
     "metadata": {},
     "output_type": "display_data"
    },
    {
     "data": {
      "application/vnd.jupyter.widget-view+json": {
       "model_id": "",
       "version_major": 2,
       "version_minor": 0
      },
      "text/plain": [
       "Validation: 0it [00:00, ?it/s]"
      ]
     },
     "metadata": {},
     "output_type": "display_data"
    },
    {
     "data": {
      "application/vnd.jupyter.widget-view+json": {
       "model_id": "",
       "version_major": 2,
       "version_minor": 0
      },
      "text/plain": [
       "Validation: 0it [00:00, ?it/s]"
      ]
     },
     "metadata": {},
     "output_type": "display_data"
    },
    {
     "data": {
      "application/vnd.jupyter.widget-view+json": {
       "model_id": "",
       "version_major": 2,
       "version_minor": 0
      },
      "text/plain": [
       "Validation: 0it [00:00, ?it/s]"
      ]
     },
     "metadata": {},
     "output_type": "display_data"
    },
    {
     "name": "stderr",
     "output_type": "stream",
     "text": [
      "`Trainer.fit` stopped: `max_epochs=100` reached.\n"
     ]
    },
    {
     "name": "stdout",
     "output_type": "stream",
     "text": [
      "/home/tl688/scratch/tutorial_enformer_test_emb_check_new/2025_02_01_13_37/version_0/checkpoints/epoch=82-step=4233.ckpt\n"
     ]
    },
    {
     "name": "stderr",
     "output_type": "stream",
     "text": [
      "\u001b[34m\u001b[1mwandb\u001b[0m: Downloading large artifact human_state_dict:latest, 939.29MB. 1 files... \n",
      "\u001b[34m\u001b[1mwandb\u001b[0m:   1 of 1 files downloaded.  \n",
      "Done. 0:0:0.5\n",
      "GPU available: True (cuda), used: True\n",
      "TPU available: False, using: 0 TPU cores\n",
      "IPU available: False, using: 0 IPUs\n",
      "HPU available: False, using: 0 HPUs\n",
      "LOCAL_RANK: 0 - CUDA_VISIBLE_DEVICES: [0]\n"
     ]
    },
    {
     "data": {
      "application/vnd.jupyter.widget-view+json": {
       "model_id": "d4ad923f53e640ccbfd03470c24d01ce",
       "version_major": 2,
       "version_minor": 0
      },
      "text/plain": [
       "Predicting: 0it [00:00, ?it/s]"
      ]
     },
     "metadata": {},
     "output_type": "display_data"
    },
    {
     "name": "stderr",
     "output_type": "stream",
     "text": [
      "\u001b[34m\u001b[1mwandb\u001b[0m: Downloading large artifact human_state_dict:latest, 939.29MB. 1 files... \n",
      "\u001b[34m\u001b[1mwandb\u001b[0m:   1 of 1 files downloaded.  \n",
      "Done. 0:0:0.5\n",
      "/home/tl688/.conda/envs/evo/lib/python3.11/site-packages/lightning_fabric/plugins/environments/slurm.py:165: The `srun` command is available on your system but is not used. HINT: If your intention is to run Lightning on SLURM, prepend your python command with `srun` like so: srun python /home/tl688/.conda/envs/evo/lib/python3.11/site-pack ...\n",
      "GPU available: True (cuda), used: True\n",
      "TPU available: False, using: 0 TPU cores\n",
      "IPU available: False, using: 0 IPUs\n",
      "HPU available: False, using: 0 HPUs\n",
      "/home/tl688/.conda/envs/evo/lib/python3.11/site-packages/torch/utils/data/dataloader.py:558: UserWarning: This DataLoader will create 8 worker processes in total. Our suggested max number of worker in current system is 1, which is smaller than what this DataLoader is going to create. Please be aware that excessive worker creation might get DataLoader running slow or even freeze, lower the worker number to avoid potential slowness/freeze if necessary.\n",
      "  warnings.warn(_create_warning_msg(\n",
      "Missing logger folder: /home/tl688/scratch/tutorial_enformer_test_emb_check_new/2025_02_01_14_27\n",
      "LOCAL_RANK: 0 - CUDA_VISIBLE_DEVICES: [0]\n"
     ]
    },
    {
     "name": "stdout",
     "output_type": "stream",
     "text": [
      "should we shuffle? True\n"
     ]
    },
    {
     "data": {
      "application/vnd.jupyter.widget-view+json": {
       "model_id": "10eaf1187d704688a93677221cb550fe",
       "version_major": 2,
       "version_minor": 0
      },
      "text/plain": [
       "Validation: 0it [00:00, ?it/s]"
      ]
     },
     "metadata": {},
     "output_type": "display_data"
    },
    {
     "name": "stderr",
     "output_type": "stream",
     "text": [
      "/home/tl688/.conda/envs/evo/lib/python3.11/site-packages/torchmetrics/utilities/prints.py:43: UserWarning: The variance of predictions or target is close to zero. This can cause instability in Pearson correlationcoefficient, leading to wrong results. Consider re-scaling the input if possible or computing using alarger dtype (currently using torch.float32).\n",
      "  warnings.warn(*args, **kwargs)  # noqa: B028\n"
     ]
    },
    {
     "data": {
      "text/html": [
       "<pre style=\"white-space:pre;overflow-x:auto;line-height:normal;font-family:Menlo,'DejaVu Sans Mono',consolas,'Courier New',monospace\">┏━━━━━━━━━━━━━━━━━━━━━━━━━━━┳━━━━━━━━━━━━━━━━━━━━━━━━━━━┓\n",
       "┃<span style=\"font-weight: bold\">  Runningstage.validating  </span>┃<span style=\"font-weight: bold\">                           </span>┃\n",
       "┃<span style=\"font-weight: bold\">          metric           </span>┃<span style=\"font-weight: bold\">       DataLoader 0        </span>┃\n",
       "┡━━━━━━━━━━━━━━━━━━━━━━━━━━━╇━━━━━━━━━━━━━━━━━━━━━━━━━━━┩\n",
       "│<span style=\"color: #008080; text-decoration-color: #008080\">         val_loss          </span>│<span style=\"color: #800080; text-decoration-color: #800080\">    1.1710073947906494     </span>│\n",
       "│<span style=\"color: #008080; text-decoration-color: #008080\">          val_mse          </span>│<span style=\"color: #800080; text-decoration-color: #800080\">    1.1788291931152344     </span>│\n",
       "│<span style=\"color: #008080; text-decoration-color: #008080\">        val_pearson        </span>│<span style=\"color: #800080; text-decoration-color: #800080\">    0.1399817019701004     </span>│\n",
       "└───────────────────────────┴───────────────────────────┘\n",
       "</pre>\n"
      ],
      "text/plain": [
       "┏━━━━━━━━━━━━━━━━━━━━━━━━━━━┳━━━━━━━━━━━━━━━━━━━━━━━━━━━┓\n",
       "┃\u001b[1m \u001b[0m\u001b[1m Runningstage.validating \u001b[0m\u001b[1m \u001b[0m┃\u001b[1m                           \u001b[0m┃\n",
       "┃\u001b[1m \u001b[0m\u001b[1m         metric          \u001b[0m\u001b[1m \u001b[0m┃\u001b[1m \u001b[0m\u001b[1m      DataLoader 0       \u001b[0m\u001b[1m \u001b[0m┃\n",
       "┡━━━━━━━━━━━━━━━━━━━━━━━━━━━╇━━━━━━━━━━━━━━━━━━━━━━━━━━━┩\n",
       "│\u001b[36m \u001b[0m\u001b[36m        val_loss         \u001b[0m\u001b[36m \u001b[0m│\u001b[35m \u001b[0m\u001b[35m   1.1710073947906494    \u001b[0m\u001b[35m \u001b[0m│\n",
       "│\u001b[36m \u001b[0m\u001b[36m         val_mse         \u001b[0m\u001b[36m \u001b[0m│\u001b[35m \u001b[0m\u001b[35m   1.1788291931152344    \u001b[0m\u001b[35m \u001b[0m│\n",
       "│\u001b[36m \u001b[0m\u001b[36m       val_pearson       \u001b[0m\u001b[36m \u001b[0m│\u001b[35m \u001b[0m\u001b[35m   0.1399817019701004    \u001b[0m\u001b[35m \u001b[0m│\n",
       "└───────────────────────────┴───────────────────────────┘\n"
      ]
     },
     "metadata": {},
     "output_type": "display_data"
    },
    {
     "name": "stderr",
     "output_type": "stream",
     "text": [
      "/home/tl688/.conda/envs/evo/lib/python3.11/site-packages/lightning_fabric/plugins/environments/slurm.py:165: The `srun` command is available on your system but is not used. HINT: If your intention is to run Lightning on SLURM, prepend your python command with `srun` like so: srun python /home/tl688/.conda/envs/evo/lib/python3.11/site-pack ...\n",
      "LOCAL_RANK: 0 - CUDA_VISIBLE_DEVICES: [0]\n",
      "\n",
      "  | Name         | Type                              | Params\n",
      "-------------------------------------------------------------------\n",
      "0 | model        | UKBioBERT_EnformerPretrainedModel | 72.2 M\n",
      "1 | loss         | MSELoss                           | 0     \n",
      "2 | activation   | Identity                          | 0     \n",
      "3 | val_metrics  | MetricCollection                  | 0     \n",
      "4 | test_metrics | MetricCollection                  | 0     \n",
      "5 | transform    | Identity                          | 0     \n",
      "-------------------------------------------------------------------\n",
      "72.2 M    Trainable params\n",
      "0         Non-trainable params\n",
      "72.2 M    Total params\n",
      "288.934   Total estimated model params size (MB)\n"
     ]
    },
    {
     "data": {
      "application/vnd.jupyter.widget-view+json": {
       "model_id": "",
       "version_major": 2,
       "version_minor": 0
      },
      "text/plain": [
       "Sanity Checking: 0it [00:00, ?it/s]"
      ]
     },
     "metadata": {},
     "output_type": "display_data"
    },
    {
     "name": "stderr",
     "output_type": "stream",
     "text": [
      "/home/tl688/.conda/envs/evo/lib/python3.11/site-packages/torch/utils/data/dataloader.py:558: UserWarning: This DataLoader will create 8 worker processes in total. Our suggested max number of worker in current system is 1, which is smaller than what this DataLoader is going to create. Please be aware that excessive worker creation might get DataLoader running slow or even freeze, lower the worker number to avoid potential slowness/freeze if necessary.\n",
      "  warnings.warn(_create_warning_msg(\n",
      "/home/tl688/.conda/envs/evo/lib/python3.11/site-packages/torchmetrics/utilities/prints.py:43: UserWarning: The variance of predictions or target is close to zero. This can cause instability in Pearson correlationcoefficient, leading to wrong results. Consider re-scaling the input if possible or computing using alarger dtype (currently using torch.float32).\n",
      "  warnings.warn(*args, **kwargs)  # noqa: B028\n"
     ]
    },
    {
     "data": {
      "application/vnd.jupyter.widget-view+json": {
       "model_id": "b0315e1c6a2444e896225612d73b4783",
       "version_major": 2,
       "version_minor": 0
      },
      "text/plain": [
       "Training: 0it [00:00, ?it/s]"
      ]
     },
     "metadata": {},
     "output_type": "display_data"
    },
    {
     "data": {
      "application/vnd.jupyter.widget-view+json": {
       "model_id": "",
       "version_major": 2,
       "version_minor": 0
      },
      "text/plain": [
       "Validation: 0it [00:00, ?it/s]"
      ]
     },
     "metadata": {},
     "output_type": "display_data"
    },
    {
     "data": {
      "application/vnd.jupyter.widget-view+json": {
       "model_id": "",
       "version_major": 2,
       "version_minor": 0
      },
      "text/plain": [
       "Validation: 0it [00:00, ?it/s]"
      ]
     },
     "metadata": {},
     "output_type": "display_data"
    },
    {
     "data": {
      "application/vnd.jupyter.widget-view+json": {
       "model_id": "",
       "version_major": 2,
       "version_minor": 0
      },
      "text/plain": [
       "Validation: 0it [00:00, ?it/s]"
      ]
     },
     "metadata": {},
     "output_type": "display_data"
    },
    {
     "data": {
      "application/vnd.jupyter.widget-view+json": {
       "model_id": "",
       "version_major": 2,
       "version_minor": 0
      },
      "text/plain": [
       "Validation: 0it [00:00, ?it/s]"
      ]
     },
     "metadata": {},
     "output_type": "display_data"
    },
    {
     "data": {
      "application/vnd.jupyter.widget-view+json": {
       "model_id": "",
       "version_major": 2,
       "version_minor": 0
      },
      "text/plain": [
       "Validation: 0it [00:00, ?it/s]"
      ]
     },
     "metadata": {},
     "output_type": "display_data"
    },
    {
     "data": {
      "application/vnd.jupyter.widget-view+json": {
       "model_id": "",
       "version_major": 2,
       "version_minor": 0
      },
      "text/plain": [
       "Validation: 0it [00:00, ?it/s]"
      ]
     },
     "metadata": {},
     "output_type": "display_data"
    },
    {
     "data": {
      "application/vnd.jupyter.widget-view+json": {
       "model_id": "",
       "version_major": 2,
       "version_minor": 0
      },
      "text/plain": [
       "Validation: 0it [00:00, ?it/s]"
      ]
     },
     "metadata": {},
     "output_type": "display_data"
    },
    {
     "data": {
      "application/vnd.jupyter.widget-view+json": {
       "model_id": "",
       "version_major": 2,
       "version_minor": 0
      },
      "text/plain": [
       "Validation: 0it [00:00, ?it/s]"
      ]
     },
     "metadata": {},
     "output_type": "display_data"
    },
    {
     "data": {
      "application/vnd.jupyter.widget-view+json": {
       "model_id": "",
       "version_major": 2,
       "version_minor": 0
      },
      "text/plain": [
       "Validation: 0it [00:00, ?it/s]"
      ]
     },
     "metadata": {},
     "output_type": "display_data"
    },
    {
     "data": {
      "application/vnd.jupyter.widget-view+json": {
       "model_id": "",
       "version_major": 2,
       "version_minor": 0
      },
      "text/plain": [
       "Validation: 0it [00:00, ?it/s]"
      ]
     },
     "metadata": {},
     "output_type": "display_data"
    },
    {
     "data": {
      "application/vnd.jupyter.widget-view+json": {
       "model_id": "",
       "version_major": 2,
       "version_minor": 0
      },
      "text/plain": [
       "Validation: 0it [00:00, ?it/s]"
      ]
     },
     "metadata": {},
     "output_type": "display_data"
    },
    {
     "data": {
      "application/vnd.jupyter.widget-view+json": {
       "model_id": "",
       "version_major": 2,
       "version_minor": 0
      },
      "text/plain": [
       "Validation: 0it [00:00, ?it/s]"
      ]
     },
     "metadata": {},
     "output_type": "display_data"
    },
    {
     "data": {
      "application/vnd.jupyter.widget-view+json": {
       "model_id": "",
       "version_major": 2,
       "version_minor": 0
      },
      "text/plain": [
       "Validation: 0it [00:00, ?it/s]"
      ]
     },
     "metadata": {},
     "output_type": "display_data"
    },
    {
     "data": {
      "application/vnd.jupyter.widget-view+json": {
       "model_id": "",
       "version_major": 2,
       "version_minor": 0
      },
      "text/plain": [
       "Validation: 0it [00:00, ?it/s]"
      ]
     },
     "metadata": {},
     "output_type": "display_data"
    },
    {
     "data": {
      "application/vnd.jupyter.widget-view+json": {
       "model_id": "",
       "version_major": 2,
       "version_minor": 0
      },
      "text/plain": [
       "Validation: 0it [00:00, ?it/s]"
      ]
     },
     "metadata": {},
     "output_type": "display_data"
    },
    {
     "data": {
      "application/vnd.jupyter.widget-view+json": {
       "model_id": "",
       "version_major": 2,
       "version_minor": 0
      },
      "text/plain": [
       "Validation: 0it [00:00, ?it/s]"
      ]
     },
     "metadata": {},
     "output_type": "display_data"
    },
    {
     "data": {
      "application/vnd.jupyter.widget-view+json": {
       "model_id": "",
       "version_major": 2,
       "version_minor": 0
      },
      "text/plain": [
       "Validation: 0it [00:00, ?it/s]"
      ]
     },
     "metadata": {},
     "output_type": "display_data"
    },
    {
     "data": {
      "application/vnd.jupyter.widget-view+json": {
       "model_id": "",
       "version_major": 2,
       "version_minor": 0
      },
      "text/plain": [
       "Validation: 0it [00:00, ?it/s]"
      ]
     },
     "metadata": {},
     "output_type": "display_data"
    },
    {
     "data": {
      "application/vnd.jupyter.widget-view+json": {
       "model_id": "",
       "version_major": 2,
       "version_minor": 0
      },
      "text/plain": [
       "Validation: 0it [00:00, ?it/s]"
      ]
     },
     "metadata": {},
     "output_type": "display_data"
    },
    {
     "data": {
      "application/vnd.jupyter.widget-view+json": {
       "model_id": "",
       "version_major": 2,
       "version_minor": 0
      },
      "text/plain": [
       "Validation: 0it [00:00, ?it/s]"
      ]
     },
     "metadata": {},
     "output_type": "display_data"
    },
    {
     "data": {
      "application/vnd.jupyter.widget-view+json": {
       "model_id": "",
       "version_major": 2,
       "version_minor": 0
      },
      "text/plain": [
       "Validation: 0it [00:00, ?it/s]"
      ]
     },
     "metadata": {},
     "output_type": "display_data"
    },
    {
     "data": {
      "application/vnd.jupyter.widget-view+json": {
       "model_id": "",
       "version_major": 2,
       "version_minor": 0
      },
      "text/plain": [
       "Validation: 0it [00:00, ?it/s]"
      ]
     },
     "metadata": {},
     "output_type": "display_data"
    },
    {
     "data": {
      "application/vnd.jupyter.widget-view+json": {
       "model_id": "",
       "version_major": 2,
       "version_minor": 0
      },
      "text/plain": [
       "Validation: 0it [00:00, ?it/s]"
      ]
     },
     "metadata": {},
     "output_type": "display_data"
    },
    {
     "data": {
      "application/vnd.jupyter.widget-view+json": {
       "model_id": "",
       "version_major": 2,
       "version_minor": 0
      },
      "text/plain": [
       "Validation: 0it [00:00, ?it/s]"
      ]
     },
     "metadata": {},
     "output_type": "display_data"
    },
    {
     "data": {
      "application/vnd.jupyter.widget-view+json": {
       "model_id": "",
       "version_major": 2,
       "version_minor": 0
      },
      "text/plain": [
       "Validation: 0it [00:00, ?it/s]"
      ]
     },
     "metadata": {},
     "output_type": "display_data"
    },
    {
     "data": {
      "application/vnd.jupyter.widget-view+json": {
       "model_id": "",
       "version_major": 2,
       "version_minor": 0
      },
      "text/plain": [
       "Validation: 0it [00:00, ?it/s]"
      ]
     },
     "metadata": {},
     "output_type": "display_data"
    },
    {
     "data": {
      "application/vnd.jupyter.widget-view+json": {
       "model_id": "",
       "version_major": 2,
       "version_minor": 0
      },
      "text/plain": [
       "Validation: 0it [00:00, ?it/s]"
      ]
     },
     "metadata": {},
     "output_type": "display_data"
    },
    {
     "data": {
      "application/vnd.jupyter.widget-view+json": {
       "model_id": "",
       "version_major": 2,
       "version_minor": 0
      },
      "text/plain": [
       "Validation: 0it [00:00, ?it/s]"
      ]
     },
     "metadata": {},
     "output_type": "display_data"
    },
    {
     "data": {
      "application/vnd.jupyter.widget-view+json": {
       "model_id": "",
       "version_major": 2,
       "version_minor": 0
      },
      "text/plain": [
       "Validation: 0it [00:00, ?it/s]"
      ]
     },
     "metadata": {},
     "output_type": "display_data"
    },
    {
     "data": {
      "application/vnd.jupyter.widget-view+json": {
       "model_id": "",
       "version_major": 2,
       "version_minor": 0
      },
      "text/plain": [
       "Validation: 0it [00:00, ?it/s]"
      ]
     },
     "metadata": {},
     "output_type": "display_data"
    },
    {
     "data": {
      "application/vnd.jupyter.widget-view+json": {
       "model_id": "",
       "version_major": 2,
       "version_minor": 0
      },
      "text/plain": [
       "Validation: 0it [00:00, ?it/s]"
      ]
     },
     "metadata": {},
     "output_type": "display_data"
    },
    {
     "data": {
      "application/vnd.jupyter.widget-view+json": {
       "model_id": "",
       "version_major": 2,
       "version_minor": 0
      },
      "text/plain": [
       "Validation: 0it [00:00, ?it/s]"
      ]
     },
     "metadata": {},
     "output_type": "display_data"
    },
    {
     "data": {
      "application/vnd.jupyter.widget-view+json": {
       "model_id": "",
       "version_major": 2,
       "version_minor": 0
      },
      "text/plain": [
       "Validation: 0it [00:00, ?it/s]"
      ]
     },
     "metadata": {},
     "output_type": "display_data"
    },
    {
     "data": {
      "application/vnd.jupyter.widget-view+json": {
       "model_id": "",
       "version_major": 2,
       "version_minor": 0
      },
      "text/plain": [
       "Validation: 0it [00:00, ?it/s]"
      ]
     },
     "metadata": {},
     "output_type": "display_data"
    },
    {
     "data": {
      "application/vnd.jupyter.widget-view+json": {
       "model_id": "",
       "version_major": 2,
       "version_minor": 0
      },
      "text/plain": [
       "Validation: 0it [00:00, ?it/s]"
      ]
     },
     "metadata": {},
     "output_type": "display_data"
    },
    {
     "data": {
      "application/vnd.jupyter.widget-view+json": {
       "model_id": "",
       "version_major": 2,
       "version_minor": 0
      },
      "text/plain": [
       "Validation: 0it [00:00, ?it/s]"
      ]
     },
     "metadata": {},
     "output_type": "display_data"
    },
    {
     "data": {
      "application/vnd.jupyter.widget-view+json": {
       "model_id": "",
       "version_major": 2,
       "version_minor": 0
      },
      "text/plain": [
       "Validation: 0it [00:00, ?it/s]"
      ]
     },
     "metadata": {},
     "output_type": "display_data"
    },
    {
     "data": {
      "application/vnd.jupyter.widget-view+json": {
       "model_id": "",
       "version_major": 2,
       "version_minor": 0
      },
      "text/plain": [
       "Validation: 0it [00:00, ?it/s]"
      ]
     },
     "metadata": {},
     "output_type": "display_data"
    },
    {
     "data": {
      "application/vnd.jupyter.widget-view+json": {
       "model_id": "",
       "version_major": 2,
       "version_minor": 0
      },
      "text/plain": [
       "Validation: 0it [00:00, ?it/s]"
      ]
     },
     "metadata": {},
     "output_type": "display_data"
    },
    {
     "data": {
      "application/vnd.jupyter.widget-view+json": {
       "model_id": "",
       "version_major": 2,
       "version_minor": 0
      },
      "text/plain": [
       "Validation: 0it [00:00, ?it/s]"
      ]
     },
     "metadata": {},
     "output_type": "display_data"
    },
    {
     "data": {
      "application/vnd.jupyter.widget-view+json": {
       "model_id": "",
       "version_major": 2,
       "version_minor": 0
      },
      "text/plain": [
       "Validation: 0it [00:00, ?it/s]"
      ]
     },
     "metadata": {},
     "output_type": "display_data"
    },
    {
     "data": {
      "application/vnd.jupyter.widget-view+json": {
       "model_id": "",
       "version_major": 2,
       "version_minor": 0
      },
      "text/plain": [
       "Validation: 0it [00:00, ?it/s]"
      ]
     },
     "metadata": {},
     "output_type": "display_data"
    },
    {
     "data": {
      "application/vnd.jupyter.widget-view+json": {
       "model_id": "",
       "version_major": 2,
       "version_minor": 0
      },
      "text/plain": [
       "Validation: 0it [00:00, ?it/s]"
      ]
     },
     "metadata": {},
     "output_type": "display_data"
    },
    {
     "data": {
      "application/vnd.jupyter.widget-view+json": {
       "model_id": "",
       "version_major": 2,
       "version_minor": 0
      },
      "text/plain": [
       "Validation: 0it [00:00, ?it/s]"
      ]
     },
     "metadata": {},
     "output_type": "display_data"
    },
    {
     "data": {
      "application/vnd.jupyter.widget-view+json": {
       "model_id": "",
       "version_major": 2,
       "version_minor": 0
      },
      "text/plain": [
       "Validation: 0it [00:00, ?it/s]"
      ]
     },
     "metadata": {},
     "output_type": "display_data"
    },
    {
     "data": {
      "application/vnd.jupyter.widget-view+json": {
       "model_id": "",
       "version_major": 2,
       "version_minor": 0
      },
      "text/plain": [
       "Validation: 0it [00:00, ?it/s]"
      ]
     },
     "metadata": {},
     "output_type": "display_data"
    },
    {
     "data": {
      "application/vnd.jupyter.widget-view+json": {
       "model_id": "",
       "version_major": 2,
       "version_minor": 0
      },
      "text/plain": [
       "Validation: 0it [00:00, ?it/s]"
      ]
     },
     "metadata": {},
     "output_type": "display_data"
    },
    {
     "data": {
      "application/vnd.jupyter.widget-view+json": {
       "model_id": "",
       "version_major": 2,
       "version_minor": 0
      },
      "text/plain": [
       "Validation: 0it [00:00, ?it/s]"
      ]
     },
     "metadata": {},
     "output_type": "display_data"
    },
    {
     "data": {
      "application/vnd.jupyter.widget-view+json": {
       "model_id": "",
       "version_major": 2,
       "version_minor": 0
      },
      "text/plain": [
       "Validation: 0it [00:00, ?it/s]"
      ]
     },
     "metadata": {},
     "output_type": "display_data"
    },
    {
     "data": {
      "application/vnd.jupyter.widget-view+json": {
       "model_id": "",
       "version_major": 2,
       "version_minor": 0
      },
      "text/plain": [
       "Validation: 0it [00:00, ?it/s]"
      ]
     },
     "metadata": {},
     "output_type": "display_data"
    },
    {
     "data": {
      "application/vnd.jupyter.widget-view+json": {
       "model_id": "",
       "version_major": 2,
       "version_minor": 0
      },
      "text/plain": [
       "Validation: 0it [00:00, ?it/s]"
      ]
     },
     "metadata": {},
     "output_type": "display_data"
    },
    {
     "data": {
      "application/vnd.jupyter.widget-view+json": {
       "model_id": "",
       "version_major": 2,
       "version_minor": 0
      },
      "text/plain": [
       "Validation: 0it [00:00, ?it/s]"
      ]
     },
     "metadata": {},
     "output_type": "display_data"
    },
    {
     "data": {
      "application/vnd.jupyter.widget-view+json": {
       "model_id": "",
       "version_major": 2,
       "version_minor": 0
      },
      "text/plain": [
       "Validation: 0it [00:00, ?it/s]"
      ]
     },
     "metadata": {},
     "output_type": "display_data"
    },
    {
     "data": {
      "application/vnd.jupyter.widget-view+json": {
       "model_id": "",
       "version_major": 2,
       "version_minor": 0
      },
      "text/plain": [
       "Validation: 0it [00:00, ?it/s]"
      ]
     },
     "metadata": {},
     "output_type": "display_data"
    },
    {
     "data": {
      "application/vnd.jupyter.widget-view+json": {
       "model_id": "",
       "version_major": 2,
       "version_minor": 0
      },
      "text/plain": [
       "Validation: 0it [00:00, ?it/s]"
      ]
     },
     "metadata": {},
     "output_type": "display_data"
    },
    {
     "data": {
      "application/vnd.jupyter.widget-view+json": {
       "model_id": "",
       "version_major": 2,
       "version_minor": 0
      },
      "text/plain": [
       "Validation: 0it [00:00, ?it/s]"
      ]
     },
     "metadata": {},
     "output_type": "display_data"
    },
    {
     "data": {
      "application/vnd.jupyter.widget-view+json": {
       "model_id": "",
       "version_major": 2,
       "version_minor": 0
      },
      "text/plain": [
       "Validation: 0it [00:00, ?it/s]"
      ]
     },
     "metadata": {},
     "output_type": "display_data"
    },
    {
     "data": {
      "application/vnd.jupyter.widget-view+json": {
       "model_id": "",
       "version_major": 2,
       "version_minor": 0
      },
      "text/plain": [
       "Validation: 0it [00:00, ?it/s]"
      ]
     },
     "metadata": {},
     "output_type": "display_data"
    },
    {
     "data": {
      "application/vnd.jupyter.widget-view+json": {
       "model_id": "",
       "version_major": 2,
       "version_minor": 0
      },
      "text/plain": [
       "Validation: 0it [00:00, ?it/s]"
      ]
     },
     "metadata": {},
     "output_type": "display_data"
    },
    {
     "data": {
      "application/vnd.jupyter.widget-view+json": {
       "model_id": "",
       "version_major": 2,
       "version_minor": 0
      },
      "text/plain": [
       "Validation: 0it [00:00, ?it/s]"
      ]
     },
     "metadata": {},
     "output_type": "display_data"
    },
    {
     "data": {
      "application/vnd.jupyter.widget-view+json": {
       "model_id": "f5766ca644174eef89de4295cc7c98f6",
       "version_major": 2,
       "version_minor": 0
      },
      "text/plain": [
       "Validation: 0it [00:00, ?it/s]"
      ]
     },
     "metadata": {},
     "output_type": "display_data"
    }
   ],
   "source": [
    "# data_list = []\n",
    "# for i, (train_index, test_index) in enumerate(kf.split(df_train_update.index)):\n",
    "# #     if i==1:\n",
    "#     train_id = df_train_update.index[train_index]\n",
    "#     test_id = df_train_update.index[test_index]\n",
    "\n",
    "#     id_train, id_valid = sklearn.model_selection.train_test_split(train_id)\n",
    "\n",
    "#     data_train =np.array(seq_all)[id_train,:,:]\n",
    "#     y_train = gene_exp_train.iloc[idx_gene,id_train].values[0]\n",
    "\n",
    "#     data_valid = np.array(seq_all)[id_valid,:,:]\n",
    "#     y_valid = gene_exp_train.iloc[idx_gene,id_valid].values[0]\n",
    "\n",
    "#     data_test = np.array(seq_all)[test_id,:,:]\n",
    "#     y_test = gene_exp_train.iloc[idx_gene,test_id].values[0]\n",
    "\n",
    "#     experiment='tutorial_enformer_test_emb'\n",
    "#     if not os.path.exists(experiment):\n",
    "#         os.makedirs(experiment)\n",
    "#     else:\n",
    "#         files = glob.glob(experiment + \"/*\")\n",
    "#         for f in files:\n",
    "#             shutil.rmtree(f)\n",
    "\n",
    "#     import grelu.data.dataset\n",
    "# #         df_train = pd.DataFrame()\n",
    "# #         df_train['input_seq'] = data_train.flatten()\n",
    "# #         df_train['label'] = y_train\n",
    "\n",
    "# # train_dataset = grelu.data.dataset.LabeledOneHotDataset(seqs=np.array(seq_all)[train_index],labels=gene_exp[train_index], seq_len=129553, tasks=['pred'])\n",
    "#     train_dataset = grelu.data.dataset.LabeledOneHotDataset(seqs=data_train,labels=y_train, seq_len=49000, tasks=['pred'])\n",
    "\n",
    "\n",
    "# #         df_valid = pd.DataFrame()\n",
    "# #         df_valid['input_seq'] =data_valid.flatten()\n",
    "# #         df_valid['label'] = y_valid\n",
    "\n",
    "#     valid_dataset = grelu.data.dataset.LabeledOneHotDataset(seqs=data_valid,labels=y_valid, seq_len=49000, tasks=['pred'])\n",
    "\n",
    "# #         df_test = pd.DataFrame()\n",
    "# #         df_test['input_seq'] = data_test.flatten()\n",
    "# #         df_test['label'] = y_test\n",
    "\n",
    "#     test_dataset = grelu.data.dataset.LabeledOneHotDataset(seqs=data_test,labels=y_test, seq_len=49000, tasks=['pred'])\n",
    "\n",
    "#     model_params = {\n",
    "#         'model_type':'UKBioBERT_EnformerPretrainedModel', # Type of model\n",
    "#         'n_tasks': 1, # Number of cell types to predict\n",
    "#         'crop_len':0, # No cropping of the model output\n",
    "#         'n_transformers': 11, # Number of transformer layers; the published Enformer model has 11\n",
    "#     }\n",
    "\n",
    "#     train_params = {\n",
    "#         'task':'regression', # binary classification\n",
    "#         'lr':5e-6, # learning rate\n",
    "#         'logger': 'csv', # Logs will be written to a CSV file\n",
    "#         'batch_size': 8,\n",
    "#         'num_workers': 8,\n",
    "#         'devices': 0, # GPU index\n",
    "#         'save_dir': experiment,\n",
    "#         'optimizer': 'adam',\n",
    "#         'max_epochs': 100,\n",
    "#         'checkpoint': True, # Save checkpoints\n",
    "#         'loss': 'mse'\n",
    "#     }\n",
    "\n",
    "#     import grelu.lightning\n",
    "#     model = grelu.lightning.LightningModel(model_params=model_params, train_params=train_params)\n",
    "\n",
    "#     # See the 'tutorial_2' folder for logs\n",
    "#     trainer = model.train_on_dataset(\n",
    "#         train_dataset=train_dataset,\n",
    "#         val_dataset=valid_dataset)\n",
    "\n",
    "# #         trainer = Trainer(callbacks=[EarlyStopping(monitor=\"val_loss\", mode=\"min\", patience=20)])\n",
    "\n",
    "#     best_checkpoint = trainer.checkpoint_callback.best_model_path\n",
    "#     # best_checkpoint = 'tutorial_enformer_1e4/2024_23_10_15_30/version_0/checkpoints/epoch=17-step=1782.ckpt'\n",
    "#     print(best_checkpoint)\n",
    "#     model = grelu.lightning.LightningModel.load_from_checkpoint(best_checkpoint)\n",
    "\n",
    "#     probs = model.predict_on_dataset(\n",
    "#     test_dataset,\n",
    "#     devices=0,\n",
    "#     num_workers=8,\n",
    "#     batch_size=1,\n",
    "#     return_df=True)\n",
    "\n",
    "#     probs.to_csv(f\"./fold_pred/{gene_name}_enformer_H1H2_49000_includeukbbemb_full_fold{i}.csv\")\n",
    "\n",
    "\n",
    "data_list = []\n",
    "for i, (train_index, test_index) in enumerate(kf.split(df_train_update.index)):\n",
    "    if i != 1:\n",
    "        train_id = df_train_update.index[train_index]\n",
    "        test_id = df_train_update.index[test_index]\n",
    "\n",
    "        id_train, id_valid = sklearn.model_selection.train_test_split(train_id)\n",
    "\n",
    "        data_train =np.array(seq_all)[id_train,:,:]\n",
    "        y_train = gene_exp_train.iloc[idx_gene,id_train].values[0]\n",
    "\n",
    "        data_valid = np.array(seq_all)[id_valid,:,:]\n",
    "        y_valid = gene_exp_train.iloc[idx_gene,id_valid].values[0]\n",
    "\n",
    "        data_test = np.array(seq_all)[test_id,:,:]\n",
    "        y_test = gene_exp_train.iloc[idx_gene,test_id].values[0]\n",
    "\n",
    "        experiment='/home/tl688/scratch/tutorial_enformer_test_emb_check_new'\n",
    "        if not os.path.exists(experiment):\n",
    "            os.makedirs(experiment)\n",
    "        else:\n",
    "            files = glob.glob(experiment + \"/*\")\n",
    "            for f in files:\n",
    "                shutil.rmtree(f)\n",
    "\n",
    "        import grelu.data.dataset\n",
    "    #         df_train = pd.DataFrame()\n",
    "    #         df_train['input_seq'] = data_train.flatten()\n",
    "    #         df_train['label'] = y_train\n",
    "\n",
    "    # train_dataset = grelu.data.dataset.LabeledOneHotDataset(seqs=np.array(seq_all)[train_index],labels=gene_exp[train_index], seq_len=129553, tasks=['pred'])\n",
    "        train_dataset = grelu.data.dataset.LabeledOneHotDataset(seqs=data_train,labels=y_train, seq_len=seq_len, tasks=['pred'])\n",
    "\n",
    "\n",
    "    #         df_valid = pd.DataFrame()\n",
    "    #         df_valid['input_seq'] =data_valid.flatten()\n",
    "    #         df_valid['label'] = y_valid\n",
    "\n",
    "        valid_dataset = grelu.data.dataset.LabeledOneHotDataset(seqs=data_valid,labels=y_valid, seq_len=seq_len, tasks=['pred'])\n",
    "\n",
    "    #         df_test = pd.DataFrame()\n",
    "    #         df_test['input_seq'] = data_test.flatten()\n",
    "    #         df_test['label'] = y_test\n",
    "\n",
    "        test_dataset = grelu.data.dataset.LabeledOneHotDataset(seqs=data_test,labels=y_test, seq_len=seq_len, tasks=['pred'])\n",
    "\n",
    "        model_params = {\n",
    "            'model_type':'UKBioBERT_EnformerPretrainedModel', # Type of model\n",
    "            'n_tasks': 1, # Number of cell types to predict\n",
    "            'crop_len':0, # No cropping of the model output\n",
    "            'n_transformers': 1, # Number of transformer layers; the published Enformer model has 11\n",
    "        }\n",
    "\n",
    "        train_params = {\n",
    "            'task':'regression', # binary classification\n",
    "            'lr':5e-6, # learning rate\n",
    "            'logger': 'csv', # Logs will be written to a CSV file\n",
    "            'batch_size': 8,\n",
    "            'num_workers': 8,\n",
    "            'devices': 0, # GPU index\n",
    "            'save_dir': experiment,\n",
    "            'optimizer': 'adam',\n",
    "            'max_epochs': 100,\n",
    "            'checkpoint': True, # Save checkpoints\n",
    "            'loss': 'MSE'\n",
    "        }\n",
    "\n",
    "        import grelu.lightning\n",
    "        model = grelu.lightning.LightningModel(model_params=model_params, train_params=train_params)\n",
    "\n",
    "        # See the 'tutorial_2' folder for logs\n",
    "        trainer = model.train_on_dataset(\n",
    "            train_dataset=train_dataset,\n",
    "            val_dataset=valid_dataset)\n",
    "\n",
    "    #         trainer = Trainer(callbacks=[EarlyStopping(monitor=\"val_loss\", mode=\"min\", patience=20)])\n",
    "\n",
    "        best_checkpoint = trainer.checkpoint_callback.best_model_path\n",
    "        # best_checkpoint = 'tutorial_enformer_1e4/2024_23_10_15_30/version_0/checkpoints/epoch=17-step=1782.ckpt'\n",
    "        print(best_checkpoint)\n",
    "        model = grelu.lightning.LightningModel.load_from_checkpoint(best_checkpoint)\n",
    "\n",
    "        probs = model.predict_on_dataset(\n",
    "        test_dataset,\n",
    "        devices=0,\n",
    "        num_workers=8,\n",
    "        batch_size=1,\n",
    "        return_df=True)\n",
    "\n",
    "    #     probs.to_csv(f\"./fold_pred/{gene_name}_enformer_H1H2_100000_5e6_epoch100_includeukbbemb_emb512ukbb_changeinit_49000_fold{i}.csv\")\n",
    "        probs.to_csv(f\"./fold_pred/{gene_name}_enformer_H1H2_100000_5e6_epoch100_includeukbbemb_emb512ukbb_changeinit_update_49000_fold{i}.csv\")\n"
   ]
  },
  {
   "cell_type": "code",
   "execution_count": null,
   "id": "1fffb235",
   "metadata": {},
   "outputs": [],
   "source": [
    "model"
   ]
  },
  {
   "cell_type": "code",
   "execution_count": null,
   "id": "11734d75",
   "metadata": {},
   "outputs": [],
   "source": [
    "# !nvidia-smi"
   ]
  },
  {
   "cell_type": "code",
   "execution_count": null,
   "id": "4ec27b2f",
   "metadata": {},
   "outputs": [],
   "source": [
    "# !nvidia-smi"
   ]
  },
  {
   "cell_type": "code",
   "execution_count": null,
   "id": "0f20dd3d",
   "metadata": {},
   "outputs": [],
   "source": [
    "# # 50536-49000\n",
    "# import torch\n",
    "\n",
    "# # Create an example tensor with size (2, 10, 1)\n",
    "# tensor = torch.randn(2, 10, 1)\n",
    "\n",
    "# # Repeat the tensor to achieve the size (2, 10, 10)\n",
    "# expanded_tensor = tensor.repeat(1, 1, 10)\n",
    "\n",
    "# # Now, expanded_tensor has the size (2, 10, 10)\n",
    "# print(expanded_tensor.shape)"
   ]
  },
  {
   "cell_type": "code",
   "execution_count": null,
   "id": "a3b3b629",
   "metadata": {},
   "outputs": [],
   "source": [
    "# train_dataset[0][0].shape"
   ]
  },
  {
   "cell_type": "code",
   "execution_count": null,
   "id": "32e36246",
   "metadata": {},
   "outputs": [],
   "source": [
    "# !nvidia-smi"
   ]
  },
  {
   "cell_type": "code",
   "execution_count": null,
   "id": "a49892f3",
   "metadata": {},
   "outputs": [],
   "source": [
    "# data_train"
   ]
  },
  {
   "cell_type": "code",
   "execution_count": null,
   "id": "1761aff7",
   "metadata": {},
   "outputs": [],
   "source": [
    "# probs"
   ]
  },
  {
   "cell_type": "code",
   "execution_count": null,
   "id": "5cf430bb",
   "metadata": {},
   "outputs": [],
   "source": []
  },
  {
   "cell_type": "code",
   "execution_count": null,
   "id": "794e1493",
   "metadata": {},
   "outputs": [],
   "source": [
    "df_train_update = pd.DataFrame([i[start:end] for i in seq_list['H2']])\n",
    "\n",
    "df_train_update.index = list_f"
   ]
  },
  {
   "cell_type": "code",
   "execution_count": null,
   "id": "0b91fca6",
   "metadata": {
    "scrolled": true
   },
   "outputs": [],
   "source": [
    "data_list_corr = []\n",
    "data_list_r2 = []\n",
    "data_list_mse = []\n",
    "for i, (train_index, test_index) in enumerate(kf.split(df_train_update.index)):\n",
    "    train_id = df_train_update.index[train_index]\n",
    "    test_id = df_train_update.index[test_index]\n",
    "\n",
    "    id_train, id_valid = sklearn.model_selection.train_test_split(train_id)\n",
    "\n",
    "    data_train =df_train_update.loc[id_train].values\n",
    "    y_train = gene_exp_train.loc[idx_gene,id_train].values[0]\n",
    "\n",
    "    data_valid = df_train_update.loc[id_valid].values\n",
    "    y_valid = gene_exp_train.loc[idx_gene,id_valid].values[0]\n",
    "\n",
    "    data_test = df_train_update.loc[test_id].values\n",
    "    y_test = gene_exp_train.loc[idx_gene,test_id].values[0]\n",
    "\n",
    "    import grelu.data.dataset\n",
    "    df_train = pd.DataFrame()\n",
    "    df_train['input_seq'] = data_train.flatten()\n",
    "    df_train['label'] = y_train\n",
    "\n",
    "\n",
    "    df_valid = pd.DataFrame()\n",
    "    df_valid['input_seq'] =data_valid.flatten()\n",
    "    df_valid['label'] = y_valid\n",
    "\n",
    "\n",
    "    df_test = pd.DataFrame()\n",
    "    df_test['input_seq'] = data_test.flatten()\n",
    "    df_test['label'] = y_test\n",
    "\n",
    "\n",
    "    probs = pd.read_csv(f\"./fold_pred/{gene_name}_enformer_H1H2_100000_5e6_epoch100_includeukbbemb_emb512ukbb_changeinit_update_49000_fold{i}.csv\")\n",
    "    \n",
    "    import scipy\n",
    "    print(scipy.stats.pearsonr(probs['pred'], df_test['label']))\n",
    "    pred_out = probs['pred']\n",
    "    y_test = df_test['label']\n",
    "    corr,pval = scipy.stats.pearsonr(pred_out, y_test)\n",
    "    mse = sklearn.metrics.mean_squared_error(pred_out, y_test)\n",
    "    \n",
    "    data_list_corr.append(corr)\n",
    "    data_list_r2.append(r2_score(y_test, pred_out))\n",
    "    data_list_mse.append(mse)\n",
    "#     break\n",
    "    "
   ]
  },
  {
   "cell_type": "code",
   "execution_count": null,
   "id": "388f8830",
   "metadata": {},
   "outputs": [],
   "source": [
    "df = pd.DataFrame()\n",
    "df['corr'] = data_list_corr\n",
    "df['r2'] = data_list_r2\n",
    "df['mse'] = data_list_mse"
   ]
  },
  {
   "cell_type": "code",
   "execution_count": null,
   "id": "1d652e69",
   "metadata": {},
   "outputs": [],
   "source": [
    "gene_name"
   ]
  },
  {
   "cell_type": "code",
   "execution_count": null,
   "id": "c337c583",
   "metadata": {
    "scrolled": true
   },
   "outputs": [],
   "source": [
    "for i in df.values.flatten():\n",
    "    print(i)"
   ]
  },
  {
   "cell_type": "code",
   "execution_count": null,
   "id": "93a753b1",
   "metadata": {},
   "outputs": [],
   "source": [
    "# !nvidia-smi"
   ]
  },
  {
   "cell_type": "code",
   "execution_count": null,
   "id": "580c8fdf",
   "metadata": {},
   "outputs": [],
   "source": [
    "a =1"
   ]
  },
  {
   "cell_type": "code",
   "execution_count": null,
   "id": "61f2c51e",
   "metadata": {},
   "outputs": [],
   "source": [
    "a = 1"
   ]
  },
  {
   "cell_type": "code",
   "execution_count": null,
   "id": "ab123b6e",
   "metadata": {},
   "outputs": [],
   "source": []
  },
  {
   "cell_type": "code",
   "execution_count": null,
   "id": "02f45443",
   "metadata": {},
   "outputs": [],
   "source": []
  },
  {
   "cell_type": "code",
   "execution_count": null,
   "id": "1c065f18",
   "metadata": {},
   "outputs": [],
   "source": []
  },
  {
   "cell_type": "code",
   "execution_count": null,
   "id": "b0a966f4",
   "metadata": {},
   "outputs": [],
   "source": [
    "# np.save(\"/home/tl688/pitl688/enformer_fine_tuning/data/100gene_brain_seq.npy\", np.array(seq_all))"
   ]
  },
  {
   "cell_type": "code",
   "execution_count": null,
   "id": "7ab4c753",
   "metadata": {},
   "outputs": [],
   "source": [
    "# np.save(\"/home/tl688/pitl688/enformer_fine_tuning/data/100gene_brain_exp.npy\", np.array(value_list))"
   ]
  },
  {
   "cell_type": "code",
   "execution_count": null,
   "id": "76523fe6",
   "metadata": {},
   "outputs": [],
   "source": [
    "a = 1"
   ]
  },
  {
   "cell_type": "code",
   "execution_count": null,
   "id": "948c2a6e",
   "metadata": {},
   "outputs": [],
   "source": [
    "  %matplotlib inline"
   ]
  },
  {
   "cell_type": "code",
   "execution_count": null,
   "id": "9059da99",
   "metadata": {},
   "outputs": [],
   "source": [
    "import seaborn as sns\n",
    "tips = sns.load_dataset(\"tips\")\n",
    "sns.boxplot(x=\"day\", y=\"total_bill\", data=tips)\n",
    "sns.stripplot(x=\"day\", y=\"total_bill\", data=tips,\n",
    "              size=4, jitter=True, edgecolor=\"gray\")"
   ]
  },
  {
   "cell_type": "code",
   "execution_count": null,
   "id": "545cd194",
   "metadata": {},
   "outputs": [],
   "source": [
    "import matplotlib.pyplot as plt\n",
    "plt.figure()\n",
    "sns.boxplot(x=\"day\", y=\"total_bill\", data=tips)\n",
    "sns.stripplot(x=\"day\", y=\"total_bill\", data=tips,\n",
    "              size=4, jitter=True, edgecolor=\"gray\")"
   ]
  },
  {
   "cell_type": "code",
   "execution_count": null,
   "id": "b29bb0bb",
   "metadata": {},
   "outputs": [],
   "source": [
    "import pandas as pd\n",
    "import numpy as np\n",
    "import matplotlib.pyplot as plt\n",
    "\n",
    "data = pd.DataFrame({ \"A\":np.random.normal(0.8,0.2,20),\n",
    "                      \"B\":np.random.normal(0.8,0.1,20), \n",
    "                      \"C\":np.random.normal(0.9,0.1,20)} )\n",
    "\n",
    "data.boxplot(showmeans=True)\n",
    "\n",
    "for i,d in enumerate(data):\n",
    "    y = data[d]\n",
    "    x = np.random.normal(i+1, 0.04, len(y))\n",
    "    plt.plot(x, y, mfc = [\"orange\",\"blue\",\"yellow\"][i], mec='k', ms=7, marker=\"o\", linestyle=\"None\")\n",
    "\n",
    "plt.hlines(1,0,4,linestyle=\"--\")"
   ]
  },
  {
   "cell_type": "code",
   "execution_count": null,
   "id": "6efcb57c",
   "metadata": {},
   "outputs": [],
   "source": [
    "a = 1"
   ]
  },
  {
   "cell_type": "code",
   "execution_count": null,
   "id": "d59965b6",
   "metadata": {},
   "outputs": [],
   "source": []
  },
  {
   "cell_type": "code",
   "execution_count": null,
   "id": "abb07c7d",
   "metadata": {},
   "outputs": [],
   "source": []
  },
  {
   "cell_type": "code",
   "execution_count": null,
   "id": "373da95e",
   "metadata": {},
   "outputs": [],
   "source": []
  },
  {
   "cell_type": "code",
   "execution_count": null,
   "id": "2e15430b",
   "metadata": {},
   "outputs": [],
   "source": []
  },
  {
   "cell_type": "code",
   "execution_count": null,
   "id": "faa31417",
   "metadata": {},
   "outputs": [],
   "source": []
  },
  {
   "cell_type": "code",
   "execution_count": null,
   "id": "ba7ab42f",
   "metadata": {},
   "outputs": [],
   "source": []
  }
 ],
 "metadata": {
  "kernelspec": {
   "display_name": "Python 3 (ipykernel)",
   "language": "python",
   "name": "python3"
  },
  "language_info": {
   "codemirror_mode": {
    "name": "ipython",
    "version": 3
   },
   "file_extension": ".py",
   "mimetype": "text/x-python",
   "name": "python",
   "nbconvert_exporter": "python",
   "pygments_lexer": "ipython3",
   "version": "3.11.0"
  }
 },
 "nbformat": 4,
 "nbformat_minor": 5
}
