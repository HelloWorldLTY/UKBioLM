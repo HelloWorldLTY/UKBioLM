{
 "cells": [
  {
   "cell_type": "code",
   "execution_count": 1,
   "id": "c54450f6",
   "metadata": {},
   "outputs": [],
   "source": [
    "import pickle\n",
    "\n",
    "import grelu.sequence.format\n",
    "\n",
    "import scanpy as sc\n",
    "import pandas as pd\n",
    "import torch\n",
    "# import pickle\n",
    "# with open('/home/tl688/pitl688/enformer_fine_tuning/all_gtex_human_sample/BTNL3_allsampleidx.pickle', 'rb') as fp:\n",
    "#     seq_list = pickle.load(fp)\n",
    "    \n",
    "    \n",
    "# import pickle\n",
    "# with open('/home/tl688/pitl688/enformer_fine_tuning/all_gtex_human_sample/all_selected_gene.pickle', 'rb') as fp:\n",
    "#     seq_list = pickle.load(fp)\n",
    "\n",
    "import pickle\n",
    "with open('/home/tl688/pitl688/enformer_fine_tuning/all_gtex_human_sample/all_selected_gene_understand_hert.pickle', 'rb') as fp:\n",
    "    seq_list = pickle.load(fp)"
   ]
  },
  {
   "cell_type": "code",
   "execution_count": 2,
   "id": "a7d130a9",
   "metadata": {},
   "outputs": [],
   "source": [
    "a = 1"
   ]
  },
  {
   "cell_type": "code",
   "execution_count": 3,
   "id": "982460fd",
   "metadata": {},
   "outputs": [],
   "source": [
    "# import pickle\n",
    "# with open('/home/tl688/pitl688/enformer_fine_tuning/all_gtex_human_sample/all_selected_gene_geneidmap.pickle', 'rb') as fp:\n",
    "#     gene_list = pickle.load(fp)\n",
    "\n",
    "import pickle\n",
    "with open('/home/tl688/pitl688/enformer_fine_tuning/all_gtex_human_sample/all_selected_gene_understand_hert_geneidmap.pickle', 'rb') as fp:\n",
    "    gene_list = pickle.load(fp)"
   ]
  },
  {
   "cell_type": "code",
   "execution_count": 4,
   "id": "86339b33",
   "metadata": {},
   "outputs": [
    {
     "data": {
      "text/plain": [
       "{'MFSD9': 0,\n",
       " 'PAM': 1,\n",
       " 'MDGA1': 2,\n",
       " 'TREML4': 3,\n",
       " 'CNR1': 4,\n",
       " 'PILRA': 5,\n",
       " 'TMEM176A': 6,\n",
       " 'TMEM176B': 7,\n",
       " 'NIPAL2': 8,\n",
       " 'LRRC6': 9,\n",
       " 'PRUNE2': 10,\n",
       " 'ADARB2': 11,\n",
       " 'TMTC1': 12,\n",
       " 'SLC12A1': 13,\n",
       " 'NDEL1': 14,\n",
       " 'JUP': 15,\n",
       " 'PEX11G': 16,\n",
       " 'RPS28': 17,\n",
       " 'APOBEC3B': 18}"
      ]
     },
     "execution_count": 4,
     "metadata": {},
     "output_type": "execute_result"
    }
   ],
   "source": [
    "gene_list"
   ]
  },
  {
   "cell_type": "code",
   "execution_count": 5,
   "id": "7ca79d16",
   "metadata": {},
   "outputs": [],
   "source": [
    "gene_name = \"JUP\""
   ]
  },
  {
   "cell_type": "code",
   "execution_count": 6,
   "id": "1084e412",
   "metadata": {},
   "outputs": [],
   "source": [
    "seq_list = seq_list[gene_list[gene_name]]"
   ]
  },
  {
   "cell_type": "code",
   "execution_count": 7,
   "id": "b164543d",
   "metadata": {},
   "outputs": [],
   "source": [
    "# ukbb_data_sample = torch.load(f\"/gpfs/radev/project/ying_rex/tl688/seq2cells_code/tests/{gene_name}_ukbiobert_emb_concat_49000_mean.pkl\")\n",
    "\n",
    "ukbb_data_sample = torch.load(f\"/home/tl688/pitl688/enformer_fine_tuning/all_gtex_human_sample/{gene_name}_ukbiobert_emb_concat_49000_mean.pkl\")"
   ]
  },
  {
   "cell_type": "code",
   "execution_count": 8,
   "id": "7f9e5c29",
   "metadata": {},
   "outputs": [],
   "source": [
    "gene_exp = pd.read_csv(\"/home/tl688/pitl688/enformer_fine_tuning/data/gtex_eqtl_expression_matrix/Whole_Blood.v8.normalized_expression_genesymbol.csv\", sep='\\t')\n",
    "df_gene_test = gene_exp[gene_exp['gene_symbol'].isin([gene_name])]\n",
    "idx_gene = df_gene_test.index"
   ]
  },
  {
   "cell_type": "code",
   "execution_count": 9,
   "id": "d5b8556a",
   "metadata": {},
   "outputs": [
    {
     "data": {
      "text/html": [
       "<div>\n",
       "<style scoped>\n",
       "    .dataframe tbody tr th:only-of-type {\n",
       "        vertical-align: middle;\n",
       "    }\n",
       "\n",
       "    .dataframe tbody tr th {\n",
       "        vertical-align: top;\n",
       "    }\n",
       "\n",
       "    .dataframe thead th {\n",
       "        text-align: right;\n",
       "    }\n",
       "</style>\n",
       "<table border=\"1\" class=\"dataframe\">\n",
       "  <thead>\n",
       "    <tr style=\"text-align: right;\">\n",
       "      <th></th>\n",
       "      <th>Unnamed: 0</th>\n",
       "      <th>#chr</th>\n",
       "      <th>start</th>\n",
       "      <th>end</th>\n",
       "      <th>gene_id</th>\n",
       "      <th>GTEX-111YS</th>\n",
       "      <th>GTEX-1122O</th>\n",
       "      <th>GTEX-1128S</th>\n",
       "      <th>GTEX-113IC</th>\n",
       "      <th>GTEX-113JC</th>\n",
       "      <th>...</th>\n",
       "      <th>GTEX-ZVE2</th>\n",
       "      <th>GTEX-ZVP2</th>\n",
       "      <th>GTEX-ZVT2</th>\n",
       "      <th>GTEX-ZVT3</th>\n",
       "      <th>GTEX-ZVT4</th>\n",
       "      <th>GTEX-ZVZP</th>\n",
       "      <th>GTEX-ZVZQ</th>\n",
       "      <th>GTEX-ZXES</th>\n",
       "      <th>GTEX-ZXG5</th>\n",
       "      <th>gene_symbol</th>\n",
       "    </tr>\n",
       "  </thead>\n",
       "  <tbody>\n",
       "    <tr>\n",
       "      <th>15903</th>\n",
       "      <td>15903</td>\n",
       "      <td>chr17</td>\n",
       "      <td>41786930</td>\n",
       "      <td>41786931</td>\n",
       "      <td>ENSG00000173801.16</td>\n",
       "      <td>-2.007378</td>\n",
       "      <td>-0.163223</td>\n",
       "      <td>0.591185</td>\n",
       "      <td>0.376684</td>\n",
       "      <td>0.811136</td>\n",
       "      <td>...</td>\n",
       "      <td>-0.627164</td>\n",
       "      <td>-1.401871</td>\n",
       "      <td>-1.209352</td>\n",
       "      <td>0.054194</td>\n",
       "      <td>2.368016</td>\n",
       "      <td>-1.610437</td>\n",
       "      <td>0.31324</td>\n",
       "      <td>0.678011</td>\n",
       "      <td>-0.735562</td>\n",
       "      <td>JUP</td>\n",
       "    </tr>\n",
       "  </tbody>\n",
       "</table>\n",
       "<p>1 rows × 676 columns</p>\n",
       "</div>"
      ],
      "text/plain": [
       "       Unnamed: 0   #chr     start       end             gene_id  GTEX-111YS  \\\n",
       "15903       15903  chr17  41786930  41786931  ENSG00000173801.16   -2.007378   \n",
       "\n",
       "       GTEX-1122O  GTEX-1128S  GTEX-113IC  GTEX-113JC  ...  GTEX-ZVE2  \\\n",
       "15903   -0.163223    0.591185    0.376684    0.811136  ...  -0.627164   \n",
       "\n",
       "       GTEX-ZVP2  GTEX-ZVT2  GTEX-ZVT3  GTEX-ZVT4  GTEX-ZVZP  GTEX-ZVZQ  \\\n",
       "15903  -1.401871  -1.209352   0.054194   2.368016  -1.610437    0.31324   \n",
       "\n",
       "       GTEX-ZXES  GTEX-ZXG5  gene_symbol  \n",
       "15903   0.678011  -0.735562          JUP  \n",
       "\n",
       "[1 rows x 676 columns]"
      ]
     },
     "execution_count": 9,
     "metadata": {},
     "output_type": "execute_result"
    }
   ],
   "source": [
    "df_gene_test"
   ]
  },
  {
   "cell_type": "code",
   "execution_count": 10,
   "id": "c80dbf3d",
   "metadata": {},
   "outputs": [
    {
     "name": "stdout",
     "output_type": "stream",
     "text": [
      "Index([15903], dtype='int64')\n"
     ]
    }
   ],
   "source": [
    "print(idx_gene)"
   ]
  },
  {
   "cell_type": "code",
   "execution_count": 11,
   "id": "647300b5",
   "metadata": {},
   "outputs": [],
   "source": [
    "gene_exp = pd.read_csv(\"/home/tl688/pitl688/enformer_fine_tuning/data/gtex_eqtl_expression_matrix/Whole_Blood.v8.normalized_expression_genesymbol.csv\", sep='\\t')"
   ]
  },
  {
   "cell_type": "code",
   "execution_count": 12,
   "id": "18788c3e",
   "metadata": {},
   "outputs": [],
   "source": [
    "import grelu.sequence.format"
   ]
  },
  {
   "cell_type": "code",
   "execution_count": 13,
   "id": "ab39f719",
   "metadata": {},
   "outputs": [],
   "source": [
    "import scanpy as sc\n",
    "import pandas as pd"
   ]
  },
  {
   "cell_type": "code",
   "execution_count": 14,
   "id": "8cce6f56",
   "metadata": {},
   "outputs": [],
   "source": [
    "df = pd.read_csv(\"/home/tl688/pitl688/enformer_fine_tuning/data/gtex_eqtl_expression_matrix/Whole_Blood.v8.normalized_expression_genesymbol.csv\", sep='\\t')"
   ]
  },
  {
   "cell_type": "code",
   "execution_count": 15,
   "id": "a0474947",
   "metadata": {
    "scrolled": true
   },
   "outputs": [],
   "source": [
    "df_map = pd.read_csv(\"/home/tl688/pitl688/enformer_fine_tuning/data/gtex_eqtl_expression_matrix/gene_id_mapping.csv\")"
   ]
  },
  {
   "cell_type": "code",
   "execution_count": 16,
   "id": "aecac4e1",
   "metadata": {},
   "outputs": [
    {
     "data": {
      "text/html": [
       "<div>\n",
       "<style scoped>\n",
       "    .dataframe tbody tr th:only-of-type {\n",
       "        vertical-align: middle;\n",
       "    }\n",
       "\n",
       "    .dataframe tbody tr th {\n",
       "        vertical-align: top;\n",
       "    }\n",
       "\n",
       "    .dataframe thead th {\n",
       "        text-align: right;\n",
       "    }\n",
       "</style>\n",
       "<table border=\"1\" class=\"dataframe\">\n",
       "  <thead>\n",
       "    <tr style=\"text-align: right;\">\n",
       "      <th></th>\n",
       "      <th>Unnamed: 0</th>\n",
       "      <th>Name</th>\n",
       "      <th>Description</th>\n",
       "    </tr>\n",
       "  </thead>\n",
       "  <tbody>\n",
       "    <tr>\n",
       "      <th>0</th>\n",
       "      <td>0</td>\n",
       "      <td>ENSG00000223972.5</td>\n",
       "      <td>DDX11L1</td>\n",
       "    </tr>\n",
       "    <tr>\n",
       "      <th>1</th>\n",
       "      <td>1</td>\n",
       "      <td>ENSG00000227232.5</td>\n",
       "      <td>WASH7P</td>\n",
       "    </tr>\n",
       "    <tr>\n",
       "      <th>2</th>\n",
       "      <td>2</td>\n",
       "      <td>ENSG00000278267.1</td>\n",
       "      <td>MIR6859-1</td>\n",
       "    </tr>\n",
       "    <tr>\n",
       "      <th>3</th>\n",
       "      <td>3</td>\n",
       "      <td>ENSG00000243485.5</td>\n",
       "      <td>MIR1302-2HG</td>\n",
       "    </tr>\n",
       "    <tr>\n",
       "      <th>4</th>\n",
       "      <td>4</td>\n",
       "      <td>ENSG00000237613.2</td>\n",
       "      <td>FAM138A</td>\n",
       "    </tr>\n",
       "    <tr>\n",
       "      <th>...</th>\n",
       "      <td>...</td>\n",
       "      <td>...</td>\n",
       "      <td>...</td>\n",
       "    </tr>\n",
       "    <tr>\n",
       "      <th>56195</th>\n",
       "      <td>56195</td>\n",
       "      <td>ENSG00000198695.2</td>\n",
       "      <td>MT-ND6</td>\n",
       "    </tr>\n",
       "    <tr>\n",
       "      <th>56196</th>\n",
       "      <td>56196</td>\n",
       "      <td>ENSG00000210194.1</td>\n",
       "      <td>MT-TE</td>\n",
       "    </tr>\n",
       "    <tr>\n",
       "      <th>56197</th>\n",
       "      <td>56197</td>\n",
       "      <td>ENSG00000198727.2</td>\n",
       "      <td>MT-CYB</td>\n",
       "    </tr>\n",
       "    <tr>\n",
       "      <th>56198</th>\n",
       "      <td>56198</td>\n",
       "      <td>ENSG00000210195.2</td>\n",
       "      <td>MT-TT</td>\n",
       "    </tr>\n",
       "    <tr>\n",
       "      <th>56199</th>\n",
       "      <td>56199</td>\n",
       "      <td>ENSG00000210196.2</td>\n",
       "      <td>MT-TP</td>\n",
       "    </tr>\n",
       "  </tbody>\n",
       "</table>\n",
       "<p>56200 rows × 3 columns</p>\n",
       "</div>"
      ],
      "text/plain": [
       "       Unnamed: 0               Name  Description\n",
       "0               0  ENSG00000223972.5      DDX11L1\n",
       "1               1  ENSG00000227232.5       WASH7P\n",
       "2               2  ENSG00000278267.1    MIR6859-1\n",
       "3               3  ENSG00000243485.5  MIR1302-2HG\n",
       "4               4  ENSG00000237613.2      FAM138A\n",
       "...           ...                ...          ...\n",
       "56195       56195  ENSG00000198695.2       MT-ND6\n",
       "56196       56196  ENSG00000210194.1        MT-TE\n",
       "56197       56197  ENSG00000198727.2       MT-CYB\n",
       "56198       56198  ENSG00000210195.2        MT-TT\n",
       "56199       56199  ENSG00000210196.2        MT-TP\n",
       "\n",
       "[56200 rows x 3 columns]"
      ]
     },
     "execution_count": 16,
     "metadata": {},
     "output_type": "execute_result"
    }
   ],
   "source": [
    "df_map"
   ]
  },
  {
   "cell_type": "code",
   "execution_count": 17,
   "id": "d2b3f860",
   "metadata": {},
   "outputs": [],
   "source": [
    "import glob"
   ]
  },
  {
   "cell_type": "code",
   "execution_count": 18,
   "id": "9cbc0b67",
   "metadata": {},
   "outputs": [],
   "source": [
    "ind_set = []\n",
    "for item in glob.glob(\"/home/tl688/scratch/ConsensusSeqs_SNPsOnlyUnphased/*\"):\n",
    "    item_f = item.split('/')[-1].split('_')[0]\n",
    "    ind_set.append(item_f)"
   ]
  },
  {
   "cell_type": "code",
   "execution_count": 19,
   "id": "43e2ed20",
   "metadata": {
    "scrolled": true
   },
   "outputs": [],
   "source": [
    "ind_list = sorted(set(ind_set))"
   ]
  },
  {
   "cell_type": "code",
   "execution_count": 20,
   "id": "3bf63e65",
   "metadata": {},
   "outputs": [
    {
     "data": {
      "text/plain": [
       "838"
      ]
     },
     "execution_count": 20,
     "metadata": {},
     "output_type": "execute_result"
    }
   ],
   "source": [
    "len(ind_list)"
   ]
  },
  {
   "cell_type": "code",
   "execution_count": 21,
   "id": "275615b4",
   "metadata": {},
   "outputs": [],
   "source": [
    "import grelu"
   ]
  },
  {
   "cell_type": "code",
   "execution_count": 22,
   "id": "1ac6d20c",
   "metadata": {},
   "outputs": [
    {
     "data": {
      "text/plain": [
       "<module 'grelu' from '/home/tl688/.conda/envs/evo/lib/python3.11/site-packages/grelu/__init__.py'>"
      ]
     },
     "execution_count": 22,
     "metadata": {},
     "output_type": "execute_result"
    }
   ],
   "source": [
    "grelu"
   ]
  },
  {
   "cell_type": "code",
   "execution_count": 23,
   "id": "ae0dc3a8",
   "metadata": {},
   "outputs": [],
   "source": [
    "# df.head()"
   ]
  },
  {
   "cell_type": "code",
   "execution_count": 24,
   "id": "91a1212c",
   "metadata": {
    "scrolled": true
   },
   "outputs": [],
   "source": [
    "list_f = sorted(set(df.columns).intersection(ind_list))"
   ]
  },
  {
   "cell_type": "code",
   "execution_count": 25,
   "id": "fdd4878c",
   "metadata": {},
   "outputs": [
    {
     "data": {
      "text/plain": [
       "670"
      ]
     },
     "execution_count": 25,
     "metadata": {},
     "output_type": "execute_result"
    }
   ],
   "source": [
    "len(list_f)"
   ]
  },
  {
   "cell_type": "code",
   "execution_count": 26,
   "id": "096907a2",
   "metadata": {},
   "outputs": [],
   "source": [
    "from sklearn.metrics import r2_score\n",
    "import scipy.stats\n",
    "import sklearn.metrics"
   ]
  },
  {
   "cell_type": "code",
   "execution_count": 27,
   "id": "a548bb29",
   "metadata": {},
   "outputs": [],
   "source": [
    "df_train_update = pd.DataFrame(seq_list['H2'])"
   ]
  },
  {
   "cell_type": "code",
   "execution_count": 28,
   "id": "911acb6d",
   "metadata": {},
   "outputs": [],
   "source": [
    "df_train_update.index = list_f"
   ]
  },
  {
   "cell_type": "code",
   "execution_count": 29,
   "id": "1dec416b",
   "metadata": {},
   "outputs": [],
   "source": [
    "gene_exp = pd.read_csv(\"/home/tl688/pitl688/enformer_fine_tuning/data/gtex_eqtl_expression_matrix/Whole_Blood.v8.normalized_expression_genesymbol.csv\", sep='\\t')"
   ]
  },
  {
   "cell_type": "code",
   "execution_count": 30,
   "id": "53e8bba5",
   "metadata": {},
   "outputs": [],
   "source": [
    "# gene_exp_train"
   ]
  },
  {
   "cell_type": "code",
   "execution_count": 31,
   "id": "26041073",
   "metadata": {},
   "outputs": [],
   "source": [
    "gene_exp_train = gene_exp[list_f]"
   ]
  },
  {
   "cell_type": "code",
   "execution_count": 32,
   "id": "f312dce6",
   "metadata": {},
   "outputs": [],
   "source": [
    "import os"
   ]
  },
  {
   "cell_type": "code",
   "execution_count": 33,
   "id": "c8beec13",
   "metadata": {},
   "outputs": [
    {
     "data": {
      "text/plain": [
       "5"
      ]
     },
     "execution_count": 33,
     "metadata": {},
     "output_type": "execute_result"
    }
   ],
   "source": [
    "import sklearn\n",
    "import numpy as np\n",
    "from sklearn.model_selection import KFold\n",
    "kf = KFold(n_splits=5, random_state=2024, shuffle=True, )\n",
    "kf.get_n_splits(df_train_update.index)"
   ]
  },
  {
   "cell_type": "code",
   "execution_count": 34,
   "id": "c928a71d",
   "metadata": {},
   "outputs": [],
   "source": [
    "import shutil"
   ]
  },
  {
   "cell_type": "code",
   "execution_count": 35,
   "id": "b4c1326f",
   "metadata": {},
   "outputs": [],
   "source": [
    "seq_len = 49000"
   ]
  },
  {
   "cell_type": "code",
   "execution_count": 36,
   "id": "829add5c",
   "metadata": {},
   "outputs": [],
   "source": [
    "start = 100000 - seq_len//2\n",
    "end = 100000 + seq_len//2"
   ]
  },
  {
   "cell_type": "code",
   "execution_count": 37,
   "id": "8ee97104",
   "metadata": {},
   "outputs": [],
   "source": [
    "# df_train_update.values"
   ]
  },
  {
   "cell_type": "code",
   "execution_count": 38,
   "id": "b0c275f9",
   "metadata": {},
   "outputs": [
    {
     "data": {
      "text/plain": [
       "(670, 1)"
      ]
     },
     "execution_count": 38,
     "metadata": {},
     "output_type": "execute_result"
    }
   ],
   "source": [
    "df_train_update.values.shape"
   ]
  },
  {
   "cell_type": "code",
   "execution_count": 39,
   "id": "407490d6",
   "metadata": {},
   "outputs": [],
   "source": [
    "df_train_update = pd.DataFrame([i[start:end] for i in seq_list['H2']])\n",
    "\n",
    "df_train_update.index = list_f"
   ]
  },
  {
   "cell_type": "code",
   "execution_count": 40,
   "id": "dcd497a1",
   "metadata": {
    "scrolled": true
   },
   "outputs": [],
   "source": [
    "# data_list = []\n",
    "# for i, (train_index, test_index) in enumerate(kf.split(df_train_update.index)):\n",
    "#     if i!=4:\n",
    "#         train_id = df_train_update.index[train_index]\n",
    "#         test_id = df_train_update.index[test_index]\n",
    "\n",
    "#         id_train, id_valid = sklearn.model_selection.train_test_split(train_id)\n",
    "        \n",
    "#         start = 100000 - seq_len//2\n",
    "#         end = 100000 + seq_len//2\n",
    "\n",
    "#         data_train =df_train_update.loc[id_train].values\n",
    "#         y_train = gene_exp_train.loc[idx_gene,id_train].values[0]\n",
    "\n",
    "#         data_valid = df_train_update.loc[id_valid].values\n",
    "#         y_valid = gene_exp_train.loc[idx_gene,id_valid].values[0]\n",
    "\n",
    "#         data_test = df_train_update.loc[test_id].values\n",
    "#         y_test = gene_exp_train.loc[idx_gene,test_id].values[0]\n",
    "\n",
    "#         experiment='tutorial_enformer_1e4_singleseq_H2'\n",
    "#         if not os.path.exists(experiment):\n",
    "#             os.makedirs(experiment)\n",
    "#         else:\n",
    "#             files = glob.glob(experiment + \"/*\")\n",
    "#             for f in files:\n",
    "#                 shutil.rmtree(f)\n",
    "\n",
    "#         import grelu.data.dataset\n",
    "#         df_train = pd.DataFrame()\n",
    "#         df_train['input_seq'] = data_train.flatten()\n",
    "#         df_train['label'] = y_train\n",
    "\n",
    "#         train_dataset = grelu.data.dataset.DFSeqDataset(df_train)\n",
    "\n",
    "#         df_valid = pd.DataFrame()\n",
    "#         df_valid['input_seq'] =data_valid.flatten()\n",
    "#         df_valid['label'] = y_valid\n",
    "\n",
    "#         valid_dataset = grelu.data.dataset.DFSeqDataset(df_valid)\n",
    "\n",
    "#         df_test = pd.DataFrame()\n",
    "#         df_test['input_seq'] = data_test.flatten()\n",
    "#         df_test['label'] = y_test\n",
    "\n",
    "#         test_dataset = grelu.data.dataset.DFSeqDataset(df_test)\n",
    "\n",
    "#         model_params = {\n",
    "#             'model_type':'EnformerPretrainedModel', # Type of model\n",
    "#             'n_tasks': 1, # Number of cell types to predict\n",
    "#             'crop_len':0, # No cropping of the model output\n",
    "#             'n_transformers': 11, # Number of transformer layers; the published Enformer model has 11\n",
    "#         }\n",
    "\n",
    "#         train_params = {\n",
    "#             'task':'regression', # binary classification\n",
    "#             'lr':5e-4, # learning rate\n",
    "#             'logger': 'csv', # Logs will be written to a CSV file\n",
    "#             'batch_size': 32,\n",
    "#             'num_workers': 8,\n",
    "#             'devices': 0, # GPU index\n",
    "#             'save_dir': experiment,\n",
    "#             'optimizer': 'adam',\n",
    "#             'max_epochs': 100,\n",
    "#             'checkpoint': True, # Save checkpoints\n",
    "#             'loss': 'mse'\n",
    "#         }\n",
    "\n",
    "#         import grelu.lightning\n",
    "#         model = grelu.lightning.LightningModel(model_params=model_params, train_params=train_params)\n",
    "\n",
    "#         # See the 'tutorial_2' folder for logs\n",
    "#         trainer = model.train_on_dataset(\n",
    "#             train_dataset=train_dataset,\n",
    "#             val_dataset=valid_dataset\n",
    "#         )\n",
    "\n",
    "#         best_checkpoint = trainer.checkpoint_callback.best_model_path\n",
    "#         # best_checkpoint = 'tutorial_enformer_1e4/2024_23_10_15_30/version_0/checkpoints/epoch=17-step=1782.ckpt'\n",
    "#         print(best_checkpoint)\n",
    "#         model = grelu.lightning.LightningModel.load_from_checkpoint(best_checkpoint)\n",
    "\n",
    "#         probs = model.predict_on_dataset(\n",
    "#         test_dataset,\n",
    "#         devices=0,\n",
    "#         num_workers=8,\n",
    "#         batch_size=1,\n",
    "#         return_df=True)\n",
    "\n",
    "#         probs.to_csv(f\"./fold_pred/{gene_name}_enformer_H2_49000_fold{i}.csv\")\n",
    "    "
   ]
  },
  {
   "cell_type": "code",
   "execution_count": 41,
   "id": "f87cef1d",
   "metadata": {},
   "outputs": [],
   "source": [
    "# data_train"
   ]
  },
  {
   "cell_type": "code",
   "execution_count": 42,
   "id": "fc1d8bc2",
   "metadata": {},
   "outputs": [],
   "source": [
    "# probs"
   ]
  },
  {
   "cell_type": "code",
   "execution_count": 43,
   "id": "ccf8ca3c",
   "metadata": {},
   "outputs": [],
   "source": [
    "# len(seq_list['H1'])"
   ]
  },
  {
   "cell_type": "code",
   "execution_count": 44,
   "id": "bbee44e4",
   "metadata": {},
   "outputs": [],
   "source": [
    "import grelu.data.dataset"
   ]
  },
  {
   "cell_type": "code",
   "execution_count": 45,
   "id": "7d904668",
   "metadata": {},
   "outputs": [],
   "source": [
    "seq_all = []\n",
    "for i in range(len(seq_list['H1'])):\n",
    "    str1 = seq_list['H1'][i] \n",
    "    str2 = seq_list['H2'][i]\n",
    "    str1 = grelu.data.dataset.indices_to_one_hot(grelu.data.dataset.strings_to_indices(str1))\n",
    "    str2 = grelu.data.dataset.indices_to_one_hot(grelu.data.dataset.strings_to_indices(str2))\n",
    "    merge_list = (str1+str2) / 2\n",
    "    ukbb_emb = ukbb_data_sample[i].reshape(1,-1).repeat(4,1)\n",
    "    merge_list = torch.cat((merge_list[:,start:end],ukbb_emb), axis=1)\n",
    "    seq_all.append(merge_list)"
   ]
  },
  {
   "cell_type": "code",
   "execution_count": 46,
   "id": "803d5352",
   "metadata": {},
   "outputs": [],
   "source": [
    "# df_train_update = pd.DataFrame([i[start:end] for i in seq_list['H2']])\n",
    "\n",
    "# df_train_update.index = list_f"
   ]
  },
  {
   "cell_type": "code",
   "execution_count": 47,
   "id": "5d88f430",
   "metadata": {},
   "outputs": [
    {
     "data": {
      "text/plain": [
       "(670, 4, 50536)"
      ]
     },
     "execution_count": 47,
     "metadata": {},
     "output_type": "execute_result"
    }
   ],
   "source": [
    "np.array(seq_all).shape"
   ]
  },
  {
   "cell_type": "code",
   "execution_count": 48,
   "id": "5b907c9a",
   "metadata": {},
   "outputs": [],
   "source": [
    "# df_train_update = pd.DataFrame([i[start:end] for i in seq_all])\n",
    "# df_train_update.index = list_f"
   ]
  },
  {
   "cell_type": "code",
   "execution_count": 49,
   "id": "09eff9e6",
   "metadata": {},
   "outputs": [],
   "source": [
    "df_train_update = pd.DataFrame(list_f)"
   ]
  },
  {
   "cell_type": "code",
   "execution_count": 50,
   "id": "856f1ca8",
   "metadata": {},
   "outputs": [
    {
     "data": {
      "text/html": [
       "<div>\n",
       "<style scoped>\n",
       "    .dataframe tbody tr th:only-of-type {\n",
       "        vertical-align: middle;\n",
       "    }\n",
       "\n",
       "    .dataframe tbody tr th {\n",
       "        vertical-align: top;\n",
       "    }\n",
       "\n",
       "    .dataframe thead th {\n",
       "        text-align: right;\n",
       "    }\n",
       "</style>\n",
       "<table border=\"1\" class=\"dataframe\">\n",
       "  <thead>\n",
       "    <tr style=\"text-align: right;\">\n",
       "      <th></th>\n",
       "      <th>GTEX-111YS</th>\n",
       "      <th>GTEX-1122O</th>\n",
       "      <th>GTEX-1128S</th>\n",
       "      <th>GTEX-113IC</th>\n",
       "      <th>GTEX-113JC</th>\n",
       "      <th>GTEX-117XS</th>\n",
       "      <th>GTEX-117YW</th>\n",
       "      <th>GTEX-1192W</th>\n",
       "      <th>GTEX-1192X</th>\n",
       "      <th>GTEX-11DXX</th>\n",
       "      <th>...</th>\n",
       "      <th>GTEX-ZV7C</th>\n",
       "      <th>GTEX-ZVE2</th>\n",
       "      <th>GTEX-ZVP2</th>\n",
       "      <th>GTEX-ZVT2</th>\n",
       "      <th>GTEX-ZVT3</th>\n",
       "      <th>GTEX-ZVT4</th>\n",
       "      <th>GTEX-ZVZP</th>\n",
       "      <th>GTEX-ZVZQ</th>\n",
       "      <th>GTEX-ZXES</th>\n",
       "      <th>GTEX-ZXG5</th>\n",
       "    </tr>\n",
       "  </thead>\n",
       "  <tbody>\n",
       "    <tr>\n",
       "      <th>0</th>\n",
       "      <td>-1.225024</td>\n",
       "      <td>-0.853391</td>\n",
       "      <td>0.429361</td>\n",
       "      <td>0.853391</td>\n",
       "      <td>-0.706494</td>\n",
       "      <td>1.290949</td>\n",
       "      <td>0.805956</td>\n",
       "      <td>-0.313240</td>\n",
       "      <td>-0.046713</td>\n",
       "      <td>-0.189784</td>\n",
       "      <td>...</td>\n",
       "      <td>0.564697</td>\n",
       "      <td>-1.135099</td>\n",
       "      <td>-0.479065</td>\n",
       "      <td>-0.170799</td>\n",
       "      <td>-1.079918</td>\n",
       "      <td>0.148098</td>\n",
       "      <td>0.372677</td>\n",
       "      <td>0.948702</td>\n",
       "      <td>-0.517128</td>\n",
       "      <td>0.765266</td>\n",
       "    </tr>\n",
       "    <tr>\n",
       "      <th>1</th>\n",
       "      <td>-0.673318</td>\n",
       "      <td>0.121709</td>\n",
       "      <td>-0.654690</td>\n",
       "      <td>-1.178870</td>\n",
       "      <td>-0.837370</td>\n",
       "      <td>-0.289783</td>\n",
       "      <td>-0.627164</td>\n",
       "      <td>0.197397</td>\n",
       "      <td>-1.596922</td>\n",
       "      <td>1.164031</td>\n",
       "      <td>...</td>\n",
       "      <td>1.171418</td>\n",
       "      <td>0.231802</td>\n",
       "      <td>1.060053</td>\n",
       "      <td>0.925522</td>\n",
       "      <td>-0.167010</td>\n",
       "      <td>0.673318</td>\n",
       "      <td>0.555955</td>\n",
       "      <td>-0.716116</td>\n",
       "      <td>-0.600107</td>\n",
       "      <td>-0.321097</td>\n",
       "    </tr>\n",
       "    <tr>\n",
       "      <th>2</th>\n",
       "      <td>0.301491</td>\n",
       "      <td>0.858780</td>\n",
       "      <td>-0.437569</td>\n",
       "      <td>-1.558035</td>\n",
       "      <td>-0.770282</td>\n",
       "      <td>-1.698472</td>\n",
       "      <td>-1.401871</td>\n",
       "      <td>-0.483259</td>\n",
       "      <td>-0.966428</td>\n",
       "      <td>1.821345</td>\n",
       "      <td>...</td>\n",
       "      <td>0.325032</td>\n",
       "      <td>-1.241002</td>\n",
       "      <td>0.013075</td>\n",
       "      <td>0.529981</td>\n",
       "      <td>-2.134683</td>\n",
       "      <td>-0.031758</td>\n",
       "      <td>2.614268</td>\n",
       "      <td>-1.509592</td>\n",
       "      <td>0.328973</td>\n",
       "      <td>0.151876</td>\n",
       "    </tr>\n",
       "    <tr>\n",
       "      <th>3</th>\n",
       "      <td>0.417104</td>\n",
       "      <td>0.376684</td>\n",
       "      <td>0.816338</td>\n",
       "      <td>-2.614268</td>\n",
       "      <td>-0.931270</td>\n",
       "      <td>-0.372677</td>\n",
       "      <td>-1.021528</td>\n",
       "      <td>-0.582310</td>\n",
       "      <td>-1.509592</td>\n",
       "      <td>0.348756</td>\n",
       "      <td>...</td>\n",
       "      <td>-0.235641</td>\n",
       "      <td>-0.313240</td>\n",
       "      <td>-0.001868</td>\n",
       "      <td>0.429361</td>\n",
       "      <td>-1.558035</td>\n",
       "      <td>1.009019</td>\n",
       "      <td>1.114008</td>\n",
       "      <td>-1.100218</td>\n",
       "      <td>-0.356707</td>\n",
       "      <td>-0.065421</td>\n",
       "    </tr>\n",
       "    <tr>\n",
       "      <th>4</th>\n",
       "      <td>0.891654</td>\n",
       "      <td>0.309319</td>\n",
       "      <td>1.178870</td>\n",
       "      <td>-2.614268</td>\n",
       "      <td>-0.821562</td>\n",
       "      <td>-0.811136</td>\n",
       "      <td>-0.560321</td>\n",
       "      <td>0.035496</td>\n",
       "      <td>-1.142243</td>\n",
       "      <td>0.057935</td>\n",
       "      <td>...</td>\n",
       "      <td>-0.604585</td>\n",
       "      <td>-0.254890</td>\n",
       "      <td>-0.313240</td>\n",
       "      <td>0.372677</td>\n",
       "      <td>-1.883649</td>\n",
       "      <td>0.760269</td>\n",
       "      <td>0.396813</td>\n",
       "      <td>-1.862071</td>\n",
       "      <td>-0.372677</td>\n",
       "      <td>-0.274234</td>\n",
       "    </tr>\n",
       "    <tr>\n",
       "      <th>...</th>\n",
       "      <td>...</td>\n",
       "      <td>...</td>\n",
       "      <td>...</td>\n",
       "      <td>...</td>\n",
       "      <td>...</td>\n",
       "      <td>...</td>\n",
       "      <td>...</td>\n",
       "      <td>...</td>\n",
       "      <td>...</td>\n",
       "      <td>...</td>\n",
       "      <td>...</td>\n",
       "      <td>...</td>\n",
       "      <td>...</td>\n",
       "      <td>...</td>\n",
       "      <td>...</td>\n",
       "      <td>...</td>\n",
       "      <td>...</td>\n",
       "      <td>...</td>\n",
       "      <td>...</td>\n",
       "      <td>...</td>\n",
       "      <td>...</td>\n",
       "    </tr>\n",
       "    <tr>\n",
       "      <th>20310</th>\n",
       "      <td>0.251033</td>\n",
       "      <td>1.047038</td>\n",
       "      <td>-0.891654</td>\n",
       "      <td>-1.453624</td>\n",
       "      <td>-0.061677</td>\n",
       "      <td>-0.654690</td>\n",
       "      <td>-1.714493</td>\n",
       "      <td>-0.914116</td>\n",
       "      <td>-0.622623</td>\n",
       "      <td>1.372539</td>\n",
       "      <td>...</td>\n",
       "      <td>0.591185</td>\n",
       "      <td>0.376684</td>\n",
       "      <td>0.360690</td>\n",
       "      <td>0.525687</td>\n",
       "      <td>-1.241002</td>\n",
       "      <td>0.133007</td>\n",
       "      <td>1.509592</td>\n",
       "      <td>-0.755291</td>\n",
       "      <td>-0.050453</td>\n",
       "      <td>-0.336870</td>\n",
       "    </tr>\n",
       "    <tr>\n",
       "      <th>20311</th>\n",
       "      <td>0.682720</td>\n",
       "      <td>2.099561</td>\n",
       "      <td>-0.305403</td>\n",
       "      <td>-0.258751</td>\n",
       "      <td>-0.659325</td>\n",
       "      <td>-1.698472</td>\n",
       "      <td>-0.512862</td>\n",
       "      <td>-0.569083</td>\n",
       "      <td>-0.826808</td>\n",
       "      <td>0.984462</td>\n",
       "      <td>...</td>\n",
       "      <td>0.837370</td>\n",
       "      <td>2.134683</td>\n",
       "      <td>-0.031758</td>\n",
       "      <td>1.596922</td>\n",
       "      <td>-1.186387</td>\n",
       "      <td>0.842686</td>\n",
       "      <td>1.178870</td>\n",
       "      <td>-1.265581</td>\n",
       "      <td>0.174591</td>\n",
       "      <td>0.352728</td>\n",
       "    </tr>\n",
       "    <tr>\n",
       "      <th>20312</th>\n",
       "      <td>0.560321</td>\n",
       "      <td>0.730675</td>\n",
       "      <td>-0.765266</td>\n",
       "      <td>0.258751</td>\n",
       "      <td>0.500121</td>\n",
       "      <td>-1.453624</td>\n",
       "      <td>-1.570734</td>\n",
       "      <td>-1.047038</td>\n",
       "      <td>-0.050453</td>\n",
       "      <td>1.040597</td>\n",
       "      <td>...</td>\n",
       "      <td>1.066627</td>\n",
       "      <td>-0.591185</td>\n",
       "      <td>1.464454</td>\n",
       "      <td>1.047038</td>\n",
       "      <td>-0.356707</td>\n",
       "      <td>0.129239</td>\n",
       "      <td>0.687444</td>\n",
       "      <td>-0.931270</td>\n",
       "      <td>0.504359</td>\n",
       "      <td>0.278115</td>\n",
       "    </tr>\n",
       "    <tr>\n",
       "      <th>20313</th>\n",
       "      <td>-1.021528</td>\n",
       "      <td>-1.047038</td>\n",
       "      <td>-0.170799</td>\n",
       "      <td>0.716116</td>\n",
       "      <td>-0.110426</td>\n",
       "      <td>0.645460</td>\n",
       "      <td>1.171418</td>\n",
       "      <td>0.538598</td>\n",
       "      <td>-1.610437</td>\n",
       "      <td>0.039235</td>\n",
       "      <td>...</td>\n",
       "      <td>-0.305403</td>\n",
       "      <td>0.243330</td>\n",
       "      <td>-0.421183</td>\n",
       "      <td>-0.914116</td>\n",
       "      <td>0.167010</td>\n",
       "      <td>-0.282000</td>\n",
       "      <td>-1.002823</td>\n",
       "      <td>1.714493</td>\n",
       "      <td>0.332919</td>\n",
       "      <td>0.388743</td>\n",
       "    </tr>\n",
       "    <tr>\n",
       "      <th>20314</th>\n",
       "      <td>0.678011</td>\n",
       "      <td>-0.208837</td>\n",
       "      <td>0.016811</td>\n",
       "      <td>0.348756</td>\n",
       "      <td>-0.600107</td>\n",
       "      <td>1.178870</td>\n",
       "      <td>-1.079918</td>\n",
       "      <td>0.368676</td>\n",
       "      <td>-0.061677</td>\n",
       "      <td>-1.114008</td>\n",
       "      <td>...</td>\n",
       "      <td>-0.258751</td>\n",
       "      <td>-0.247180</td>\n",
       "      <td>1.241002</td>\n",
       "      <td>-1.273946</td>\n",
       "      <td>-0.542922</td>\n",
       "      <td>-0.990545</td>\n",
       "      <td>-0.692183</td>\n",
       "      <td>-0.745390</td>\n",
       "      <td>0.185982</td>\n",
       "      <td>0.595640</td>\n",
       "    </tr>\n",
       "  </tbody>\n",
       "</table>\n",
       "<p>20315 rows × 670 columns</p>\n",
       "</div>"
      ],
      "text/plain": [
       "       GTEX-111YS  GTEX-1122O  GTEX-1128S  GTEX-113IC  GTEX-113JC  GTEX-117XS  \\\n",
       "0       -1.225024   -0.853391    0.429361    0.853391   -0.706494    1.290949   \n",
       "1       -0.673318    0.121709   -0.654690   -1.178870   -0.837370   -0.289783   \n",
       "2        0.301491    0.858780   -0.437569   -1.558035   -0.770282   -1.698472   \n",
       "3        0.417104    0.376684    0.816338   -2.614268   -0.931270   -0.372677   \n",
       "4        0.891654    0.309319    1.178870   -2.614268   -0.821562   -0.811136   \n",
       "...           ...         ...         ...         ...         ...         ...   \n",
       "20310    0.251033    1.047038   -0.891654   -1.453624   -0.061677   -0.654690   \n",
       "20311    0.682720    2.099561   -0.305403   -0.258751   -0.659325   -1.698472   \n",
       "20312    0.560321    0.730675   -0.765266    0.258751    0.500121   -1.453624   \n",
       "20313   -1.021528   -1.047038   -0.170799    0.716116   -0.110426    0.645460   \n",
       "20314    0.678011   -0.208837    0.016811    0.348756   -0.600107    1.178870   \n",
       "\n",
       "       GTEX-117YW  GTEX-1192W  GTEX-1192X  GTEX-11DXX  ...  GTEX-ZV7C  \\\n",
       "0        0.805956   -0.313240   -0.046713   -0.189784  ...   0.564697   \n",
       "1       -0.627164    0.197397   -1.596922    1.164031  ...   1.171418   \n",
       "2       -1.401871   -0.483259   -0.966428    1.821345  ...   0.325032   \n",
       "3       -1.021528   -0.582310   -1.509592    0.348756  ...  -0.235641   \n",
       "4       -0.560321    0.035496   -1.142243    0.057935  ...  -0.604585   \n",
       "...           ...         ...         ...         ...  ...        ...   \n",
       "20310   -1.714493   -0.914116   -0.622623    1.372539  ...   0.591185   \n",
       "20311   -0.512862   -0.569083   -0.826808    0.984462  ...   0.837370   \n",
       "20312   -1.570734   -1.047038   -0.050453    1.040597  ...   1.066627   \n",
       "20313    1.171418    0.538598   -1.610437    0.039235  ...  -0.305403   \n",
       "20314   -1.079918    0.368676   -0.061677   -1.114008  ...  -0.258751   \n",
       "\n",
       "       GTEX-ZVE2  GTEX-ZVP2  GTEX-ZVT2  GTEX-ZVT3  GTEX-ZVT4  GTEX-ZVZP  \\\n",
       "0      -1.135099  -0.479065  -0.170799  -1.079918   0.148098   0.372677   \n",
       "1       0.231802   1.060053   0.925522  -0.167010   0.673318   0.555955   \n",
       "2      -1.241002   0.013075   0.529981  -2.134683  -0.031758   2.614268   \n",
       "3      -0.313240  -0.001868   0.429361  -1.558035   1.009019   1.114008   \n",
       "4      -0.254890  -0.313240   0.372677  -1.883649   0.760269   0.396813   \n",
       "...          ...        ...        ...        ...        ...        ...   \n",
       "20310   0.376684   0.360690   0.525687  -1.241002   0.133007   1.509592   \n",
       "20311   2.134683  -0.031758   1.596922  -1.186387   0.842686   1.178870   \n",
       "20312  -0.591185   1.464454   1.047038  -0.356707   0.129239   0.687444   \n",
       "20313   0.243330  -0.421183  -0.914116   0.167010  -0.282000  -1.002823   \n",
       "20314  -0.247180   1.241002  -1.273946  -0.542922  -0.990545  -0.692183   \n",
       "\n",
       "       GTEX-ZVZQ  GTEX-ZXES  GTEX-ZXG5  \n",
       "0       0.948702  -0.517128   0.765266  \n",
       "1      -0.716116  -0.600107  -0.321097  \n",
       "2      -1.509592   0.328973   0.151876  \n",
       "3      -1.100218  -0.356707  -0.065421  \n",
       "4      -1.862071  -0.372677  -0.274234  \n",
       "...          ...        ...        ...  \n",
       "20310  -0.755291  -0.050453  -0.336870  \n",
       "20311  -1.265581   0.174591   0.352728  \n",
       "20312  -0.931270   0.504359   0.278115  \n",
       "20313   1.714493   0.332919   0.388743  \n",
       "20314  -0.745390   0.185982   0.595640  \n",
       "\n",
       "[20315 rows x 670 columns]"
      ]
     },
     "execution_count": 50,
     "metadata": {},
     "output_type": "execute_result"
    }
   ],
   "source": [
    "gene_exp_train"
   ]
  },
  {
   "cell_type": "code",
   "execution_count": 51,
   "id": "9d010674",
   "metadata": {},
   "outputs": [],
   "source": [
    "from lightning.pytorch.callbacks.early_stopping import EarlyStopping"
   ]
  },
  {
   "cell_type": "code",
   "execution_count": 52,
   "id": "a00427d9",
   "metadata": {},
   "outputs": [
    {
     "data": {
      "text/plain": [
       "'JUP'"
      ]
     },
     "execution_count": 52,
     "metadata": {},
     "output_type": "execute_result"
    }
   ],
   "source": [
    "gene_name"
   ]
  },
  {
   "cell_type": "code",
   "execution_count": 53,
   "id": "aa7d24c6",
   "metadata": {},
   "outputs": [],
   "source": [
    "import shutil"
   ]
  },
  {
   "cell_type": "code",
   "execution_count": 54,
   "id": "c0f3762a",
   "metadata": {
    "scrolled": true
   },
   "outputs": [],
   "source": [
    "# data_list = []\n",
    "# for i, (train_index, test_index) in enumerate(kf.split(df_train_update.index)):\n",
    "# #     if i==4:\n",
    "#     train_id = df_train_update.index[train_index]\n",
    "#     test_id = df_train_update.index[test_index]\n",
    "\n",
    "# #     id_train, id_valid = sklearn.model_selection.train_test_split(train_id)\n",
    "#     id_train = train_id\n",
    "#     id_valid = test_id\n",
    "    \n",
    "#     data_train =np.array(seq_all)[id_train,:,:]\n",
    "#     y_train = gene_exp_train.iloc[idx_gene,id_train].values[0]\n",
    "\n",
    "#     data_valid = np.array(seq_all)[id_valid,:,:]\n",
    "#     y_valid = gene_exp_train.iloc[idx_gene,id_valid].values[0]\n",
    "\n",
    "#     data_test = np.array(seq_all)[test_id,:,:]\n",
    "#     y_test = gene_exp_train.iloc[idx_gene,test_id].values[0]\n",
    "\n",
    "#     experiment='/home/tl688/scratch/tutorial_enformer_ukbiobertexplain_new'\n",
    "#     if not os.path.exists(experiment):\n",
    "#         os.makedirs(experiment)\n",
    "#     else:\n",
    "#         files = glob.glob(experiment + \"/*\")\n",
    "#         for f in files:\n",
    "#             shutil.rmtree(f)\n",
    "\n",
    "#     import grelu.data.dataset\n",
    "\n",
    "#     train_dataset = grelu.data.dataset.LabeledOneHotDataset(seqs=data_train,labels=y_train, seq_len=seq_len, tasks=['pred'])\n",
    "\n",
    "#     valid_dataset = grelu.data.dataset.LabeledOneHotDataset(seqs=data_valid,labels=y_valid, seq_len=seq_len, tasks=['pred'])\n",
    "\n",
    "#     test_dataset = grelu.data.dataset.LabeledOneHotDataset(seqs=data_test,labels=y_test, seq_len=seq_len, tasks=['pred'])\n",
    "\n",
    "#     model_params = {\n",
    "#         'model_type':'UKBioBERT_EnformerPretrainedModel', # Type of model\n",
    "#         'n_tasks': 1, # Number of cell types to predict\n",
    "#         'crop_len':0, # No cropping of the model output\n",
    "#         'n_transformers': 1, # Number of transformer layers; the published Enformer model has 11\n",
    "#     }\n",
    "\n",
    "#     train_params = {\n",
    "#         'task':'regression', # binary classification\n",
    "#         'lr':5e-6, # learning rate\n",
    "#         'logger': 'csv', # Logs will be written to a CSV file\n",
    "#         'batch_size': 6,\n",
    "#         'num_workers': 8,\n",
    "#         'devices': 0, # GPU index\n",
    "#         'save_dir': experiment,\n",
    "#         'optimizer': 'adam',\n",
    "#         'max_epochs': 100,\n",
    "#         'checkpoint': True, # Save checkpoints\n",
    "#         'loss': 'MSE'\n",
    "#     }\n",
    "\n",
    "#     import grelu.lightning\n",
    "#     model = grelu.lightning.LightningModel(model_params=model_params, train_params=train_params)\n",
    "#     model.explain = False\n",
    "\n",
    "#     # See the 'tutorial_2' folder for logs\n",
    "#     trainer = model.train_on_dataset(\n",
    "#         train_dataset=train_dataset,\n",
    "#         val_dataset=valid_dataset)\n",
    "\n",
    "# #         trainer = Trainer(callbacks=[EarlyStopping(monitor=\"val_loss\", mode=\"min\", patience=20)])\n",
    "\n",
    "#     best_checkpoint = trainer.checkpoint_callback.best_model_path\n",
    "#     # best_checkpoint = 'tutorial_enformer_1e4/2024_23_10_15_30/version_0/checkpoints/epoch=17-step=1782.ckpt'\n",
    "#     print(best_checkpoint)\n",
    "#     model = grelu.lightning.LightningModel.load_from_checkpoint(best_checkpoint)\n",
    "\n",
    "#     probs = model.predict_on_dataset(\n",
    "#     test_dataset,\n",
    "#     devices=0,\n",
    "#     num_workers=8,\n",
    "#     batch_size=1,\n",
    "#     return_df=True)\n",
    "\n",
    "# #     probs.to_csv(f\"./fold_pred/{gene_name}_enformer_H1H2_49000_adam_5layer_mse_fold{i}.csv\")\n",
    "#     break"
   ]
  },
  {
   "cell_type": "code",
   "execution_count": 55,
   "id": "38d6eb69",
   "metadata": {},
   "outputs": [],
   "source": [
    "# best_checkpoint"
   ]
  },
  {
   "cell_type": "code",
   "execution_count": 56,
   "id": "580f7344",
   "metadata": {},
   "outputs": [
    {
     "name": "stderr",
     "output_type": "stream",
     "text": [
      "Failed to detect the name of this notebook, you can set it manually with the WANDB_NOTEBOOK_NAME environment variable to enable code saving.\n",
      "\u001b[34m\u001b[1mwandb\u001b[0m: Currently logged in as: \u001b[33mtianyu-18\u001b[0m (\u001b[33mzhao-lab\u001b[0m). Use \u001b[1m`wandb login --relogin`\u001b[0m to force relogin\n",
      "\u001b[34m\u001b[1mwandb\u001b[0m: Downloading large artifact human_state_dict:latest, 939.29MB. 1 files... \n",
      "\u001b[34m\u001b[1mwandb\u001b[0m:   1 of 1 files downloaded.  \n",
      "Done. 0:0:0.6\n"
     ]
    },
    {
     "name": "stdout",
     "output_type": "stream",
     "text": [
      "/home/tl688/scratch/tutorial_enformer_ukbiobertexplain/2024_12_12_08_10/version_0/checkpoints/epoch=73-step=4958.ckpt\n"
     ]
    },
    {
     "name": "stderr",
     "output_type": "stream",
     "text": [
      "\u001b[34m\u001b[1mwandb\u001b[0m: Downloading large artifact human_state_dict:latest, 939.29MB. 1 files... \n",
      "\u001b[34m\u001b[1mwandb\u001b[0m:   1 of 1 files downloaded.  \n",
      "Done. 0:0:0.6\n"
     ]
    }
   ],
   "source": [
    "'''old one, train, valid, test'''\n",
    "experiment='/home/tl688/scratch/tutorial_enformer_ukbiobertexplain'\n",
    "model_params = {\n",
    "    'model_type':'UKBioBERT_EnformerPretrainedModel', # Type of model\n",
    "    'n_tasks': 1, # Number of cell types to predict\n",
    "    'crop_len':0, # No cropping of the model output\n",
    "    'n_transformers': 1, # Number of transformer layers; the published Enformer model has 11\n",
    "}\n",
    "\n",
    "train_params = {\n",
    "    'task':'regression', # binary classification\n",
    "    'lr':5e-6, # learning rate\n",
    "    'logger': 'csv', # Logs will be written to a CSV file\n",
    "    'batch_size': 6,\n",
    "    'num_workers': 8,\n",
    "    'devices': 0, # GPU index\n",
    "    'save_dir': experiment,\n",
    "    'optimizer': 'adam',\n",
    "    'max_epochs': 100,\n",
    "    'checkpoint': True, # Save checkpoints\n",
    "    'loss': 'MSE'\n",
    "}\n",
    "\n",
    "import grelu.lightning\n",
    "model = grelu.lightning.LightningModel(model_params=model_params, train_params=train_params)\n",
    "best_checkpoint = \"/home/tl688/scratch/tutorial_enformer_ukbiobertexplain/2024_12_12_08_10/version_0/checkpoints/epoch=73-step=4958.ckpt\"\n",
    "# best_checkpoint = 'tutorial_enformer_1e4/2024_23_10_15_30/version_0/checkpoints/epoch=17-step=1782.ckpt'\n",
    "print(best_checkpoint)\n",
    "model = grelu.lightning.LightningModel.load_from_checkpoint(best_checkpoint)\n",
    "\n",
    "# '''new one, train valid'''\n",
    "# experiment='/home/tl688/scratch/tutorial_enformer_ukbiobertexplain_new/'\n",
    "# model_params = {\n",
    "#     'model_type':'UKBioBERT_EnformerPretrainedModel', # Type of model\n",
    "#     'n_tasks': 1, # Number of cell types to predict\n",
    "#     'crop_len':0, # No cropping of the model output\n",
    "#     'n_transformers': 1, # Number of transformer layers; the published Enformer model has 11\n",
    "# }\n",
    "\n",
    "# train_params = {\n",
    "#     'task':'regression', # binary classification\n",
    "#     'lr':5e-6, # learning rate\n",
    "#     'logger': 'csv', # Logs will be written to a CSV file\n",
    "#     'batch_size': 6,\n",
    "#     'num_workers': 8,\n",
    "#     'devices': 0, # GPU index\n",
    "#     'save_dir': experiment,\n",
    "#     'optimizer': 'adam',\n",
    "#     'max_epochs': 100,\n",
    "#     'checkpoint': True, # Save checkpoints\n",
    "#     'loss': 'MSE'\n",
    "# }\n",
    "\n",
    "# import grelu.lightning\n",
    "# model = grelu.lightning.LightningModel(model_params=model_params, train_params=train_params)\n",
    "# best_checkpoint = \"/home/tl688/scratch/tutorial_enformer_ukbiobertexplain_new/2024_14_12_09_48/version_0/checkpoints/epoch=97-step=8820.ckpt\"\n",
    "# # best_checkpoint = 'tutorial_enformer_1e4/2024_23_10_15_30/version_0/checkpoints/epoch=17-step=1782.ckpt'\n",
    "# print(best_checkpoint)\n",
    "# model = grelu.lightning.LightningModel.load_from_checkpoint(best_checkpoint)"
   ]
  },
  {
   "cell_type": "code",
   "execution_count": null,
   "id": "1428f336",
   "metadata": {},
   "outputs": [],
   "source": []
  },
  {
   "cell_type": "code",
   "execution_count": 57,
   "id": "b6e9419e",
   "metadata": {},
   "outputs": [],
   "source": [
    "import grelu.lightning"
   ]
  },
  {
   "cell_type": "code",
   "execution_count": 58,
   "id": "b78b0fa7",
   "metadata": {},
   "outputs": [],
   "source": [
    "model.explain = True"
   ]
  },
  {
   "cell_type": "code",
   "execution_count": 59,
   "id": "cb05d7cf",
   "metadata": {},
   "outputs": [
    {
     "data": {
      "text/plain": [
       "tensor([0.8766])"
      ]
     },
     "execution_count": 59,
     "metadata": {},
     "output_type": "execute_result"
    }
   ],
   "source": [
    "torch.randn(1)"
   ]
  },
  {
   "cell_type": "code",
   "execution_count": 60,
   "id": "7008db4d",
   "metadata": {},
   "outputs": [
    {
     "data": {
      "text/plain": [
       "tensor([6.3150e-31])"
      ]
     },
     "execution_count": 60,
     "metadata": {},
     "output_type": "execute_result"
    }
   ],
   "source": [
    "torch.Tensor(1)"
   ]
  },
  {
   "cell_type": "code",
   "execution_count": 61,
   "id": "36e72d37",
   "metadata": {},
   "outputs": [],
   "source": [
    "# # best_checkpoint = trainer.checkpoint_callback.best_model_path\n",
    "# best_checkpoint = 'tutorial_enformer_1e4_singleseq_H1H2_explain/2024_28_11_08_44/version_0/checkpoints/epoch=94-step=19095.ckpt'"
   ]
  },
  {
   "cell_type": "code",
   "execution_count": 62,
   "id": "47447cc9",
   "metadata": {},
   "outputs": [],
   "source": [
    "# model = grelu.lightning.LightningModel.load_from_checkpoint(best_checkpoint)"
   ]
  },
  {
   "cell_type": "code",
   "execution_count": null,
   "id": "0b5dd836",
   "metadata": {},
   "outputs": [],
   "source": []
  },
  {
   "cell_type": "code",
   "execution_count": 63,
   "id": "aede21b7",
   "metadata": {},
   "outputs": [],
   "source": [
    "# !ssh r4519u01n01"
   ]
  },
  {
   "cell_type": "code",
   "execution_count": 64,
   "id": "5c915002",
   "metadata": {
    "scrolled": true
   },
   "outputs": [
    {
     "data": {
      "text/plain": [
       "LightningModel(\n",
       "  (model): UKBioBERT_EnformerPretrainedModel(\n",
       "    (embedding): EnformerTrunk(\n",
       "      (conv_tower): EnformerConvTower(\n",
       "        (blocks): ModuleList(\n",
       "          (0): Sequential(\n",
       "            (0): Conv1d(4, 768, kernel_size=(15,), stride=(1,), padding=same)\n",
       "            (1): ConvBlock(\n",
       "              (norm): Norm(\n",
       "                (layer): BatchNorm1d(768, eps=1e-05, momentum=0.1, affine=True, track_running_stats=True)\n",
       "              )\n",
       "              (conv): Conv1d(768, 768, kernel_size=(1,), stride=(1,), padding=same)\n",
       "              (act): Activation(\n",
       "                (layer): GELU()\n",
       "              )\n",
       "              (pool): Pool(\n",
       "                (layer): AttentionPool(\n",
       "                  (pool_fn): Rearrange('b d (n p) -> b d n p', p=2)\n",
       "                  (to_attn_logits): Conv2d(768, 768, kernel_size=(1, 1), stride=(1, 1), bias=False)\n",
       "                )\n",
       "              )\n",
       "              (dropout): Dropout(\n",
       "                (layer): Identity()\n",
       "              )\n",
       "              (channel_transform): ChannelTransform(\n",
       "                (layer): Identity()\n",
       "              )\n",
       "            )\n",
       "          )\n",
       "          (1): Sequential(\n",
       "            (0): ConvBlock(\n",
       "              (norm): Norm(\n",
       "                (layer): BatchNorm1d(768, eps=1e-05, momentum=0.1, affine=True, track_running_stats=True)\n",
       "              )\n",
       "              (conv): Conv1d(768, 768, kernel_size=(5,), stride=(1,), padding=same)\n",
       "              (act): Activation(\n",
       "                (layer): GELU()\n",
       "              )\n",
       "              (pool): Pool(\n",
       "                (layer): Identity()\n",
       "              )\n",
       "              (dropout): Dropout(\n",
       "                (layer): Identity()\n",
       "              )\n",
       "            )\n",
       "            (1): ConvBlock(\n",
       "              (norm): Norm(\n",
       "                (layer): BatchNorm1d(768, eps=1e-05, momentum=0.1, affine=True, track_running_stats=True)\n",
       "              )\n",
       "              (conv): Conv1d(768, 768, kernel_size=(1,), stride=(1,), padding=same)\n",
       "              (act): Activation(\n",
       "                (layer): GELU()\n",
       "              )\n",
       "              (pool): Pool(\n",
       "                (layer): AttentionPool(\n",
       "                  (pool_fn): Rearrange('b d (n p) -> b d n p', p=2)\n",
       "                  (to_attn_logits): Conv2d(768, 768, kernel_size=(1, 1), stride=(1, 1), bias=False)\n",
       "                )\n",
       "              )\n",
       "              (dropout): Dropout(\n",
       "                (layer): Identity()\n",
       "              )\n",
       "              (channel_transform): ChannelTransform(\n",
       "                (layer): Identity()\n",
       "              )\n",
       "            )\n",
       "          )\n",
       "          (2): Sequential(\n",
       "            (0): ConvBlock(\n",
       "              (norm): Norm(\n",
       "                (layer): BatchNorm1d(768, eps=1e-05, momentum=0.1, affine=True, track_running_stats=True)\n",
       "              )\n",
       "              (conv): Conv1d(768, 896, kernel_size=(5,), stride=(1,), padding=same)\n",
       "              (act): Activation(\n",
       "                (layer): GELU()\n",
       "              )\n",
       "              (pool): Pool(\n",
       "                (layer): Identity()\n",
       "              )\n",
       "              (dropout): Dropout(\n",
       "                (layer): Identity()\n",
       "              )\n",
       "            )\n",
       "            (1): ConvBlock(\n",
       "              (norm): Norm(\n",
       "                (layer): BatchNorm1d(896, eps=1e-05, momentum=0.1, affine=True, track_running_stats=True)\n",
       "              )\n",
       "              (conv): Conv1d(896, 896, kernel_size=(1,), stride=(1,), padding=same)\n",
       "              (act): Activation(\n",
       "                (layer): GELU()\n",
       "              )\n",
       "              (pool): Pool(\n",
       "                (layer): AttentionPool(\n",
       "                  (pool_fn): Rearrange('b d (n p) -> b d n p', p=2)\n",
       "                  (to_attn_logits): Conv2d(896, 896, kernel_size=(1, 1), stride=(1, 1), bias=False)\n",
       "                )\n",
       "              )\n",
       "              (dropout): Dropout(\n",
       "                (layer): Identity()\n",
       "              )\n",
       "              (channel_transform): ChannelTransform(\n",
       "                (layer): Identity()\n",
       "              )\n",
       "            )\n",
       "          )\n",
       "          (3): Sequential(\n",
       "            (0): ConvBlock(\n",
       "              (norm): Norm(\n",
       "                (layer): BatchNorm1d(896, eps=1e-05, momentum=0.1, affine=True, track_running_stats=True)\n",
       "              )\n",
       "              (conv): Conv1d(896, 1024, kernel_size=(5,), stride=(1,), padding=same)\n",
       "              (act): Activation(\n",
       "                (layer): GELU()\n",
       "              )\n",
       "              (pool): Pool(\n",
       "                (layer): Identity()\n",
       "              )\n",
       "              (dropout): Dropout(\n",
       "                (layer): Identity()\n",
       "              )\n",
       "            )\n",
       "            (1): ConvBlock(\n",
       "              (norm): Norm(\n",
       "                (layer): BatchNorm1d(1024, eps=1e-05, momentum=0.1, affine=True, track_running_stats=True)\n",
       "              )\n",
       "              (conv): Conv1d(1024, 1024, kernel_size=(1,), stride=(1,), padding=same)\n",
       "              (act): Activation(\n",
       "                (layer): GELU()\n",
       "              )\n",
       "              (pool): Pool(\n",
       "                (layer): AttentionPool(\n",
       "                  (pool_fn): Rearrange('b d (n p) -> b d n p', p=2)\n",
       "                  (to_attn_logits): Conv2d(1024, 1024, kernel_size=(1, 1), stride=(1, 1), bias=False)\n",
       "                )\n",
       "              )\n",
       "              (dropout): Dropout(\n",
       "                (layer): Identity()\n",
       "              )\n",
       "              (channel_transform): ChannelTransform(\n",
       "                (layer): Identity()\n",
       "              )\n",
       "            )\n",
       "          )\n",
       "          (4): Sequential(\n",
       "            (0): ConvBlock(\n",
       "              (norm): Norm(\n",
       "                (layer): BatchNorm1d(1024, eps=1e-05, momentum=0.1, affine=True, track_running_stats=True)\n",
       "              )\n",
       "              (conv): Conv1d(1024, 1152, kernel_size=(5,), stride=(1,), padding=same)\n",
       "              (act): Activation(\n",
       "                (layer): GELU()\n",
       "              )\n",
       "              (pool): Pool(\n",
       "                (layer): Identity()\n",
       "              )\n",
       "              (dropout): Dropout(\n",
       "                (layer): Identity()\n",
       "              )\n",
       "            )\n",
       "            (1): ConvBlock(\n",
       "              (norm): Norm(\n",
       "                (layer): BatchNorm1d(1152, eps=1e-05, momentum=0.1, affine=True, track_running_stats=True)\n",
       "              )\n",
       "              (conv): Conv1d(1152, 1152, kernel_size=(1,), stride=(1,), padding=same)\n",
       "              (act): Activation(\n",
       "                (layer): GELU()\n",
       "              )\n",
       "              (pool): Pool(\n",
       "                (layer): AttentionPool(\n",
       "                  (pool_fn): Rearrange('b d (n p) -> b d n p', p=2)\n",
       "                  (to_attn_logits): Conv2d(1152, 1152, kernel_size=(1, 1), stride=(1, 1), bias=False)\n",
       "                )\n",
       "              )\n",
       "              (dropout): Dropout(\n",
       "                (layer): Identity()\n",
       "              )\n",
       "              (channel_transform): ChannelTransform(\n",
       "                (layer): Identity()\n",
       "              )\n",
       "            )\n",
       "          )\n",
       "          (5): Sequential(\n",
       "            (0): ConvBlock(\n",
       "              (norm): Norm(\n",
       "                (layer): BatchNorm1d(1152, eps=1e-05, momentum=0.1, affine=True, track_running_stats=True)\n",
       "              )\n",
       "              (conv): Conv1d(1152, 1280, kernel_size=(5,), stride=(1,), padding=same)\n",
       "              (act): Activation(\n",
       "                (layer): GELU()\n",
       "              )\n",
       "              (pool): Pool(\n",
       "                (layer): Identity()\n",
       "              )\n",
       "              (dropout): Dropout(\n",
       "                (layer): Identity()\n",
       "              )\n",
       "            )\n",
       "            (1): ConvBlock(\n",
       "              (norm): Norm(\n",
       "                (layer): BatchNorm1d(1280, eps=1e-05, momentum=0.1, affine=True, track_running_stats=True)\n",
       "              )\n",
       "              (conv): Conv1d(1280, 1280, kernel_size=(1,), stride=(1,), padding=same)\n",
       "              (act): Activation(\n",
       "                (layer): GELU()\n",
       "              )\n",
       "              (pool): Pool(\n",
       "                (layer): AttentionPool(\n",
       "                  (pool_fn): Rearrange('b d (n p) -> b d n p', p=2)\n",
       "                  (to_attn_logits): Conv2d(1280, 1280, kernel_size=(1, 1), stride=(1, 1), bias=False)\n",
       "                )\n",
       "              )\n",
       "              (dropout): Dropout(\n",
       "                (layer): Identity()\n",
       "              )\n",
       "              (channel_transform): ChannelTransform(\n",
       "                (layer): Identity()\n",
       "              )\n",
       "            )\n",
       "          )\n",
       "          (6): Sequential(\n",
       "            (0): ConvBlock(\n",
       "              (norm): Norm(\n",
       "                (layer): BatchNorm1d(1280, eps=1e-05, momentum=0.1, affine=True, track_running_stats=True)\n",
       "              )\n",
       "              (conv): Conv1d(1280, 1536, kernel_size=(5,), stride=(1,), padding=same)\n",
       "              (act): Activation(\n",
       "                (layer): GELU()\n",
       "              )\n",
       "              (pool): Pool(\n",
       "                (layer): Identity()\n",
       "              )\n",
       "              (dropout): Dropout(\n",
       "                (layer): Identity()\n",
       "              )\n",
       "            )\n",
       "            (1): ConvBlock(\n",
       "              (norm): Norm(\n",
       "                (layer): BatchNorm1d(1536, eps=1e-05, momentum=0.1, affine=True, track_running_stats=True)\n",
       "              )\n",
       "              (conv): Conv1d(1536, 1536, kernel_size=(1,), stride=(1,), padding=same)\n",
       "              (act): Activation(\n",
       "                (layer): GELU()\n",
       "              )\n",
       "              (pool): Pool(\n",
       "                (layer): AttentionPool(\n",
       "                  (pool_fn): Rearrange('b d (n p) -> b d n p', p=2)\n",
       "                  (to_attn_logits): Conv2d(1536, 1536, kernel_size=(1, 1), stride=(1, 1), bias=False)\n",
       "                )\n",
       "              )\n",
       "              (dropout): Dropout(\n",
       "                (layer): Identity()\n",
       "              )\n",
       "              (channel_transform): ChannelTransform(\n",
       "                (layer): Identity()\n",
       "              )\n",
       "            )\n",
       "          )\n",
       "        )\n",
       "      )\n",
       "      (transformer_tower): EnformerTransformerTower(\n",
       "        (blocks): ModuleList(\n",
       "          (0): EnformerTransformerBlock(\n",
       "            (norm): Norm(\n",
       "              (layer): LayerNorm((1536,), eps=1e-05, elementwise_affine=True)\n",
       "            )\n",
       "            (mha): Attention(\n",
       "              (to_q): Linear(in_features=1536, out_features=512, bias=False)\n",
       "              (to_k): Linear(in_features=1536, out_features=512, bias=False)\n",
       "              (to_v): Linear(in_features=1536, out_features=1536, bias=False)\n",
       "              (to_out): Linear(in_features=1536, out_features=1536, bias=True)\n",
       "              (to_rel_k): Linear(in_features=192, out_features=512, bias=False)\n",
       "              (pos_dropout): Dropout(p=0.01, inplace=False)\n",
       "              (attn_dropout): Dropout(p=0.05, inplace=False)\n",
       "            )\n",
       "            (dropout): Dropout(\n",
       "              (layer): Dropout(p=0.4, inplace=False)\n",
       "            )\n",
       "            (ffn): FeedForwardBlock(\n",
       "              (dense1): LinearBlock(\n",
       "                (norm): Norm(\n",
       "                  (layer): LayerNorm((1536,), eps=1e-05, elementwise_affine=True)\n",
       "                )\n",
       "                (linear): Linear(in_features=1536, out_features=3072, bias=True)\n",
       "                (dropout): Dropout(\n",
       "                  (layer): Dropout(p=0.4, inplace=False)\n",
       "                )\n",
       "                (act): Activation(\n",
       "                  (layer): ReLU()\n",
       "                )\n",
       "              )\n",
       "              (dense2): LinearBlock(\n",
       "                (norm): Norm(\n",
       "                  (layer): Identity()\n",
       "                )\n",
       "                (linear): Linear(in_features=3072, out_features=1536, bias=True)\n",
       "                (dropout): Dropout(\n",
       "                  (layer): Dropout(p=0.4, inplace=False)\n",
       "                )\n",
       "                (act): Activation(\n",
       "                  (layer): Identity()\n",
       "                )\n",
       "              )\n",
       "            )\n",
       "          )\n",
       "        )\n",
       "      )\n",
       "      (pointwise_conv): ConvBlock(\n",
       "        (norm): Norm(\n",
       "          (layer): BatchNorm1d(1536, eps=1e-05, momentum=0.1, affine=True, track_running_stats=True)\n",
       "        )\n",
       "        (conv): Conv1d(1536, 3072, kernel_size=(1,), stride=(1,), padding=same)\n",
       "        (act): Activation(\n",
       "          (layer): GELU()\n",
       "        )\n",
       "        (pool): Pool(\n",
       "          (layer): Identity()\n",
       "        )\n",
       "        (dropout): Dropout(\n",
       "          (layer): Identity()\n",
       "        )\n",
       "      )\n",
       "      (act): Activation(\n",
       "        (layer): GELU()\n",
       "      )\n",
       "      (crop): Crop(\n",
       "        (layer): Identity()\n",
       "      )\n",
       "    )\n",
       "    (head): ConvHead(\n",
       "      (channel_transform): ChannelTransformBlock(\n",
       "        (norm): Norm(\n",
       "          (layer): Identity()\n",
       "        )\n",
       "        (conv): ChannelTransform(\n",
       "          (layer): Conv1d(3072, 1, kernel_size=(1,), stride=(1,), padding=same)\n",
       "        )\n",
       "        (act): Activation(\n",
       "          (layer): Identity()\n",
       "        )\n",
       "        (dropout): Dropout(\n",
       "          (layer): Identity()\n",
       "        )\n",
       "      )\n",
       "      (pool): AdaptivePool(\n",
       "        (layer): AdaptiveAvgPool1d(output_size=1)\n",
       "      )\n",
       "    )\n",
       "    (mlp): Sequential(\n",
       "      (0): Linear(in_features=1536, out_features=512, bias=True)\n",
       "      (1): ReLU()\n",
       "      (2): Linear(in_features=512, out_features=1, bias=True)\n",
       "    )\n",
       "  )\n",
       "  (loss): MSELoss()\n",
       "  (activation): Identity()\n",
       "  (val_metrics): MetricCollection(\n",
       "    (mse): MSE()\n",
       "    (pearson): PearsonCorrCoef(\n",
       "      (pearson): PearsonCorrCoef()\n",
       "    ),\n",
       "    prefix=val_\n",
       "  )\n",
       "  (test_metrics): MetricCollection(\n",
       "    (mse): MSE()\n",
       "    (pearson): PearsonCorrCoef(\n",
       "      (pearson): PearsonCorrCoef()\n",
       "    ),\n",
       "    prefix=test_\n",
       "  )\n",
       "  (transform): Identity()\n",
       ")"
      ]
     },
     "execution_count": 64,
     "metadata": {},
     "output_type": "execute_result"
    }
   ],
   "source": [
    "model"
   ]
  },
  {
   "cell_type": "markdown",
   "id": "3acd885f",
   "metadata": {},
   "source": [
    "# Test variant effect"
   ]
  },
  {
   "cell_type": "code",
   "execution_count": 65,
   "id": "c56f8ee9",
   "metadata": {},
   "outputs": [],
   "source": [
    "import pickle"
   ]
  },
  {
   "cell_type": "code",
   "execution_count": 66,
   "id": "9be1d4a9",
   "metadata": {},
   "outputs": [],
   "source": [
    "import pickle\n",
    "with open('/home/tl688/project/grelu/test_ukbiobank_simresult.pickle', 'rb') as fp:\n",
    "    test = pickle.load(fp)"
   ]
  },
  {
   "cell_type": "code",
   "execution_count": 67,
   "id": "dccadbea",
   "metadata": {},
   "outputs": [
    {
     "data": {
      "text/plain": [
       "28"
      ]
     },
     "execution_count": 67,
     "metadata": {},
     "output_type": "execute_result"
    }
   ],
   "source": [
    "len(test['effect_size'])"
   ]
  },
  {
   "cell_type": "code",
   "execution_count": 68,
   "id": "b4e7a066",
   "metadata": {},
   "outputs": [
    {
     "data": {
      "text/plain": [
       "'\\nsnpid\\tchrom\\tpos\\talt\\tref\\trsid\\tzscore\\tpval\\tnsum\\tneff\\tdirection\\teaf\\tbeta\\tse\\n0\\t6:32630634_G_A\\tchr6\\t32630634\\tG\\tA\\t6:32630634\\t3.974476\\t0.000071\\t71639\\t71639.0\\t?+?+\\t0.2237\\t0.025194\\t0.006339\\n1\\t6:32630797_A_G\\tchr6\\t32630797\\tA\\tG\\t6:32630797\\t4.040244\\t0.000053\\t71639\\t71639.0\\t?+?+\\t0.2435\\t0.024866\\t0.006155\\n2\\t6:32630824_T_C\\tchr6\\t32630824\\tT\\tC\\t6:32630824\\t3.921736\\t0.000088\\t71639\\t71639.0\\t?+?+\\t0.1859\\t0.026630\\t0.006790\\n'"
      ]
     },
     "execution_count": 68,
     "metadata": {},
     "output_type": "execute_result"
    }
   ],
   "source": [
    "'''\n",
    "snpid\tchrom\tpos\talt\tref\trsid\tzscore\tpval\tnsum\tneff\tdirection\teaf\tbeta\tse\n",
    "0\t6:32630634_G_A\tchr6\t32630634\tG\tA\t6:32630634\t3.974476\t0.000071\t71639\t71639.0\t?+?+\t0.2237\t0.025194\t0.006339\n",
    "1\t6:32630797_A_G\tchr6\t32630797\tA\tG\t6:32630797\t4.040244\t0.000053\t71639\t71639.0\t?+?+\t0.2435\t0.024866\t0.006155\n",
    "2\t6:32630824_T_C\tchr6\t32630824\tT\tC\t6:32630824\t3.921736\t0.000088\t71639\t71639.0\t?+?+\t0.1859\t0.026630\t0.006790\n",
    "'''"
   ]
  },
  {
   "cell_type": "code",
   "execution_count": 69,
   "id": "7da612fa",
   "metadata": {},
   "outputs": [
    {
     "data": {
      "text/html": [
       "<div>\n",
       "<style scoped>\n",
       "    .dataframe tbody tr th:only-of-type {\n",
       "        vertical-align: middle;\n",
       "    }\n",
       "\n",
       "    .dataframe tbody tr th {\n",
       "        vertical-align: top;\n",
       "    }\n",
       "\n",
       "    .dataframe thead th {\n",
       "        text-align: right;\n",
       "    }\n",
       "</style>\n",
       "<table border=\"1\" class=\"dataframe\">\n",
       "  <thead>\n",
       "    <tr style=\"text-align: right;\">\n",
       "      <th></th>\n",
       "      <th>Unnamed: 0</th>\n",
       "      <th>#chr</th>\n",
       "      <th>start</th>\n",
       "      <th>end</th>\n",
       "      <th>gene_id</th>\n",
       "      <th>GTEX-111YS</th>\n",
       "      <th>GTEX-1122O</th>\n",
       "      <th>GTEX-1128S</th>\n",
       "      <th>GTEX-113IC</th>\n",
       "      <th>GTEX-113JC</th>\n",
       "      <th>...</th>\n",
       "      <th>GTEX-ZVE2</th>\n",
       "      <th>GTEX-ZVP2</th>\n",
       "      <th>GTEX-ZVT2</th>\n",
       "      <th>GTEX-ZVT3</th>\n",
       "      <th>GTEX-ZVT4</th>\n",
       "      <th>GTEX-ZVZP</th>\n",
       "      <th>GTEX-ZVZQ</th>\n",
       "      <th>GTEX-ZXES</th>\n",
       "      <th>GTEX-ZXG5</th>\n",
       "      <th>gene_symbol</th>\n",
       "    </tr>\n",
       "  </thead>\n",
       "  <tbody>\n",
       "    <tr>\n",
       "      <th>15903</th>\n",
       "      <td>15903</td>\n",
       "      <td>chr17</td>\n",
       "      <td>41786930</td>\n",
       "      <td>41786931</td>\n",
       "      <td>ENSG00000173801.16</td>\n",
       "      <td>-2.007378</td>\n",
       "      <td>-0.163223</td>\n",
       "      <td>0.591185</td>\n",
       "      <td>0.376684</td>\n",
       "      <td>0.811136</td>\n",
       "      <td>...</td>\n",
       "      <td>-0.627164</td>\n",
       "      <td>-1.401871</td>\n",
       "      <td>-1.209352</td>\n",
       "      <td>0.054194</td>\n",
       "      <td>2.368016</td>\n",
       "      <td>-1.610437</td>\n",
       "      <td>0.31324</td>\n",
       "      <td>0.678011</td>\n",
       "      <td>-0.735562</td>\n",
       "      <td>JUP</td>\n",
       "    </tr>\n",
       "  </tbody>\n",
       "</table>\n",
       "<p>1 rows × 676 columns</p>\n",
       "</div>"
      ],
      "text/plain": [
       "       Unnamed: 0   #chr     start       end             gene_id  GTEX-111YS  \\\n",
       "15903       15903  chr17  41786930  41786931  ENSG00000173801.16   -2.007378   \n",
       "\n",
       "       GTEX-1122O  GTEX-1128S  GTEX-113IC  GTEX-113JC  ...  GTEX-ZVE2  \\\n",
       "15903   -0.163223    0.591185    0.376684    0.811136  ...  -0.627164   \n",
       "\n",
       "       GTEX-ZVP2  GTEX-ZVT2  GTEX-ZVT3  GTEX-ZVT4  GTEX-ZVZP  GTEX-ZVZQ  \\\n",
       "15903  -1.401871  -1.209352   0.054194   2.368016  -1.610437    0.31324   \n",
       "\n",
       "       GTEX-ZXES  GTEX-ZXG5  gene_symbol  \n",
       "15903   0.678011  -0.735562          JUP  \n",
       "\n",
       "[1 rows x 676 columns]"
      ]
     },
     "execution_count": 69,
     "metadata": {},
     "output_type": "execute_result"
    }
   ],
   "source": [
    "df_gene_test"
   ]
  },
  {
   "cell_type": "code",
   "execution_count": 70,
   "id": "020cf3a8",
   "metadata": {},
   "outputs": [],
   "source": [
    "df = pd.read_csv(\"/home/tl688/scratch/JUP_eqtl_information.csv\")"
   ]
  },
  {
   "cell_type": "code",
   "execution_count": 71,
   "id": "d1c177ac",
   "metadata": {},
   "outputs": [
    {
     "data": {
      "text/html": [
       "<div>\n",
       "<style scoped>\n",
       "    .dataframe tbody tr th:only-of-type {\n",
       "        vertical-align: middle;\n",
       "    }\n",
       "\n",
       "    .dataframe tbody tr th {\n",
       "        vertical-align: top;\n",
       "    }\n",
       "\n",
       "    .dataframe thead th {\n",
       "        text-align: right;\n",
       "    }\n",
       "</style>\n",
       "<table border=\"1\" class=\"dataframe\">\n",
       "  <thead>\n",
       "    <tr style=\"text-align: right;\">\n",
       "      <th></th>\n",
       "      <th>Gencode Id</th>\n",
       "      <th>Gene Symbol</th>\n",
       "      <th>Variant Id</th>\n",
       "      <th>SNP Id</th>\n",
       "      <th>P-Value</th>\n",
       "      <th>NES</th>\n",
       "      <th>Tissue</th>\n",
       "    </tr>\n",
       "  </thead>\n",
       "  <tbody>\n",
       "    <tr>\n",
       "      <th>0</th>\n",
       "      <td>ENSG00000173801.17</td>\n",
       "      <td>JUP</td>\n",
       "      <td>chr17_41786197_C_T_b38</td>\n",
       "      <td>rs9911745</td>\n",
       "      <td>2.600000e-196</td>\n",
       "      <td>-1.500</td>\n",
       "      <td>Whole Blood</td>\n",
       "    </tr>\n",
       "    <tr>\n",
       "      <th>1</th>\n",
       "      <td>ENSG00000173801.17</td>\n",
       "      <td>JUP</td>\n",
       "      <td>chr17_41793870_C_G_b38</td>\n",
       "      <td>rs1030827</td>\n",
       "      <td>2.500000e-194</td>\n",
       "      <td>-1.400</td>\n",
       "      <td>Whole Blood</td>\n",
       "    </tr>\n",
       "    <tr>\n",
       "      <th>2</th>\n",
       "      <td>ENSG00000173801.17</td>\n",
       "      <td>JUP</td>\n",
       "      <td>chr17_41790431_A_G_b38</td>\n",
       "      <td>rs2883071</td>\n",
       "      <td>6.300000e-193</td>\n",
       "      <td>-1.400</td>\n",
       "      <td>Whole Blood</td>\n",
       "    </tr>\n",
       "    <tr>\n",
       "      <th>3</th>\n",
       "      <td>ENSG00000173801.17</td>\n",
       "      <td>JUP</td>\n",
       "      <td>chr17_41790757_C_T_b38</td>\n",
       "      <td>rs1865840</td>\n",
       "      <td>6.300000e-193</td>\n",
       "      <td>-1.400</td>\n",
       "      <td>Whole Blood</td>\n",
       "    </tr>\n",
       "    <tr>\n",
       "      <th>4</th>\n",
       "      <td>ENSG00000173801.17</td>\n",
       "      <td>JUP</td>\n",
       "      <td>chr17_41790773_T_C_b38</td>\n",
       "      <td>rs873150</td>\n",
       "      <td>6.300000e-193</td>\n",
       "      <td>-1.400</td>\n",
       "      <td>Whole Blood</td>\n",
       "    </tr>\n",
       "    <tr>\n",
       "      <th>...</th>\n",
       "      <td>...</td>\n",
       "      <td>...</td>\n",
       "      <td>...</td>\n",
       "      <td>...</td>\n",
       "      <td>...</td>\n",
       "      <td>...</td>\n",
       "      <td>...</td>\n",
       "    </tr>\n",
       "    <tr>\n",
       "      <th>1472</th>\n",
       "      <td>ENSG00000173801.17</td>\n",
       "      <td>JUP</td>\n",
       "      <td>chr17_41956437_C_T_b38</td>\n",
       "      <td>rs56054051</td>\n",
       "      <td>3.500000e-04</td>\n",
       "      <td>0.095</td>\n",
       "      <td>Nerve - Tibial</td>\n",
       "    </tr>\n",
       "    <tr>\n",
       "      <th>1473</th>\n",
       "      <td>ENSG00000173801.17</td>\n",
       "      <td>JUP</td>\n",
       "      <td>chr17_41802937_C_G_b38</td>\n",
       "      <td>rs1065029</td>\n",
       "      <td>3.600000e-04</td>\n",
       "      <td>0.140</td>\n",
       "      <td>Cells - Cultured fibroblasts</td>\n",
       "    </tr>\n",
       "    <tr>\n",
       "      <th>1474</th>\n",
       "      <td>ENSG00000173801.17</td>\n",
       "      <td>JUP</td>\n",
       "      <td>chr17_41791918_C_T_b38</td>\n",
       "      <td>rs8080677</td>\n",
       "      <td>3.600000e-04</td>\n",
       "      <td>-0.092</td>\n",
       "      <td>Nerve - Tibial</td>\n",
       "    </tr>\n",
       "    <tr>\n",
       "      <th>1475</th>\n",
       "      <td>ENSG00000173801.17</td>\n",
       "      <td>JUP</td>\n",
       "      <td>chr17_41951547_TTCCTG_T_b38</td>\n",
       "      <td>rs145398160</td>\n",
       "      <td>3.800000e-04</td>\n",
       "      <td>0.094</td>\n",
       "      <td>Nerve - Tibial</td>\n",
       "    </tr>\n",
       "    <tr>\n",
       "      <th>1476</th>\n",
       "      <td>ENSG00000173801.17</td>\n",
       "      <td>JUP</td>\n",
       "      <td>chr17_41956614_C_T_b38</td>\n",
       "      <td>rs36036083</td>\n",
       "      <td>3.800000e-04</td>\n",
       "      <td>0.094</td>\n",
       "      <td>Nerve - Tibial</td>\n",
       "    </tr>\n",
       "  </tbody>\n",
       "</table>\n",
       "<p>1477 rows × 7 columns</p>\n",
       "</div>"
      ],
      "text/plain": [
       "              Gencode Id Gene Symbol                   Variant Id  \\\n",
       "0     ENSG00000173801.17         JUP       chr17_41786197_C_T_b38   \n",
       "1     ENSG00000173801.17         JUP       chr17_41793870_C_G_b38   \n",
       "2     ENSG00000173801.17         JUP       chr17_41790431_A_G_b38   \n",
       "3     ENSG00000173801.17         JUP       chr17_41790757_C_T_b38   \n",
       "4     ENSG00000173801.17         JUP       chr17_41790773_T_C_b38   \n",
       "...                  ...         ...                          ...   \n",
       "1472  ENSG00000173801.17         JUP       chr17_41956437_C_T_b38   \n",
       "1473  ENSG00000173801.17         JUP       chr17_41802937_C_G_b38   \n",
       "1474  ENSG00000173801.17         JUP       chr17_41791918_C_T_b38   \n",
       "1475  ENSG00000173801.17         JUP  chr17_41951547_TTCCTG_T_b38   \n",
       "1476  ENSG00000173801.17         JUP       chr17_41956614_C_T_b38   \n",
       "\n",
       "           SNP Id        P-Value    NES                        Tissue  \n",
       "0       rs9911745  2.600000e-196 -1.500                   Whole Blood  \n",
       "1       rs1030827  2.500000e-194 -1.400                   Whole Blood  \n",
       "2       rs2883071  6.300000e-193 -1.400                   Whole Blood  \n",
       "3       rs1865840  6.300000e-193 -1.400                   Whole Blood  \n",
       "4        rs873150  6.300000e-193 -1.400                   Whole Blood  \n",
       "...           ...            ...    ...                           ...  \n",
       "1472   rs56054051   3.500000e-04  0.095                Nerve - Tibial  \n",
       "1473    rs1065029   3.600000e-04  0.140  Cells - Cultured fibroblasts  \n",
       "1474    rs8080677   3.600000e-04 -0.092                Nerve - Tibial  \n",
       "1475  rs145398160   3.800000e-04  0.094                Nerve - Tibial  \n",
       "1476   rs36036083   3.800000e-04  0.094                Nerve - Tibial  \n",
       "\n",
       "[1477 rows x 7 columns]"
      ]
     },
     "execution_count": 71,
     "metadata": {},
     "output_type": "execute_result"
    }
   ],
   "source": [
    "df"
   ]
  },
  {
   "cell_type": "code",
   "execution_count": 72,
   "id": "db790054",
   "metadata": {
    "scrolled": true
   },
   "outputs": [],
   "source": [
    "l1, l2, l3, l4, l5,l6 = [], [], [], [], [],[]\n",
    "for i,j,k in zip(df.loc[0:30]['Variant Id'], df.loc[0:30]['SNP Id'], df.loc[0:30]['NES']):\n",
    "    chrid, idx, ref,alt,res = i.split('_')\n",
    "    if (len(ref) == 1) and (len(alt) == 1):\n",
    "        l1.append(j)\n",
    "        l2.append(chrid)\n",
    "        l3.append(int(idx))\n",
    "        l4.append(ref)\n",
    "        l5.append(alt)\n",
    "        l6.append(k)"
   ]
  },
  {
   "cell_type": "code",
   "execution_count": 73,
   "id": "48d4f2b3",
   "metadata": {},
   "outputs": [],
   "source": [
    "# df_variant = pd.DataFrame()\n",
    "# df_variant['snpid'] = ['rs9911745', 'rs1030827']\n",
    "# df_variant['chrom'] = ['chr17', 'chr17']\n",
    "# df_variant['pos'] = [41786197, 41793870]\n",
    "# df_variant['alt'] = ['T', 'G']\n",
    "# df_variant['ref'] = ['C', 'C']\n",
    "\n",
    "df_variant = pd.DataFrame()\n",
    "df_variant['snpid'] = l1\n",
    "df_variant['chrom'] = l2\n",
    "df_variant['pos'] = l3\n",
    "df_variant['alt'] = l5\n",
    "df_variant['ref'] = l4\n",
    "df_variant['nes'] = l6"
   ]
  },
  {
   "cell_type": "code",
   "execution_count": 74,
   "id": "f0ac29ed",
   "metadata": {
    "scrolled": true
   },
   "outputs": [],
   "source": [
    "# df_variant = df_variant.iloc[20:]"
   ]
  },
  {
   "cell_type": "code",
   "execution_count": 75,
   "id": "adb3e763",
   "metadata": {
    "scrolled": true
   },
   "outputs": [
    {
     "data": {
      "text/html": [
       "<div>\n",
       "<style scoped>\n",
       "    .dataframe tbody tr th:only-of-type {\n",
       "        vertical-align: middle;\n",
       "    }\n",
       "\n",
       "    .dataframe tbody tr th {\n",
       "        vertical-align: top;\n",
       "    }\n",
       "\n",
       "    .dataframe thead th {\n",
       "        text-align: right;\n",
       "    }\n",
       "</style>\n",
       "<table border=\"1\" class=\"dataframe\">\n",
       "  <thead>\n",
       "    <tr style=\"text-align: right;\">\n",
       "      <th></th>\n",
       "      <th>snpid</th>\n",
       "      <th>chrom</th>\n",
       "      <th>pos</th>\n",
       "      <th>alt</th>\n",
       "      <th>ref</th>\n",
       "      <th>nes</th>\n",
       "    </tr>\n",
       "  </thead>\n",
       "  <tbody>\n",
       "    <tr>\n",
       "      <th>0</th>\n",
       "      <td>rs9911745</td>\n",
       "      <td>chr17</td>\n",
       "      <td>41786197</td>\n",
       "      <td>T</td>\n",
       "      <td>C</td>\n",
       "      <td>-1.50</td>\n",
       "    </tr>\n",
       "    <tr>\n",
       "      <th>1</th>\n",
       "      <td>rs1030827</td>\n",
       "      <td>chr17</td>\n",
       "      <td>41793870</td>\n",
       "      <td>G</td>\n",
       "      <td>C</td>\n",
       "      <td>-1.40</td>\n",
       "    </tr>\n",
       "    <tr>\n",
       "      <th>2</th>\n",
       "      <td>rs2883071</td>\n",
       "      <td>chr17</td>\n",
       "      <td>41790431</td>\n",
       "      <td>G</td>\n",
       "      <td>A</td>\n",
       "      <td>-1.40</td>\n",
       "    </tr>\n",
       "    <tr>\n",
       "      <th>3</th>\n",
       "      <td>rs1865840</td>\n",
       "      <td>chr17</td>\n",
       "      <td>41790757</td>\n",
       "      <td>T</td>\n",
       "      <td>C</td>\n",
       "      <td>-1.40</td>\n",
       "    </tr>\n",
       "    <tr>\n",
       "      <th>4</th>\n",
       "      <td>rs873150</td>\n",
       "      <td>chr17</td>\n",
       "      <td>41790773</td>\n",
       "      <td>C</td>\n",
       "      <td>T</td>\n",
       "      <td>-1.40</td>\n",
       "    </tr>\n",
       "    <tr>\n",
       "      <th>5</th>\n",
       "      <td>rs2353021</td>\n",
       "      <td>chr17</td>\n",
       "      <td>41788254</td>\n",
       "      <td>A</td>\n",
       "      <td>G</td>\n",
       "      <td>-1.40</td>\n",
       "    </tr>\n",
       "    <tr>\n",
       "      <th>6</th>\n",
       "      <td>rs2353023</td>\n",
       "      <td>chr17</td>\n",
       "      <td>41788404</td>\n",
       "      <td>G</td>\n",
       "      <td>A</td>\n",
       "      <td>-1.40</td>\n",
       "    </tr>\n",
       "    <tr>\n",
       "      <th>7</th>\n",
       "      <td>rs9910080</td>\n",
       "      <td>chr17</td>\n",
       "      <td>41793356</td>\n",
       "      <td>C</td>\n",
       "      <td>T</td>\n",
       "      <td>-1.40</td>\n",
       "    </tr>\n",
       "    <tr>\n",
       "      <th>8</th>\n",
       "      <td>rs7216371</td>\n",
       "      <td>chr17</td>\n",
       "      <td>41787669</td>\n",
       "      <td>C</td>\n",
       "      <td>T</td>\n",
       "      <td>-1.40</td>\n",
       "    </tr>\n",
       "    <tr>\n",
       "      <th>9</th>\n",
       "      <td>rs11079013</td>\n",
       "      <td>chr17</td>\n",
       "      <td>41790954</td>\n",
       "      <td>C</td>\n",
       "      <td>A</td>\n",
       "      <td>-1.40</td>\n",
       "    </tr>\n",
       "    <tr>\n",
       "      <th>10</th>\n",
       "      <td>rs9903086</td>\n",
       "      <td>chr17</td>\n",
       "      <td>41793264</td>\n",
       "      <td>T</td>\n",
       "      <td>C</td>\n",
       "      <td>-1.40</td>\n",
       "    </tr>\n",
       "    <tr>\n",
       "      <th>11</th>\n",
       "      <td>rs1030826</td>\n",
       "      <td>chr17</td>\n",
       "      <td>41793798</td>\n",
       "      <td>G</td>\n",
       "      <td>A</td>\n",
       "      <td>-1.40</td>\n",
       "    </tr>\n",
       "    <tr>\n",
       "      <th>12</th>\n",
       "      <td>rs4796703</td>\n",
       "      <td>chr17</td>\n",
       "      <td>41794422</td>\n",
       "      <td>G</td>\n",
       "      <td>A</td>\n",
       "      <td>-1.40</td>\n",
       "    </tr>\n",
       "    <tr>\n",
       "      <th>13</th>\n",
       "      <td>rs4399580</td>\n",
       "      <td>chr17</td>\n",
       "      <td>41794723</td>\n",
       "      <td>C</td>\n",
       "      <td>T</td>\n",
       "      <td>-1.40</td>\n",
       "    </tr>\n",
       "    <tr>\n",
       "      <th>14</th>\n",
       "      <td>rs6503664</td>\n",
       "      <td>chr17</td>\n",
       "      <td>41795329</td>\n",
       "      <td>G</td>\n",
       "      <td>C</td>\n",
       "      <td>-1.40</td>\n",
       "    </tr>\n",
       "    <tr>\n",
       "      <th>15</th>\n",
       "      <td>rs6503665</td>\n",
       "      <td>chr17</td>\n",
       "      <td>41797287</td>\n",
       "      <td>C</td>\n",
       "      <td>G</td>\n",
       "      <td>-1.40</td>\n",
       "    </tr>\n",
       "    <tr>\n",
       "      <th>16</th>\n",
       "      <td>rs12948617</td>\n",
       "      <td>chr17</td>\n",
       "      <td>41798395</td>\n",
       "      <td>T</td>\n",
       "      <td>G</td>\n",
       "      <td>-1.10</td>\n",
       "    </tr>\n",
       "    <tr>\n",
       "      <th>17</th>\n",
       "      <td>rs1065029</td>\n",
       "      <td>chr17</td>\n",
       "      <td>41802937</td>\n",
       "      <td>G</td>\n",
       "      <td>C</td>\n",
       "      <td>-1.00</td>\n",
       "    </tr>\n",
       "    <tr>\n",
       "      <th>18</th>\n",
       "      <td>rs1061843</td>\n",
       "      <td>chr17</td>\n",
       "      <td>41802092</td>\n",
       "      <td>C</td>\n",
       "      <td>T</td>\n",
       "      <td>-1.00</td>\n",
       "    </tr>\n",
       "    <tr>\n",
       "      <th>19</th>\n",
       "      <td>rs4796610</td>\n",
       "      <td>chr17</td>\n",
       "      <td>41806036</td>\n",
       "      <td>T</td>\n",
       "      <td>C</td>\n",
       "      <td>-1.00</td>\n",
       "    </tr>\n",
       "    <tr>\n",
       "      <th>20</th>\n",
       "      <td>rs6503666</td>\n",
       "      <td>chr17</td>\n",
       "      <td>41798039</td>\n",
       "      <td>A</td>\n",
       "      <td>G</td>\n",
       "      <td>-0.76</td>\n",
       "    </tr>\n",
       "    <tr>\n",
       "      <th>21</th>\n",
       "      <td>rs11654169</td>\n",
       "      <td>chr17</td>\n",
       "      <td>41798133</td>\n",
       "      <td>C</td>\n",
       "      <td>T</td>\n",
       "      <td>-0.74</td>\n",
       "    </tr>\n",
       "    <tr>\n",
       "      <th>22</th>\n",
       "      <td>rs8072866</td>\n",
       "      <td>chr17</td>\n",
       "      <td>41821610</td>\n",
       "      <td>T</td>\n",
       "      <td>C</td>\n",
       "      <td>-0.80</td>\n",
       "    </tr>\n",
       "    <tr>\n",
       "      <th>23</th>\n",
       "      <td>rs11651225</td>\n",
       "      <td>chr17</td>\n",
       "      <td>41836407</td>\n",
       "      <td>G</td>\n",
       "      <td>A</td>\n",
       "      <td>-0.80</td>\n",
       "    </tr>\n",
       "    <tr>\n",
       "      <th>24</th>\n",
       "      <td>rs4313853</td>\n",
       "      <td>chr17</td>\n",
       "      <td>41823825</td>\n",
       "      <td>G</td>\n",
       "      <td>T</td>\n",
       "      <td>-0.79</td>\n",
       "    </tr>\n",
       "    <tr>\n",
       "      <th>25</th>\n",
       "      <td>rs7212675</td>\n",
       "      <td>chr17</td>\n",
       "      <td>41824389</td>\n",
       "      <td>G</td>\n",
       "      <td>C</td>\n",
       "      <td>-0.79</td>\n",
       "    </tr>\n",
       "    <tr>\n",
       "      <th>26</th>\n",
       "      <td>rs1436441</td>\n",
       "      <td>chr17</td>\n",
       "      <td>41824996</td>\n",
       "      <td>G</td>\n",
       "      <td>A</td>\n",
       "      <td>-0.79</td>\n",
       "    </tr>\n",
       "    <tr>\n",
       "      <th>27</th>\n",
       "      <td>rs4796712</td>\n",
       "      <td>chr17</td>\n",
       "      <td>41830878</td>\n",
       "      <td>C</td>\n",
       "      <td>T</td>\n",
       "      <td>-0.78</td>\n",
       "    </tr>\n",
       "  </tbody>\n",
       "</table>\n",
       "</div>"
      ],
      "text/plain": [
       "         snpid  chrom       pos alt ref   nes\n",
       "0    rs9911745  chr17  41786197   T   C -1.50\n",
       "1    rs1030827  chr17  41793870   G   C -1.40\n",
       "2    rs2883071  chr17  41790431   G   A -1.40\n",
       "3    rs1865840  chr17  41790757   T   C -1.40\n",
       "4     rs873150  chr17  41790773   C   T -1.40\n",
       "5    rs2353021  chr17  41788254   A   G -1.40\n",
       "6    rs2353023  chr17  41788404   G   A -1.40\n",
       "7    rs9910080  chr17  41793356   C   T -1.40\n",
       "8    rs7216371  chr17  41787669   C   T -1.40\n",
       "9   rs11079013  chr17  41790954   C   A -1.40\n",
       "10   rs9903086  chr17  41793264   T   C -1.40\n",
       "11   rs1030826  chr17  41793798   G   A -1.40\n",
       "12   rs4796703  chr17  41794422   G   A -1.40\n",
       "13   rs4399580  chr17  41794723   C   T -1.40\n",
       "14   rs6503664  chr17  41795329   G   C -1.40\n",
       "15   rs6503665  chr17  41797287   C   G -1.40\n",
       "16  rs12948617  chr17  41798395   T   G -1.10\n",
       "17   rs1065029  chr17  41802937   G   C -1.00\n",
       "18   rs1061843  chr17  41802092   C   T -1.00\n",
       "19   rs4796610  chr17  41806036   T   C -1.00\n",
       "20   rs6503666  chr17  41798039   A   G -0.76\n",
       "21  rs11654169  chr17  41798133   C   T -0.74\n",
       "22   rs8072866  chr17  41821610   T   C -0.80\n",
       "23  rs11651225  chr17  41836407   G   A -0.80\n",
       "24   rs4313853  chr17  41823825   G   T -0.79\n",
       "25   rs7212675  chr17  41824389   G   C -0.79\n",
       "26   rs1436441  chr17  41824996   G   A -0.79\n",
       "27   rs4796712  chr17  41830878   C   T -0.78"
      ]
     },
     "execution_count": 75,
     "metadata": {},
     "output_type": "execute_result"
    }
   ],
   "source": [
    "df_variant "
   ]
  },
  {
   "cell_type": "code",
   "execution_count": 76,
   "id": "d6f0d1eb",
   "metadata": {
    "scrolled": true
   },
   "outputs": [
    {
     "data": {
      "text/plain": [
       "[-0.013768365606665611,\n",
       " -0.004397064447402954,\n",
       " -0.006518707610666752,\n",
       " 0.0005869276938028634,\n",
       " -0.0007529262802563608,\n",
       " -0.002452532760798931,\n",
       " 7.409974932670593e-05,\n",
       " -1.5980331897735596,\n",
       " -0.0010287571931257844,\n",
       " -0.0024588408414274454,\n",
       " -1.402762770652771,\n",
       " -0.00333605520427227,\n",
       " -0.007786383852362633,\n",
       " -0.0004884158261120319,\n",
       " -0.00267037283629179,\n",
       " -0.0013485291274264455,\n",
       " -0.00511583499610424,\n",
       " -0.000894145923666656,\n",
       " -0.000359393801772967,\n",
       " 0.002942632418125868,\n",
       " -0.0007390542887151241,\n",
       " 0.008877027779817581,\n",
       " 0.0023442620877176523,\n",
       " 0.0008831052109599113,\n",
       " 0.0013671396300196648,\n",
       " -0.0011864651460200548,\n",
       " -0.0004530324076768011,\n",
       " 0.0009232429438270628]"
      ]
     },
     "execution_count": 76,
     "metadata": {},
     "output_type": "execute_result"
    }
   ],
   "source": [
    "test['effect_size'] #7,10"
   ]
  },
  {
   "cell_type": "code",
   "execution_count": 77,
   "id": "13b4dd64",
   "metadata": {},
   "outputs": [
    {
     "data": {
      "text/plain": [
       "snpid    rs9910080\n",
       "chrom        chr17\n",
       "pos       41793356\n",
       "alt              C\n",
       "ref              T\n",
       "nes           -1.4\n",
       "Name: 7, dtype: object"
      ]
     },
     "execution_count": 77,
     "metadata": {},
     "output_type": "execute_result"
    }
   ],
   "source": [
    "df_variant.iloc[7]"
   ]
  },
  {
   "cell_type": "code",
   "execution_count": 78,
   "id": "0eebc83a",
   "metadata": {},
   "outputs": [
    {
     "data": {
      "text/plain": [
       "snpid    rs9903086\n",
       "chrom        chr17\n",
       "pos       41793264\n",
       "alt              T\n",
       "ref              C\n",
       "nes           -1.4\n",
       "Name: 10, dtype: object"
      ]
     },
     "execution_count": 78,
     "metadata": {},
     "output_type": "execute_result"
    }
   ],
   "source": [
    "df_variant.iloc[10]"
   ]
  },
  {
   "cell_type": "code",
   "execution_count": null,
   "id": "72652e12",
   "metadata": {},
   "outputs": [],
   "source": []
  },
  {
   "cell_type": "code",
   "execution_count": 77,
   "id": "43338ff6",
   "metadata": {
    "scrolled": true
   },
   "outputs": [
    {
     "data": {
      "text/plain": [
       "0.7142857142857143"
      ]
     },
     "execution_count": 77,
     "metadata": {},
     "output_type": "execute_result"
    }
   ],
   "source": [
    "sum((np.array(test['effect_size']) < 0)*1) / len(test['effect_size'])"
   ]
  },
  {
   "cell_type": "code",
   "execution_count": 78,
   "id": "8dec5dc9",
   "metadata": {},
   "outputs": [],
   "source": [
    "import matplotlib.pyplot as plt"
   ]
  },
  {
   "cell_type": "code",
   "execution_count": 92,
   "id": "5ff9ca87",
   "metadata": {},
   "outputs": [
    {
     "data": {
      "text/plain": [
       "Text(0, 0.5, 'normalized effect size')"
      ]
     },
     "execution_count": 92,
     "metadata": {},
     "output_type": "execute_result"
    },
    {
     "data": {
      "image/png": "[encoded data removed]",
      "text/plain": [
       "<Figure size 640x480 with 1 Axes>"
      ]
     },
     "metadata": {},
     "output_type": "display_data"
    }
   ],
   "source": [
    "plt.plot(test['effect_size'], df_variant['nes'], 'or')\n",
    "plt.xlabel('predicted effect size')\n",
    "plt.ylabel('normalized effect size')"
   ]
  },
  {
   "cell_type": "code",
   "execution_count": 79,
   "id": "83948451",
   "metadata": {},
   "outputs": [],
   "source": [
    "a = 1"
   ]
  },
  {
   "cell_type": "code",
   "execution_count": null,
   "id": "77a8aea4",
   "metadata": {},
   "outputs": [],
   "source": []
  },
  {
   "cell_type": "code",
   "execution_count": 80,
   "id": "a11ad76f",
   "metadata": {
    "scrolled": true
   },
   "outputs": [
    {
     "name": "stdout",
     "output_type": "stream",
     "text": [
      "making dataset\n"
     ]
    },
    {
     "name": "stderr",
     "output_type": "stream",
     "text": [
      "/home/tl688/.conda/envs/evo/lib/python3.11/site-packages/torch/utils/data/dataloader.py:558: UserWarning: This DataLoader will create 8 worker processes in total. Our suggested max number of worker in current system is 1, which is smaller than what this DataLoader is going to create. Please be aware that excessive worker creation might get DataLoader running slow or even freeze, lower the worker number to avoid potential slowness/freeze if necessary.\n",
      "  warnings.warn(_create_warning_msg(\n",
      "/home/tl688/.conda/envs/evo/lib/python3.11/site-packages/lightning_fabric/plugins/environments/slurm.py:165: The `srun` command is available on your system but is not used. HINT: If your intention is to run Lightning on SLURM, prepend your python command with `srun` like so: srun python /home/tl688/.conda/envs/evo/lib/python3.11/site-pack ...\n",
      "GPU available: True (cuda), used: True\n",
      "TPU available: False, using: 0 TPU cores\n",
      "IPU available: False, using: 0 IPUs\n",
      "HPU available: False, using: 0 HPUs\n",
      "LOCAL_RANK: 0 - CUDA_VISIBLE_DEVICES: [0]\n"
     ]
    },
    {
     "data": {
      "application/vnd.jupyter.widget-view+json": {
       "model_id": "ef0cff987b0a4636a72a86b16986182d",
       "version_major": 2,
       "version_minor": 0
      },
      "text/plain": [
       "Predicting: 0it [00:00, ?it/s]"
      ]
     },
     "metadata": {},
     "output_type": "display_data"
    },
    {
     "name": "stderr",
     "output_type": "stream",
     "text": [
      "/home/tl688/.conda/envs/evo/lib/python3.11/site-packages/anndata/_core/aligned_df.py:67: ImplicitModificationWarning: Transforming to str index.\n",
      "  warnings.warn(\"Transforming to str index.\", ImplicitModificationWarning)\n"
     ]
    }
   ],
   "source": [
    "import grelu.variant\n",
    "\n",
    "odds = grelu.variant.predict_variant_effects(\n",
    "    variants=df_variant,\n",
    "    model=model, \n",
    "    devices=0, # Run on GPU 0\n",
    "    num_workers=8,\n",
    "    batch_size=8,\n",
    "    genome=\"hg38\",\n",
    "    compare_func=\"log2FC\", # Return the log2 fold change between alt and ref predictions\n",
    "    return_ad=True, # Return an anndata object.\n",
    "    rc = True, # Reverse complement the ref/alt predictions and average them.\n",
    ")"
   ]
  },
  {
   "cell_type": "code",
   "execution_count": 81,
   "id": "ebc0d5af",
   "metadata": {},
   "outputs": [],
   "source": [
    "# Calculate the mean variant effect across all cell types\n",
    "mean_variant_effect = odds.X.mean(1) "
   ]
  },
  {
   "cell_type": "code",
   "execution_count": 82,
   "id": "04c42101",
   "metadata": {
    "scrolled": true
   },
   "outputs": [
    {
     "data": {
      "text/plain": [
       "0.7142857142857143"
      ]
     },
     "execution_count": 82,
     "metadata": {},
     "output_type": "execute_result"
    }
   ],
   "source": [
    "sum((mean_variant_effect<0)*1) / len(mean_variant_effect)"
   ]
  },
  {
   "cell_type": "code",
   "execution_count": 82,
   "id": "6a4cfaf6",
   "metadata": {},
   "outputs": [
    {
     "data": {
      "text/plain": [
       "Text(0, 0.5, 'mean variant effect')"
      ]
     },
     "execution_count": 82,
     "metadata": {},
     "output_type": "execute_result"
    },
    {
     "data": {
      "image/png": "[encoded data removed]",
      "text/plain": [
       "<Figure size 640x480 with 1 Axes>"
      ]
     },
     "metadata": {},
     "output_type": "display_data"
    }
   ],
   "source": [
    "plt.plot(mean_variant_effect, 'bo')\n",
    "plt.xlabel('variant index')\n",
    "plt.ylabel('mean variant effect')"
   ]
  },
  {
   "cell_type": "code",
   "execution_count": null,
   "id": "37e0677c",
   "metadata": {},
   "outputs": [],
   "source": []
  },
  {
   "cell_type": "code",
   "execution_count": null,
   "id": "700ddd31",
   "metadata": {},
   "outputs": [],
   "source": []
  },
  {
   "cell_type": "code",
   "execution_count": 83,
   "id": "b5be5450",
   "metadata": {},
   "outputs": [
    {
     "data": {
      "text/html": [
       "<div>\n",
       "<style scoped>\n",
       "    .dataframe tbody tr th:only-of-type {\n",
       "        vertical-align: middle;\n",
       "    }\n",
       "\n",
       "    .dataframe tbody tr th {\n",
       "        vertical-align: top;\n",
       "    }\n",
       "\n",
       "    .dataframe thead th {\n",
       "        text-align: right;\n",
       "    }\n",
       "</style>\n",
       "<table border=\"1\" class=\"dataframe\">\n",
       "  <thead>\n",
       "    <tr style=\"text-align: right;\">\n",
       "      <th></th>\n",
       "    </tr>\n",
       "    <tr>\n",
       "      <th>name</th>\n",
       "    </tr>\n",
       "  </thead>\n",
       "  <tbody>\n",
       "    <tr>\n",
       "      <th>pred</th>\n",
       "    </tr>\n",
       "  </tbody>\n",
       "</table>\n",
       "</div>"
      ],
      "text/plain": [
       "Empty DataFrame\n",
       "Columns: []\n",
       "Index: [pred]"
      ]
     },
     "execution_count": 83,
     "metadata": {},
     "output_type": "execute_result"
    }
   ],
   "source": [
    "odds.var"
   ]
  },
  {
   "cell_type": "code",
   "execution_count": 84,
   "id": "b2b8aa55",
   "metadata": {},
   "outputs": [],
   "source": [
    "# Calculate the variant effect only in microglia\n",
    "microglia_effect = odds[:, 'pred'].X.squeeze() "
   ]
  },
  {
   "cell_type": "code",
   "execution_count": 85,
   "id": "67e71f83",
   "metadata": {},
   "outputs": [],
   "source": [
    "# specific_variant_idx = np.where(\n",
    "#     (microglia_effect < -2) & (mean_variant_effect >= 0) \n",
    "# )[0]\n",
    "# specific_variant_idx"
   ]
  },
  {
   "cell_type": "code",
   "execution_count": 86,
   "id": "4a85de35",
   "metadata": {},
   "outputs": [],
   "source": [
    "from grelu.transforms.prediction_transforms import Aggregate\n",
    "microglia_score = Aggregate(tasks=[\"pred\"], model=model)"
   ]
  },
  {
   "cell_type": "code",
   "execution_count": 87,
   "id": "e305464e",
   "metadata": {},
   "outputs": [
    {
     "data": {
      "text/plain": [
       "28"
      ]
     },
     "execution_count": 87,
     "metadata": {},
     "output_type": "execute_result"
    }
   ],
   "source": [
    "len(microglia_effect)"
   ]
  },
  {
   "cell_type": "code",
   "execution_count": 88,
   "id": "60782473",
   "metadata": {},
   "outputs": [],
   "source": [
    "variant = odds.copy()"
   ]
  },
  {
   "cell_type": "code",
   "execution_count": 89,
   "id": "ca3c0198",
   "metadata": {},
   "outputs": [],
   "source": [
    "ref_seq, alt_seq = grelu.variant.variant_to_seqs(\n",
    "    seq_len=model.data_params['train_seq_len'],\n",
    "    genome='hg38',\n",
    "    **variant.obs.iloc[10][[\"chrom\", \"pos\", \"ref\", \"alt\"]]\n",
    ")\n",
    "\n",
    "# ref_seq, alt_seq"
   ]
  },
  {
   "cell_type": "code",
   "execution_count": 90,
   "id": "9b393b16",
   "metadata": {},
   "outputs": [
    {
     "name": "stderr",
     "output_type": "stream",
     "text": [
      "/home/tl688/.conda/envs/evo/lib/python3.11/site-packages/captum/_utils/gradient.py:57: UserWarning: Input Tensor 0 did not already require gradients, required_grads has been set automatically.\n",
      "  warnings.warn(\n"
     ]
    }
   ],
   "source": [
    "import grelu.interpret.score\n",
    "\n",
    "ref_attrs = grelu.interpret.score.get_attributions(\n",
    "    model, ref_seq, prediction_transform=microglia_score, device=0,\n",
    "    seed=0, method=\"inputxgradient\",\n",
    ")\n",
    "\n",
    "alt_attrs = grelu.interpret.score.get_attributions(\n",
    "    model, alt_seq, prediction_transform=microglia_score, device=0,\n",
    "    seed=0, method=\"inputxgradient\",\n",
    ")"
   ]
  },
  {
   "cell_type": "code",
   "execution_count": 91,
   "id": "369ef49b",
   "metadata": {},
   "outputs": [
    {
     "data": {
      "text/plain": [
       "(1, 4, 49000)"
      ]
     },
     "execution_count": 91,
     "metadata": {},
     "output_type": "execute_result"
    }
   ],
   "source": [
    "ref_attrs.shape"
   ]
  },
  {
   "cell_type": "code",
   "execution_count": 92,
   "id": "f8efa6ba",
   "metadata": {},
   "outputs": [
    {
     "data": {
      "text/plain": [
       "(1, 4, 49000)"
      ]
     },
     "execution_count": 92,
     "metadata": {},
     "output_type": "execute_result"
    }
   ],
   "source": [
    "alt_attrs.shape"
   ]
  },
  {
   "cell_type": "code",
   "execution_count": 93,
   "id": "662623ef",
   "metadata": {},
   "outputs": [
    {
     "data": {
      "text/plain": [
       "<logomaker.src.Logo.Logo at 0x1472c9913690>"
      ]
     },
     "execution_count": 93,
     "metadata": {},
     "output_type": "execute_result"
    },
    {
     "data": {
      "image/png": "[encoded data removed]",
      "text/plain": [
       "<Figure size 2000x200 with 1 Axes>"
      ]
     },
     "metadata": {},
     "output_type": "display_data"
    }
   ],
   "source": [
    "import grelu.visualize\n",
    "grelu.visualize.plot_attributions(\n",
    "    ref_attrs, start_pos=49000//2-50, end_pos=49000//2+50,\n",
    "    highlight_positions=[49000//2-1], ticks=5,\n",
    "    edgecolor='red'\n",
    ")"
   ]
  },
  {
   "cell_type": "code",
   "execution_count": 94,
   "id": "ec5021a9",
   "metadata": {},
   "outputs": [
    {
     "data": {
      "text/plain": [
       "<logomaker.src.Logo.Logo at 0x1472c969b690>"
      ]
     },
     "execution_count": 94,
     "metadata": {},
     "output_type": "execute_result"
    },
    {
     "data": {
      "image/png": "[encoded data removed]",
      "text/plain": [
       "<Figure size 2000x200 with 1 Axes>"
      ]
     },
     "metadata": {},
     "output_type": "display_data"
    }
   ],
   "source": [
    "import grelu.visualize\n",
    "grelu.visualize.plot_attributions(\n",
    "    alt_attrs, start_pos=49000//2-50, end_pos=49000//2+50,\n",
    "    highlight_positions=[49000//2-1], ticks=5,\n",
    "    edgecolor='red'\n",
    ")"
   ]
  },
  {
   "cell_type": "code",
   "execution_count": 95,
   "id": "b127256d",
   "metadata": {},
   "outputs": [],
   "source": [
    "import grelu.interpret.score"
   ]
  },
  {
   "cell_type": "code",
   "execution_count": 96,
   "id": "66f2520b",
   "metadata": {},
   "outputs": [
    {
     "name": "stderr",
     "output_type": "stream",
     "text": [
      "/home/tl688/.conda/envs/evo/lib/python3.11/site-packages/torch/utils/data/dataloader.py:558: UserWarning: This DataLoader will create 8 worker processes in total. Our suggested max number of worker in current system is 1, which is smaller than what this DataLoader is going to create. Please be aware that excessive worker creation might get DataLoader running slow or even freeze, lower the worker number to avoid potential slowness/freeze if necessary.\n",
      "/home/tl688/.conda/envs/evo/lib/python3.11/site-packages/lightning_fabric/plugins/environments/slurm.py:165: PossibleUserWarning: The `srun` command is available on your system but is not used. HINT: If your intention is to run Lightning on SLURM, prepend your python command with `srun` like so: srun python /home/tl688/.conda/envs/evo/lib/python3.11/site-pack ...\n",
      "GPU available: True (cuda), used: True\n",
      "TPU available: False, using: 0 TPU cores\n",
      "IPU available: False, using: 0 IPUs\n",
      "HPU available: False, using: 0 HPUs\n",
      "LOCAL_RANK: 0 - CUDA_VISIBLE_DEVICES: [0]\n"
     ]
    },
    {
     "data": {
      "application/vnd.jupyter.widget-view+json": {
       "model_id": "38d78115715248c6b41318f217e382e6",
       "version_major": 2,
       "version_minor": 0
      },
      "text/plain": [
       "Predicting: 0it [00:00, ?it/s]"
      ]
     },
     "metadata": {},
     "output_type": "display_data"
    },
    {
     "name": "stderr",
     "output_type": "stream",
     "text": [
      "/home/tl688/.conda/envs/evo/lib/python3.11/site-packages/grelu/utils.py:25: RuntimeWarning: invalid value encountered in log2\n"
     ]
    }
   ],
   "source": [
    "ism = grelu.interpret.score.ISM_predict(\n",
    "    ref_seq,\n",
    "    model,\n",
    "    prediction_transform=microglia_score, # Focus on the prediction in microglia\n",
    "    compare_func = \"log2FC\", # Return the log2FC of the mutated sequence prediction w.r.t the reference sequence\n",
    "    devices=0, # Index of the GPU to use\n",
    "    num_workers=8,\n",
    "    batch_size=8\n",
    ")"
   ]
  },
  {
   "cell_type": "code",
   "execution_count": 97,
   "id": "ca76644d",
   "metadata": {},
   "outputs": [],
   "source": [
    "import grelu.visualize"
   ]
  },
  {
   "cell_type": "code",
   "execution_count": 98,
   "id": "92c31b82",
   "metadata": {},
   "outputs": [
    {
     "data": {
      "text/plain": [
       "<logomaker.src.Logo.Logo at 0x1472c90b7b10>"
      ]
     },
     "execution_count": 98,
     "metadata": {},
     "output_type": "execute_result"
    },
    {
     "data": {
      "image/png": "[encoded data removed]",
      "text/plain": [
       "<Figure size 2000x150 with 1 Axes>"
      ]
     },
     "metadata": {},
     "output_type": "display_data"
    }
   ],
   "source": [
    "grelu.visualize.plot_ISM(\n",
    "    ism, method='logo', figsize=(20, 1.5), start_pos=49000//2-50, end_pos=49000//2+50,\n",
    "    highlight_positions=[49], edgecolor='red'\n",
    ")"
   ]
  },
  {
   "cell_type": "code",
   "execution_count": 99,
   "id": "6355487c",
   "metadata": {},
   "outputs": [],
   "source": [
    "# ref_seq[49000//2-2:49000//2+2]"
   ]
  },
  {
   "cell_type": "code",
   "execution_count": 100,
   "id": "bf4c7f7c",
   "metadata": {},
   "outputs": [
    {
     "data": {
      "text/plain": [
       "<Axes: >"
      ]
     },
     "execution_count": 100,
     "metadata": {},
     "output_type": "execute_result"
    },
    {
     "data": {
      "image/png": "[encoded data removed]",
      "text/plain": [
       "<Figure size 2000x150 with 2 Axes>"
      ]
     },
     "metadata": {},
     "output_type": "display_data"
    }
   ],
   "source": [
    "grelu.visualize.plot_ISM(\n",
    "    ism, method=\"heatmap\", center=0, figsize=(20, 1.5),start_pos=49000//2-15, end_pos=49000//2+15\n",
    ")"
   ]
  },
  {
   "cell_type": "code",
   "execution_count": 102,
   "id": "df6e275c",
   "metadata": {},
   "outputs": [
    {
     "data": {
      "text/plain": [
       "LightningModel(\n",
       "  (model): UKBioBERT_EnformerPretrainedModel(\n",
       "    (embedding): EnformerTrunk(\n",
       "      (conv_tower): EnformerConvTower(\n",
       "        (blocks): ModuleList(\n",
       "          (0): Sequential(\n",
       "            (0): Conv1d(4, 768, kernel_size=(15,), stride=(1,), padding=same)\n",
       "            (1): ConvBlock(\n",
       "              (norm): Norm(\n",
       "                (layer): BatchNorm1d(768, eps=1e-05, momentum=0.1, affine=True, track_running_stats=True)\n",
       "              )\n",
       "              (conv): Conv1d(768, 768, kernel_size=(1,), stride=(1,), padding=same)\n",
       "              (act): Activation(\n",
       "                (layer): GELU()\n",
       "              )\n",
       "              (pool): Pool(\n",
       "                (layer): AttentionPool(\n",
       "                  (pool_fn): Rearrange('b d (n p) -> b d n p', p=2)\n",
       "                  (to_attn_logits): Conv2d(768, 768, kernel_size=(1, 1), stride=(1, 1), bias=False)\n",
       "                )\n",
       "              )\n",
       "              (dropout): Dropout(\n",
       "                (layer): Identity()\n",
       "              )\n",
       "              (channel_transform): ChannelTransform(\n",
       "                (layer): Identity()\n",
       "              )\n",
       "            )\n",
       "          )\n",
       "          (1): Sequential(\n",
       "            (0): ConvBlock(\n",
       "              (norm): Norm(\n",
       "                (layer): BatchNorm1d(768, eps=1e-05, momentum=0.1, affine=True, track_running_stats=True)\n",
       "              )\n",
       "              (conv): Conv1d(768, 768, kernel_size=(5,), stride=(1,), padding=same)\n",
       "              (act): Activation(\n",
       "                (layer): GELU()\n",
       "              )\n",
       "              (pool): Pool(\n",
       "                (layer): Identity()\n",
       "              )\n",
       "              (dropout): Dropout(\n",
       "                (layer): Identity()\n",
       "              )\n",
       "            )\n",
       "            (1): ConvBlock(\n",
       "              (norm): Norm(\n",
       "                (layer): BatchNorm1d(768, eps=1e-05, momentum=0.1, affine=True, track_running_stats=True)\n",
       "              )\n",
       "              (conv): Conv1d(768, 768, kernel_size=(1,), stride=(1,), padding=same)\n",
       "              (act): Activation(\n",
       "                (layer): GELU()\n",
       "              )\n",
       "              (pool): Pool(\n",
       "                (layer): AttentionPool(\n",
       "                  (pool_fn): Rearrange('b d (n p) -> b d n p', p=2)\n",
       "                  (to_attn_logits): Conv2d(768, 768, kernel_size=(1, 1), stride=(1, 1), bias=False)\n",
       "                )\n",
       "              )\n",
       "              (dropout): Dropout(\n",
       "                (layer): Identity()\n",
       "              )\n",
       "              (channel_transform): ChannelTransform(\n",
       "                (layer): Identity()\n",
       "              )\n",
       "            )\n",
       "          )\n",
       "          (2): Sequential(\n",
       "            (0): ConvBlock(\n",
       "              (norm): Norm(\n",
       "                (layer): BatchNorm1d(768, eps=1e-05, momentum=0.1, affine=True, track_running_stats=True)\n",
       "              )\n",
       "              (conv): Conv1d(768, 896, kernel_size=(5,), stride=(1,), padding=same)\n",
       "              (act): Activation(\n",
       "                (layer): GELU()\n",
       "              )\n",
       "              (pool): Pool(\n",
       "                (layer): Identity()\n",
       "              )\n",
       "              (dropout): Dropout(\n",
       "                (layer): Identity()\n",
       "              )\n",
       "            )\n",
       "            (1): ConvBlock(\n",
       "              (norm): Norm(\n",
       "                (layer): BatchNorm1d(896, eps=1e-05, momentum=0.1, affine=True, track_running_stats=True)\n",
       "              )\n",
       "              (conv): Conv1d(896, 896, kernel_size=(1,), stride=(1,), padding=same)\n",
       "              (act): Activation(\n",
       "                (layer): GELU()\n",
       "              )\n",
       "              (pool): Pool(\n",
       "                (layer): AttentionPool(\n",
       "                  (pool_fn): Rearrange('b d (n p) -> b d n p', p=2)\n",
       "                  (to_attn_logits): Conv2d(896, 896, kernel_size=(1, 1), stride=(1, 1), bias=False)\n",
       "                )\n",
       "              )\n",
       "              (dropout): Dropout(\n",
       "                (layer): Identity()\n",
       "              )\n",
       "              (channel_transform): ChannelTransform(\n",
       "                (layer): Identity()\n",
       "              )\n",
       "            )\n",
       "          )\n",
       "          (3): Sequential(\n",
       "            (0): ConvBlock(\n",
       "              (norm): Norm(\n",
       "                (layer): BatchNorm1d(896, eps=1e-05, momentum=0.1, affine=True, track_running_stats=True)\n",
       "              )\n",
       "              (conv): Conv1d(896, 1024, kernel_size=(5,), stride=(1,), padding=same)\n",
       "              (act): Activation(\n",
       "                (layer): GELU()\n",
       "              )\n",
       "              (pool): Pool(\n",
       "                (layer): Identity()\n",
       "              )\n",
       "              (dropout): Dropout(\n",
       "                (layer): Identity()\n",
       "              )\n",
       "            )\n",
       "            (1): ConvBlock(\n",
       "              (norm): Norm(\n",
       "                (layer): BatchNorm1d(1024, eps=1e-05, momentum=0.1, affine=True, track_running_stats=True)\n",
       "              )\n",
       "              (conv): Conv1d(1024, 1024, kernel_size=(1,), stride=(1,), padding=same)\n",
       "              (act): Activation(\n",
       "                (layer): GELU()\n",
       "              )\n",
       "              (pool): Pool(\n",
       "                (layer): AttentionPool(\n",
       "                  (pool_fn): Rearrange('b d (n p) -> b d n p', p=2)\n",
       "                  (to_attn_logits): Conv2d(1024, 1024, kernel_size=(1, 1), stride=(1, 1), bias=False)\n",
       "                )\n",
       "              )\n",
       "              (dropout): Dropout(\n",
       "                (layer): Identity()\n",
       "              )\n",
       "              (channel_transform): ChannelTransform(\n",
       "                (layer): Identity()\n",
       "              )\n",
       "            )\n",
       "          )\n",
       "          (4): Sequential(\n",
       "            (0): ConvBlock(\n",
       "              (norm): Norm(\n",
       "                (layer): BatchNorm1d(1024, eps=1e-05, momentum=0.1, affine=True, track_running_stats=True)\n",
       "              )\n",
       "              (conv): Conv1d(1024, 1152, kernel_size=(5,), stride=(1,), padding=same)\n",
       "              (act): Activation(\n",
       "                (layer): GELU()\n",
       "              )\n",
       "              (pool): Pool(\n",
       "                (layer): Identity()\n",
       "              )\n",
       "              (dropout): Dropout(\n",
       "                (layer): Identity()\n",
       "              )\n",
       "            )\n",
       "            (1): ConvBlock(\n",
       "              (norm): Norm(\n",
       "                (layer): BatchNorm1d(1152, eps=1e-05, momentum=0.1, affine=True, track_running_stats=True)\n",
       "              )\n",
       "              (conv): Conv1d(1152, 1152, kernel_size=(1,), stride=(1,), padding=same)\n",
       "              (act): Activation(\n",
       "                (layer): GELU()\n",
       "              )\n",
       "              (pool): Pool(\n",
       "                (layer): AttentionPool(\n",
       "                  (pool_fn): Rearrange('b d (n p) -> b d n p', p=2)\n",
       "                  (to_attn_logits): Conv2d(1152, 1152, kernel_size=(1, 1), stride=(1, 1), bias=False)\n",
       "                )\n",
       "              )\n",
       "              (dropout): Dropout(\n",
       "                (layer): Identity()\n",
       "              )\n",
       "              (channel_transform): ChannelTransform(\n",
       "                (layer): Identity()\n",
       "              )\n",
       "            )\n",
       "          )\n",
       "          (5): Sequential(\n",
       "            (0): ConvBlock(\n",
       "              (norm): Norm(\n",
       "                (layer): BatchNorm1d(1152, eps=1e-05, momentum=0.1, affine=True, track_running_stats=True)\n",
       "              )\n",
       "              (conv): Conv1d(1152, 1280, kernel_size=(5,), stride=(1,), padding=same)\n",
       "              (act): Activation(\n",
       "                (layer): GELU()\n",
       "              )\n",
       "              (pool): Pool(\n",
       "                (layer): Identity()\n",
       "              )\n",
       "              (dropout): Dropout(\n",
       "                (layer): Identity()\n",
       "              )\n",
       "            )\n",
       "            (1): ConvBlock(\n",
       "              (norm): Norm(\n",
       "                (layer): BatchNorm1d(1280, eps=1e-05, momentum=0.1, affine=True, track_running_stats=True)\n",
       "              )\n",
       "              (conv): Conv1d(1280, 1280, kernel_size=(1,), stride=(1,), padding=same)\n",
       "              (act): Activation(\n",
       "                (layer): GELU()\n",
       "              )\n",
       "              (pool): Pool(\n",
       "                (layer): AttentionPool(\n",
       "                  (pool_fn): Rearrange('b d (n p) -> b d n p', p=2)\n",
       "                  (to_attn_logits): Conv2d(1280, 1280, kernel_size=(1, 1), stride=(1, 1), bias=False)\n",
       "                )\n",
       "              )\n",
       "              (dropout): Dropout(\n",
       "                (layer): Identity()\n",
       "              )\n",
       "              (channel_transform): ChannelTransform(\n",
       "                (layer): Identity()\n",
       "              )\n",
       "            )\n",
       "          )\n",
       "          (6): Sequential(\n",
       "            (0): ConvBlock(\n",
       "              (norm): Norm(\n",
       "                (layer): BatchNorm1d(1280, eps=1e-05, momentum=0.1, affine=True, track_running_stats=True)\n",
       "              )\n",
       "              (conv): Conv1d(1280, 1536, kernel_size=(5,), stride=(1,), padding=same)\n",
       "              (act): Activation(\n",
       "                (layer): GELU()\n",
       "              )\n",
       "              (pool): Pool(\n",
       "                (layer): Identity()\n",
       "              )\n",
       "              (dropout): Dropout(\n",
       "                (layer): Identity()\n",
       "              )\n",
       "            )\n",
       "            (1): ConvBlock(\n",
       "              (norm): Norm(\n",
       "                (layer): BatchNorm1d(1536, eps=1e-05, momentum=0.1, affine=True, track_running_stats=True)\n",
       "              )\n",
       "              (conv): Conv1d(1536, 1536, kernel_size=(1,), stride=(1,), padding=same)\n",
       "              (act): Activation(\n",
       "                (layer): GELU()\n",
       "              )\n",
       "              (pool): Pool(\n",
       "                (layer): AttentionPool(\n",
       "                  (pool_fn): Rearrange('b d (n p) -> b d n p', p=2)\n",
       "                  (to_attn_logits): Conv2d(1536, 1536, kernel_size=(1, 1), stride=(1, 1), bias=False)\n",
       "                )\n",
       "              )\n",
       "              (dropout): Dropout(\n",
       "                (layer): Identity()\n",
       "              )\n",
       "              (channel_transform): ChannelTransform(\n",
       "                (layer): Identity()\n",
       "              )\n",
       "            )\n",
       "          )\n",
       "        )\n",
       "      )\n",
       "      (transformer_tower): EnformerTransformerTower(\n",
       "        (blocks): ModuleList(\n",
       "          (0): EnformerTransformerBlock(\n",
       "            (norm): Norm(\n",
       "              (layer): LayerNorm((1536,), eps=1e-05, elementwise_affine=True)\n",
       "            )\n",
       "            (mha): Attention(\n",
       "              (to_q): Linear(in_features=1536, out_features=512, bias=False)\n",
       "              (to_k): Linear(in_features=1536, out_features=512, bias=False)\n",
       "              (to_v): Linear(in_features=1536, out_features=1536, bias=False)\n",
       "              (to_out): Linear(in_features=1536, out_features=1536, bias=True)\n",
       "              (to_rel_k): Linear(in_features=192, out_features=512, bias=False)\n",
       "              (pos_dropout): Dropout(p=0.01, inplace=False)\n",
       "              (attn_dropout): Dropout(p=0.05, inplace=False)\n",
       "            )\n",
       "            (dropout): Dropout(\n",
       "              (layer): Dropout(p=0.4, inplace=False)\n",
       "            )\n",
       "            (ffn): FeedForwardBlock(\n",
       "              (dense1): LinearBlock(\n",
       "                (norm): Norm(\n",
       "                  (layer): LayerNorm((1536,), eps=1e-05, elementwise_affine=True)\n",
       "                )\n",
       "                (linear): Linear(in_features=1536, out_features=3072, bias=True)\n",
       "                (dropout): Dropout(\n",
       "                  (layer): Dropout(p=0.4, inplace=False)\n",
       "                )\n",
       "                (act): Activation(\n",
       "                  (layer): ReLU()\n",
       "                )\n",
       "              )\n",
       "              (dense2): LinearBlock(\n",
       "                (norm): Norm(\n",
       "                  (layer): Identity()\n",
       "                )\n",
       "                (linear): Linear(in_features=3072, out_features=1536, bias=True)\n",
       "                (dropout): Dropout(\n",
       "                  (layer): Dropout(p=0.4, inplace=False)\n",
       "                )\n",
       "                (act): Activation(\n",
       "                  (layer): Identity()\n",
       "                )\n",
       "              )\n",
       "            )\n",
       "          )\n",
       "        )\n",
       "      )\n",
       "      (pointwise_conv): ConvBlock(\n",
       "        (norm): Norm(\n",
       "          (layer): BatchNorm1d(1536, eps=1e-05, momentum=0.1, affine=True, track_running_stats=True)\n",
       "        )\n",
       "        (conv): Conv1d(1536, 3072, kernel_size=(1,), stride=(1,), padding=same)\n",
       "        (act): Activation(\n",
       "          (layer): GELU()\n",
       "        )\n",
       "        (pool): Pool(\n",
       "          (layer): Identity()\n",
       "        )\n",
       "        (dropout): Dropout(\n",
       "          (layer): Identity()\n",
       "        )\n",
       "      )\n",
       "      (act): Activation(\n",
       "        (layer): GELU()\n",
       "      )\n",
       "      (crop): Crop(\n",
       "        (layer): Identity()\n",
       "      )\n",
       "    )\n",
       "    (head): ConvHead(\n",
       "      (channel_transform): ChannelTransformBlock(\n",
       "        (norm): Norm(\n",
       "          (layer): Identity()\n",
       "        )\n",
       "        (conv): ChannelTransform(\n",
       "          (layer): Conv1d(3072, 1, kernel_size=(1,), stride=(1,), padding=same)\n",
       "        )\n",
       "        (act): Activation(\n",
       "          (layer): Identity()\n",
       "        )\n",
       "        (dropout): Dropout(\n",
       "          (layer): Identity()\n",
       "        )\n",
       "      )\n",
       "      (pool): AdaptivePool(\n",
       "        (layer): AdaptiveAvgPool1d(output_size=1)\n",
       "      )\n",
       "    )\n",
       "    (mlp): Sequential(\n",
       "      (0): Linear(in_features=1536, out_features=512, bias=True)\n",
       "      (1): ReLU()\n",
       "      (2): Linear(in_features=512, out_features=1, bias=True)\n",
       "    )\n",
       "  )\n",
       "  (loss): MSELoss()\n",
       "  (activation): Identity()\n",
       "  (val_metrics): MetricCollection(\n",
       "    (mse): MSE()\n",
       "    (pearson): PearsonCorrCoef(\n",
       "      (pearson): PearsonCorrCoef()\n",
       "    ),\n",
       "    prefix=val_\n",
       "  )\n",
       "  (test_metrics): MetricCollection(\n",
       "    (mse): MSE()\n",
       "    (pearson): PearsonCorrCoef(\n",
       "      (pearson): PearsonCorrCoef()\n",
       "    ),\n",
       "    prefix=test_\n",
       "  )\n",
       "  (transform): Identity()\n",
       ")"
      ]
     },
     "execution_count": 102,
     "metadata": {},
     "output_type": "execute_result"
    }
   ],
   "source": [
    "model"
   ]
  },
  {
   "cell_type": "code",
   "execution_count": null,
   "id": "4184c5ef",
   "metadata": {},
   "outputs": [],
   "source": []
  },
  {
   "cell_type": "code",
   "execution_count": 131,
   "id": "647a6ced",
   "metadata": {},
   "outputs": [],
   "source": [
    "import math\n",
    "from pathlib import Path\n",
    "\n",
    "import torch\n",
    "from torch import nn, einsum\n",
    "import torch.nn.functional as F\n",
    "import torch.distributed as dist\n",
    "from torch.utils.checkpoint import checkpoint_sequential\n",
    "\n",
    "from einops import rearrange, reduce\n",
    "from einops.layers.torch import Rearrange\n",
    "\n",
    "from enformer_pytorch.data import str_to_one_hot, seq_indices_to_one_hot\n",
    "\n",
    "from enformer_pytorch.config_enformer import EnformerConfig\n",
    "\n",
    "from transformers import PreTrainedModel\n",
    "\n",
    "# constants\n",
    "\n",
    "SEQUENCE_LENGTH = 196_608\n",
    "TARGET_LENGTH = 896\n",
    "\n",
    "# helpers\n",
    "\n",
    "def exists(val):\n",
    "    return val is not None\n",
    "\n",
    "def default(val, d):\n",
    "    return val if exists(val) else d\n",
    "\n",
    "def always(val):\n",
    "    def inner(*args, **kwargs):\n",
    "        return val\n",
    "    return inner\n",
    "\n",
    "def map_values(fn, d):\n",
    "    return {key: fn(values) for key, values in d.items()}\n",
    "\n",
    "def exponential_linspace_int(start, end, num, divisible_by = 1):\n",
    "    def _round(x):\n",
    "        return int(round(x / divisible_by) * divisible_by)\n",
    "\n",
    "    base = math.exp(math.log(end / start) / (num - 1))\n",
    "    return [_round(start * base**i) for i in range(num)]\n",
    "\n",
    "def log(t, eps = 1e-20):\n",
    "    return torch.log(t.clamp(min = eps))\n",
    "\n",
    "# maybe sync batchnorm, for distributed training\n",
    "\n",
    "def MaybeSyncBatchnorm(is_distributed = None):\n",
    "    is_distributed = default(is_distributed, dist.is_initialized() and dist.get_world_size() > 1)\n",
    "    return nn.SyncBatchNorm if is_distributed else nn.BatchNorm1d\n",
    "\n",
    "# losses and metrics\n",
    "\n",
    "def poisson_loss(pred, target):\n",
    "    return (pred - target * log(pred)).mean()\n",
    "\n",
    "def pearson_corr_coef(x, y, dim = 1, reduce_dims = (-1,)):\n",
    "    x_centered = x - x.mean(dim = dim, keepdim = True)\n",
    "    y_centered = y - y.mean(dim = dim, keepdim = True)\n",
    "    return F.cosine_similarity(x_centered, y_centered, dim = dim).mean(dim = reduce_dims)\n",
    "\n",
    "# relative positional encoding functions\n",
    "\n",
    "def get_positional_features_exponential(positions, features, seq_len, min_half_life = 3., dtype = torch.float):\n",
    "    max_range = math.log(seq_len) / math.log(2.)\n",
    "    half_life = 2 ** torch.linspace(min_half_life, max_range, features, device = positions.device)\n",
    "    half_life = half_life[None, ...]\n",
    "    positions = positions.abs()[..., None]\n",
    "    return torch.exp(-math.log(2.) / half_life * positions)\n",
    "\n",
    "def get_positional_features_central_mask(positions, features, seq_len, dtype = torch.float):\n",
    "    center_widths = 2 ** torch.arange(1, features + 1, device = positions.device).to(dtype)\n",
    "    center_widths = center_widths - 1\n",
    "    return (center_widths[None, ...] > positions.abs()[..., None]).to(dtype)\n",
    "\n",
    "def gamma_pdf(x, concentration, rate):\n",
    "    log_unnormalized_prob = torch.xlogy(concentration - 1., x) - rate * x\n",
    "    log_normalization = (torch.lgamma(concentration) - concentration * torch.log(rate))\n",
    "    return torch.exp(log_unnormalized_prob - log_normalization)\n",
    "\n",
    "def get_positional_features_gamma(positions, features, seq_len, stddev = None, start_mean = None, eps = 1e-8, dtype = torch.float):\n",
    "    if not exists(stddev):\n",
    "        stddev = seq_len / (2 * features)\n",
    "\n",
    "    if not exists(start_mean):\n",
    "        start_mean = seq_len / features\n",
    "\n",
    "    mean = torch.linspace(start_mean, seq_len, features, device = positions.device)\n",
    "\n",
    "    mean = mean[None, ...]\n",
    "    concentration = (mean / stddev) ** 2\n",
    "    rate = mean / stddev ** 2\n",
    "\n",
    "    probabilities = gamma_pdf(positions.to(dtype).abs()[..., None], concentration, rate)\n",
    "    probabilities = probabilities + eps\n",
    "    outputs = probabilities / torch.amax(probabilities, dim = -1, keepdim = True)\n",
    "    return outputs\n",
    "\n",
    "def get_positional_embed(seq_len, feature_size, device, use_tf_gamma, dtype = torch.float):\n",
    "    distances = torch.arange(-seq_len + 1, seq_len, device = device)\n",
    "\n",
    "    assert not use_tf_gamma or seq_len == 1536, 'if using tf gamma, only sequence length of 1536 allowed for now'\n",
    "\n",
    "    feature_functions = [\n",
    "        get_positional_features_exponential,\n",
    "        get_positional_features_central_mask,\n",
    "        get_positional_features_gamma if not use_tf_gamma else always(TF_GAMMAS.to(device))\n",
    "    ]\n",
    "\n",
    "    num_components = len(feature_functions) * 2\n",
    "\n",
    "    if (feature_size % num_components) != 0:\n",
    "        raise ValueError(f'feature size is not divisible by number of components ({num_components})')\n",
    "\n",
    "    num_basis_per_class = feature_size // num_components\n",
    "\n",
    "    embeddings = []\n",
    "    for fn in feature_functions:\n",
    "        embeddings.append(fn(distances, num_basis_per_class, seq_len, dtype = dtype))\n",
    "\n",
    "    embeddings = torch.cat(embeddings, dim = -1)\n",
    "    embeddings = torch.cat((embeddings, torch.sign(distances)[..., None] * embeddings), dim = -1)\n",
    "    return embeddings.to(dtype)\n",
    "\n",
    "def relative_shift(x):\n",
    "    to_pad = torch.zeros_like(x[..., :1])\n",
    "    x = torch.cat((to_pad, x), dim = -1)\n",
    "    _, h, t1, t2 = x.shape\n",
    "    x = x.reshape(-1, h, t2, t1)\n",
    "    x = x[:, :, 1:, :]\n",
    "    x = x.reshape(-1, h, t1, t2 - 1)\n",
    "    return x[..., :((t2 + 1) // 2)]\n",
    "\n",
    "def get_attenion(model, x):\n",
    "    print(x.shape)\n",
    "    n, h, device = x.shape[-2], model.heads, x.device\n",
    "\n",
    "    q = model.to_q(x)\n",
    "    k = model.to_k(x)\n",
    "    v = model.to_v(x)\n",
    "\n",
    "    q, k, v = map(lambda t: rearrange(t, 'b n (h d) -> b h n d', h = h), (q, k, v))\n",
    "\n",
    "    q = q * model.scale\n",
    "\n",
    "    content_logits = einsum('b h i d, b h j d -> b h i j', q + model.rel_content_bias, k)\n",
    "\n",
    "    positions = get_positional_embed(n, model.num_rel_pos_features, device, use_tf_gamma = model.use_tf_gamma, dtype = model.to_rel_k.weight.dtype)\n",
    "    positions = model.pos_dropout(positions)\n",
    "    rel_k = model.to_rel_k(positions)\n",
    "\n",
    "    rel_k = rearrange(rel_k, 'n (h d) -> h n d', h = h)\n",
    "    rel_logits = einsum('b h i d, h j d -> b h i j', q + model.rel_pos_bias, rel_k)\n",
    "    rel_logits = relative_shift(rel_logits)\n",
    "\n",
    "    logits = content_logits + rel_logits\n",
    "    attn = logits.softmax(dim = -1)\n",
    "    print(attn.shape)\n",
    "    attn = model.attn_dropout(attn)\n",
    "    print(attn.shape)\n",
    "    return attn"
   ]
  },
  {
   "cell_type": "code",
   "execution_count": null,
   "id": "41f8a305",
   "metadata": {},
   "outputs": [],
   "source": []
  },
  {
   "cell_type": "code",
   "execution_count": 132,
   "id": "6ca79419",
   "metadata": {},
   "outputs": [],
   "source": [
    "import os\n",
    "import warnings\n",
    "from typing import Callable, List, Optional, Union\n",
    "\n",
    "import numpy as np\n",
    "import pandas as pd\n",
    "import torch\n",
    "from captum.attr import DeepLiftShap, InputXGradient, IntegratedGradients\n",
    "from torch import Tensor\n",
    "\n",
    "from grelu.sequence.format import convert_input_type\n",
    "def get_attention_scores_enformer(\n",
    "    model,\n",
    "    seqs,\n",
    "    block_idx,\n",
    "    genome,\n",
    "):\n",
    "    \"\"\"\n",
    "    Get the attention scores from a model's transformer layers, for a given input sequence.\n",
    "\n",
    "    Args:\n",
    "        model: A trained deep learning model\n",
    "        seq: Input sequences as genoic intervals, strings or in index or one-hot encoded format.\n",
    "        block_idx: Index of the transformer layer to use, ranging from 0 to n_transformers-1.\n",
    "            If None, attention scores from all transformer layers will be returned.\n",
    "        genome: Name of the genome to use if genomic intervals are supplied.\n",
    "\n",
    "    Returns:\n",
    "        Numpy array of shape (Layers, Heads, L, L) if block_idx is None or (Heads, L, L) otherwise.\n",
    "    \"\"\"\n",
    "    # One-hot encode the input sequence\n",
    "    x = convert_input_type(seqs, \"one_hot\", genome=genome)\n",
    "    print(x.shape)\n",
    "    if x.ndim == 2:\n",
    "        x = x.unsqueeze(0)\n",
    "\n",
    "    # Pass input through convolutional layers\n",
    "    x = model.model.embedding.conv_tower(x)\n",
    "    if isinstance(x, tuple):\n",
    "        x = x[0]\n",
    "    x = x.swapaxes(1, 2)\n",
    "\n",
    "    if block_idx is None:\n",
    "        # All blocks\n",
    "        attn = []\n",
    "        for block in model.model.embedding.transformer_tower.blocks:\n",
    "            attn.append(get_attenion(block.mha, block.norm(x)))\n",
    "            x = block(x)\n",
    "        attn = torch.stack(attn, axis=1)\n",
    "    else:\n",
    "        # Single block\n",
    "        for block in model.model.embedding.transformer_tower.blocks[:block_idx]:\n",
    "            x = block(x)\n",
    "            print(x)\n",
    "        block = model.model.embedding.transformer_tower.blocks[block_idx]\n",
    "        attn = get_attenion(block.mha, block.norm(x))\n",
    "\n",
    "    return attn.squeeze(0).detach().cpu().numpy()"
   ]
  },
  {
   "cell_type": "code",
   "execution_count": null,
   "id": "9709b593",
   "metadata": {},
   "outputs": [],
   "source": []
  },
  {
   "cell_type": "code",
   "execution_count": null,
   "id": "3e88adfd",
   "metadata": {},
   "outputs": [],
   "source": []
  },
  {
   "cell_type": "code",
   "execution_count": 133,
   "id": "91be77ac",
   "metadata": {
    "scrolled": true
   },
   "outputs": [
    {
     "name": "stdout",
     "output_type": "stream",
     "text": [
      "torch.Size([4, 16])\n",
      "torch.Size([1, 1, 1536])\n",
      "torch.Size([1, 8, 1, 1])\n",
      "torch.Size([1, 8, 1, 1])\n"
     ]
    },
    {
     "data": {
      "text/plain": [
       "(8, 1, 1)"
      ]
     },
     "execution_count": 133,
     "metadata": {},
     "output_type": "execute_result"
    }
   ],
   "source": [
    "import grelu.interpret.score\n",
    "\n",
    "from grelu.model.layers import (\n",
    "    Activation,\n",
    "    Attention,\n",
    "    ChannelTransform,\n",
    "    Crop,\n",
    "    Dropout,\n",
    "    Norm,\n",
    "    Pool,\n",
    ")\n",
    "\n",
    "# attn = grelu.interpret.score.get_attention_scores(\n",
    "#     model=model,\n",
    "#     seqs=ref_seq[49000//2-15:49000//2+15], # You can also supply just the genomic interval\n",
    "#     genome='hg38',\n",
    "#     block_idx=-1, # We take attention weights from the final transformer layer\n",
    "# )\n",
    "\n",
    "# attn.shape\n",
    "\n",
    "attn = get_attention_scores_enformer(\n",
    "    model=model,\n",
    "    seqs='AACCGGTTCGATTAGG', # You can also supply just the genomic interval\n",
    "    genome='hg38',\n",
    "    block_idx=-1, # We take attention weights from the final transformer layer\n",
    ")\n",
    "\n",
    "attn.shape"
   ]
  },
  {
   "cell_type": "code",
   "execution_count": 123,
   "id": "17865748",
   "metadata": {},
   "outputs": [],
   "source": [
    "# attn"
   ]
  },
  {
   "cell_type": "code",
   "execution_count": null,
   "id": "bb2586b7",
   "metadata": {},
   "outputs": [],
   "source": []
  },
  {
   "cell_type": "code",
   "execution_count": 124,
   "id": "95430aff",
   "metadata": {},
   "outputs": [
    {
     "data": {
      "text/plain": [
       "EnformerTransformerTower(\n",
       "  (blocks): ModuleList(\n",
       "    (0): EnformerTransformerBlock(\n",
       "      (norm): Norm(\n",
       "        (layer): LayerNorm((1536,), eps=1e-05, elementwise_affine=True)\n",
       "      )\n",
       "      (mha): Attention(\n",
       "        (to_q): Linear(in_features=1536, out_features=512, bias=False)\n",
       "        (to_k): Linear(in_features=1536, out_features=512, bias=False)\n",
       "        (to_v): Linear(in_features=1536, out_features=1536, bias=False)\n",
       "        (to_out): Linear(in_features=1536, out_features=1536, bias=True)\n",
       "        (to_rel_k): Linear(in_features=192, out_features=512, bias=False)\n",
       "        (pos_dropout): Dropout(p=0.01, inplace=False)\n",
       "        (attn_dropout): Dropout(p=0.05, inplace=False)\n",
       "      )\n",
       "      (dropout): Dropout(\n",
       "        (layer): Dropout(p=0.4, inplace=False)\n",
       "      )\n",
       "      (ffn): FeedForwardBlock(\n",
       "        (dense1): LinearBlock(\n",
       "          (norm): Norm(\n",
       "            (layer): LayerNorm((1536,), eps=1e-05, elementwise_affine=True)\n",
       "          )\n",
       "          (linear): Linear(in_features=1536, out_features=3072, bias=True)\n",
       "          (dropout): Dropout(\n",
       "            (layer): Dropout(p=0.4, inplace=False)\n",
       "          )\n",
       "          (act): Activation(\n",
       "            (layer): ReLU()\n",
       "          )\n",
       "        )\n",
       "        (dense2): LinearBlock(\n",
       "          (norm): Norm(\n",
       "            (layer): Identity()\n",
       "          )\n",
       "          (linear): Linear(in_features=3072, out_features=1536, bias=True)\n",
       "          (dropout): Dropout(\n",
       "            (layer): Dropout(p=0.4, inplace=False)\n",
       "          )\n",
       "          (act): Activation(\n",
       "            (layer): Identity()\n",
       "          )\n",
       "        )\n",
       "      )\n",
       "    )\n",
       "  )\n",
       ")"
      ]
     },
     "execution_count": 124,
     "metadata": {},
     "output_type": "execute_result"
    }
   ],
   "source": [
    "model.model.embedding.transformer_tower"
   ]
  },
  {
   "cell_type": "code",
   "execution_count": null,
   "id": "bf5ccc61",
   "metadata": {},
   "outputs": [],
   "source": []
  },
  {
   "cell_type": "code",
   "execution_count": null,
   "id": "72b85ec9",
   "metadata": {},
   "outputs": [],
   "source": []
  },
  {
   "cell_type": "code",
   "execution_count": 1,
   "id": "6271e541",
   "metadata": {},
   "outputs": [
    {
     "data": {
      "image/png": "[encoded data removed]",
      "text/plain": [
       "<Figure size 640x480 with 2 Axes>"
      ]
     },
     "metadata": {},
     "output_type": "display_data"
    }
   ],
   "source": [
    "import numpy as np\n",
    "import matplotlib.pyplot as plt\n",
    "\n",
    "# Generate a random 7x7 matrix\n",
    "matrix = np.random.rand(7, 7)\n",
    "\n",
    "# Plot the matrix\n",
    "plt.imshow(matrix, cmap='viridis')  # 'viridis' is a nice default colormap\n",
    "plt.colorbar(label='Value')         # Add a colorbar for reference\n",
    "plt.title('Random 7x7 Matrix')\n",
    "plt.show()\n"
   ]
  },
  {
   "cell_type": "code",
   "execution_count": null,
   "id": "77f6bc8b",
   "metadata": {},
   "outputs": [],
   "source": []
  },
  {
   "cell_type": "code",
   "execution_count": null,
   "id": "f899bd09",
   "metadata": {},
   "outputs": [],
   "source": []
  },
  {
   "cell_type": "code",
   "execution_count": null,
   "id": "7a59d756",
   "metadata": {},
   "outputs": [],
   "source": []
  }
 ],
 "metadata": {
  "kernelspec": {
   "display_name": "Python 3 (ipykernel)",
   "language": "python",
   "name": "python3"
  },
  "language_info": {
   "codemirror_mode": {
    "name": "ipython",
    "version": 3
   },
   "file_extension": ".py",
   "mimetype": "text/x-python",
   "name": "python",
   "nbconvert_exporter": "python",
   "pygments_lexer": "ipython3",
   "version": "3.11.0"
  }
 },
 "nbformat": 4,
 "nbformat_minor": 5
}
