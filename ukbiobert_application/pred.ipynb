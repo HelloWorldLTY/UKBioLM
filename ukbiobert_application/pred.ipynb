{
 "cells": [
  {
   "cell_type": "code",
   "execution_count": null,
   "metadata": {
    "vscode": {
     "languageId": "plaintext"
    }
   },
   "outputs": [],
   "source": [
    "import pandas as pd\n",
    "from sklearn.metrics import r2_score\n",
    "import scipy.stats\n",
    "import sklearn.metrics\n",
    "\n",
    "from sklearn.ensemble import RandomForestRegressor\n",
    "import pysam\n",
    "\n",
    "\n",
    "gene_name = \"ZFP57\"\n",
    "\n",
    "\n",
    "# Open the BCF file\n",
    "vcf_file = pysam.VariantFile(\"./data/VCF/GTEx_Analysis_2017-06-05_v8_WholeGenomeSeq_838Indiv_Analysis_Freeze_SNPsOnly.bcf.gz\", \"rb\") \n",
    "\n",
    "# Iterate over the variants\n",
    "variant_list = []\n",
    "for variant in vcf_file:\n",
    "    variant_list.append(variant.id)\n",
    "    break\n",
    "# Close the file\n",
    "vcf_file.close()\n",
    "\n",
    "data = sorted(variant.samples.keys())\n",
    "\n",
    "count = 0\n",
    "for i in data:\n",
    "    if i == 'GTEX-1LG7Y':\n",
    "        print(count)\n",
    "    count +=1\n",
    "\n",
    "gene_exp = pd.read_csv(\"/home/tl688/pitl688/enformer_fine_tuning/data/gtex_eqtl_expression_matrix/Whole_Blood.v8.normalized_expression_genesymbol.csv\", sep='\\t')\n",
    "\n",
    "df_gene_test = gene_exp[gene_exp['gene_symbol'].isin([gene_name])]\n",
    "idx_gene = df_gene_test.index\n",
    "\n",
    "idx_gene\n",
    "\n",
    "sample_name = list(variant.samples.keys())\n",
    "\n",
    "# sample_name\n",
    "\n",
    "import sklearn.linear_model\n",
    "\n",
    "gene_exp = pd.read_csv(\"/home/tl688/pitl688/enformer_fine_tuning/data/gtex_eqtl_expression_matrix/Whole_Blood.v8.normalized_expression_genesymbol.csv\", sep='\\t')\n",
    "\n",
    "import torch\n",
    "\n",
    "data_sample = torch.load(f\"/gpfs/radev/project/ying_rex/tl688/seq2cells/tests/{gene_name}_ukbiobert_emb_concat\")\n",
    "\n",
    "data_sample = data_sample.numpy()"
   ]
  },
  {
   "cell_type": "code",
   "execution_count": null,
   "metadata": {
    "vscode": {
     "languageId": "plaintext"
    }
   },
   "outputs": [],
   "source": []
  },
  {
   "cell_type": "code",
   "execution_count": null,
   "metadata": {
    "vscode": {
     "languageId": "plaintext"
    }
   },
   "outputs": [],
   "source": [
    "df_waittrain = pd.DataFrame(data_sample)\n",
    "\n",
    "inter_sample = sorted(set(list(gene_exp.columns[4:])).intersection(set(sample_name)))\n",
    "\n",
    "df_train_update = df_waittrain\n",
    "df_train_update.index = inter_sample\n",
    "\n",
    "df_train_update.index\n",
    "\n",
    "gene_exp_train = gene_exp[inter_sample]\n",
    "\n",
    "gene_exp_train\n",
    "\n",
    "import numpy as np\n",
    "from sklearn.model_selection import KFold\n",
    "kf = KFold(n_splits=5, random_state=2024, shuffle=True, )\n",
    "kf.get_n_splits(df_train_update.index)"
   ]
  },
  {
   "cell_type": "code",
   "execution_count": null,
   "metadata": {
    "vscode": {
     "languageId": "plaintext"
    }
   },
   "outputs": [],
   "source": [
    "#predict for a single gene\n",
    "data_list_corr = []\n",
    "data_list_r2 = []\n",
    "data_list_mse = []\n",
    "for i, (train_index, test_index) in enumerate(kf.split(df_train_update.index)):\n",
    "    train_id = df_train_update.index[train_index]\n",
    "    test_id = df_train_update.index[test_index]\n",
    "    np.random.seed(2024)\n",
    "    subsample = np.random.choice(train_id, int(proportion*len(train_id)), replace=False)\n",
    "    train_id = subsample\n",
    "\n",
    "    data_train = df_train_update.loc[train_id].values\n",
    "    y_train = gene_exp_train.loc[idx_gene,train_id].values[0]\n",
    "\n",
    "    data_test = df_train_update.loc[test_id].values\n",
    "    y_test = gene_exp_train.loc[idx_gene,test_id].values[0]\n",
    "\n",
    "    from sklearn.pipeline import Pipeline\n",
    "    from sklearn.feature_selection import VarianceThreshold\n",
    "    from sklearn.linear_model import ElasticNetCV\n",
    "\n",
    "    model = Pipeline([('elasticnet', ElasticNetCV(random_state=0, max_iter=2000))])\n",
    "    model.fit(data_train,y_train)\n",
    "\n",
    "    pred_out = model.predict(data_test)\n",
    "    corr,pval = scipy.stats.pearsonr(pred_out, y_test)\n",
    "    mse = sklearn.metrics.mean_squared_error(pred_out, y_test)\n",
    "    print(corr,r2_score(y_test, pred_out),mse)\n",
    "    data_list_corr.append(corr)\n",
    "    data_list_r2.append(r2_score(y_test, pred_out))\n",
    "    data_list_mse.append(mse)\n",
    "df = pd.DataFrame()\n",
    "df['corr'] = data_list_corr\n",
    "df['r2'] = data_list_r2\n",
    "df['mse'] = data_list_mse\n"
   ]
  },
  {
   "cell_type": "code",
   "execution_count": null,
   "metadata": {
    "vscode": {
     "languageId": "plaintext"
    }
   },
   "outputs": [],
   "source": [
    "#data efficient learning\n",
    "pred_list = []\n",
    "for proportion in [0.2,0.3,0.4,0.5,0.6,0.7,0.8,0.9, 1.0]:\n",
    "    data_list_corr = []\n",
    "    data_list_r2 = []\n",
    "    data_list_mse = []\n",
    "    for i, (train_index, test_index) in enumerate(kf.split(df_train_update.index)):\n",
    "        train_id = df_train_update.index[train_index]\n",
    "        test_id = df_train_update.index[test_index]\n",
    "        np.random.seed(2024)\n",
    "        subsample = np.random.choice(train_id, int(proportion*len(train_id)), replace=False)\n",
    "        train_id = subsample\n",
    "\n",
    "        data_train = df_train_update.loc[train_id].values\n",
    "        y_train = gene_exp_train.loc[idx_gene,train_id].values[0]\n",
    "\n",
    "        data_test = df_train_update.loc[test_id].values\n",
    "        y_test = gene_exp_train.loc[idx_gene,test_id].values[0]\n",
    "\n",
    "        from sklearn.pipeline import Pipeline\n",
    "        from sklearn.feature_selection import VarianceThreshold\n",
    "        from sklearn.linear_model import ElasticNetCV\n",
    "\n",
    "    #     model = Pipeline([('vt', VarianceThreshold()), ('elasticnet', ElasticNetCV(random_state=0, max_iter=2000))])\n",
    "    #     model = RandomForestRegressor()\n",
    "        model = Pipeline([('elasticnet', ElasticNetCV(random_state=0, max_iter=2000))])\n",
    "        model.fit(data_train,y_train)\n",
    "\n",
    "        pred_out = model.predict(data_test)\n",
    "        corr,pval = scipy.stats.pearsonr(pred_out, y_test)\n",
    "        mse = sklearn.metrics.mean_squared_error(pred_out, y_test)\n",
    "        print(corr,r2_score(y_test, pred_out),mse)\n",
    "        data_list_corr.append(corr)\n",
    "    pred_list.append(data_list_corr)\n",
    "\n",
    "for i in pred_list:\n",
    "    print(i)\n",
    "\n",
    "\n",
    "\n",
    "\n",
    "\n",
    "df = pd.DataFrame()\n",
    "df['corr'] = data_list_corr\n",
    "df['r2'] = data_list_r2\n",
    "df['mse'] = data_list_mse\n",
    "\n",
    "gene_name\n",
    "\n",
    "print(df['corr'])\n"
   ]
  }
 ],
 "metadata": {
  "language_info": {
   "name": "python"
  }
 },
 "nbformat": 4,
 "nbformat_minor": 2
}
