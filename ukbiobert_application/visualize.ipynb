{
 "cells": [
  {
   "cell_type": "code",
   "execution_count": null,
   "metadata": {
    "vscode": {
     "languageId": "plaintext"
    }
   },
   "outputs": [],
   "source": [
    "import pandas as pd\n",
    "\n",
    "gene_name = \"BTNL3\"\n",
    "\n",
    "import pysam\n",
    "\n",
    "# Open the BCF file\n",
    "vcf_file = pysam.VariantFile(\"/home/tl688/pitl688/enformer_fine_tuning/data/VCF/GTEx_Analysis_2017-06-05_v8_WholeGenomeSeq_838Indiv_Analysis_Freeze_SNPsOnly.bcf.gz\", \"rb\") \n",
    "\n",
    "# Iterate over the variants\n",
    "variant_list = []\n",
    "for variant in vcf_file:\n",
    "    variant_list.append(variant.id)\n",
    "    break\n",
    "# Close the file\n",
    "vcf_file.close()\n",
    "\n",
    "data = sorted(variant.samples.keys())\n",
    "\n",
    "count = 0\n",
    "for i in data:\n",
    "    if i == 'GTEX-1LG7Y':\n",
    "        print(count)\n",
    "    count +=1\n",
    "\n",
    "gene_exp = pd.read_csv(\"/home/tl688/pitl688/enformer_fine_tuning/data/gtex_eqtl_expression_matrix/Whole_Blood.v8.normalized_expression_genesymbol.csv\", sep='\\t')\n",
    "\n",
    "df_gene_test = gene_exp[gene_exp['gene_symbol'].isin([gene_name])]\n",
    "idx_gene = df_gene_test.index\n",
    "\n",
    "idx_gene\n",
    "\n",
    "sample_name = list(variant.samples.keys())\n",
    "\n",
    "# sample_name\n",
    "\n",
    "import sklearn.linear_model\n",
    "\n",
    "gene_exp = pd.read_csv(\"/home/tl688/pitl688/enformer_fine_tuning/data/gtex_eqtl_expression_matrix/Whole_Blood.v8.normalized_expression_genesymbol.csv\", sep='\\t')\n",
    "\n",
    "import torch\n",
    "\n",
    "data_sample = torch.load(f\"/gpfs/radev/project/ying_rex/tl688/seq2cells_code/tests/{gene_name}_ukbiobert_emb_concat_49000_mean.pkl\")\n",
    "\n",
    "data_sample = data_sample.numpy()"
   ]
  },
  {
   "cell_type": "code",
   "execution_count": null,
   "metadata": {
    "vscode": {
     "languageId": "plaintext"
    }
   },
   "outputs": [],
   "source": [
    "# df_waittrain = pd.DataFrame(data_sample)\n",
    "\n",
    "data_sample_new = (data_sample[:,0:1536//2] + data_sample[:,1536//2:]) / 2\n",
    "df_waittrain = pd.DataFrame(data_sample_new)\n",
    "\n",
    "inter_sample = sorted(set(list(gene_exp.columns[4:])).intersection(set(sample_name)))\n",
    "\n",
    "df_train_update = df_waittrain\n",
    "df_train_update.index = inter_sample\n",
    "\n",
    "df_train_update.index\n",
    "\n",
    "gene_exp_train = gene_exp[inter_sample]\n",
    "\n",
    "gene_exp_train\n",
    "\n",
    "import scanpy as sc\n",
    "\n",
    "adata = sc.AnnData(df_waittrain.values)\n",
    "\n",
    "adata.obs_names = list(gene_exp_train.columns)\n",
    "\n",
    "gene_exp_train.loc[idx_gene].values.shape\n",
    "\n",
    "adata.obs['expression'] = gene_exp_train.loc[idx_gene].values[0]"
   ]
  },
  {
   "cell_type": "code",
   "execution_count": null,
   "metadata": {
    "vscode": {
     "languageId": "plaintext"
    }
   },
   "outputs": [],
   "source": [
    "adata"
   ]
  },
  {
   "cell_type": "code",
   "execution_count": null,
   "metadata": {
    "vscode": {
     "languageId": "plaintext"
    }
   },
   "outputs": [],
   "source": [
    "\n",
    "sc.tl.pca(adata)\n",
    "sc.pp.neighbors(adata)\n",
    "\n",
    "sc.tl.umap(adata)\n",
    "\n",
    "sc.pl.umap(adata, color='expression')"
   ]
  }
 ],
 "metadata": {
  "language_info": {
   "name": "python"
  }
 },
 "nbformat": 4,
 "nbformat_minor": 2
}
